{
  "nbformat": 4,
  "nbformat_minor": 0,
  "metadata": {
    "colab": {
      "provenance": [],
      "mount_file_id": "1v3jHrgOnAru1m7qB8fLxGkZp1jE-dkiJ",
      "authorship_tag": "ABX9TyPctX9VOd+gSW8lMDnitJq4",
      "include_colab_link": true
    },
    "kernelspec": {
      "name": "python3",
      "display_name": "Python 3"
    },
    "language_info": {
      "name": "python"
    }
  },
  "cells": [
    {
      "cell_type": "markdown",
      "metadata": {
        "id": "view-in-github",
        "colab_type": "text"
      },
      "source": [
        "<a href=\"https://colab.research.google.com/github/hyonnys/Section2_project/blob/main/%5BS2_project%5DSurvivalRate_after_KidneyTransplant.ipynb\" target=\"_parent\"><img src=\"https://colab.research.google.com/assets/colab-badge.svg\" alt=\"Open In Colab\"/></a>"
      ]
    },
    {
      "cell_type": "markdown",
      "source": [
        "## Section2 / Project\n",
        "\n",
        "\n",
        "---\n",
        "## 📊 신장이식 생존율 예측"
      ],
      "metadata": {
        "id": "mmH0L5RIlXJD"
      }
    },
    {
      "cell_type": "markdown",
      "source": [
        "###📍 **상황설정**<br>\n",
        "- A병원은 신장 이식환자(수여자)의 생존율을 높이기 위해 노력해왔다. A병원은 이식 기준을 대기명단 등록일, HLA matching, PRA, 당뇨병, 나이를 설정하고 이식을 진행해왔다.\n",
        "- 그러나 최근 이식 전의 투석기간이 짧을 수록 이식 후의 생존율이 높아진다는 연구 결과가 발표되었다. 그래서 A병원은 이식 기준에 투석기간을 추가해야 될지 고민 중이다. 이를 검증하기 위해서 우리에게 의뢰하였다. \n",
        "- 따라서 우리는 실제로 투석기간이 짧은 수여자의 생존율이 투석기간이 긴 수여자들의 생존율보다 높은지 확인하고자 한다. \n",
        "<br>\n",
        "\n",
        "### 📍 **문제해결 필요성**<br>\n",
        "- 매년 신부전증으로 신장이식을 받아야 하는 환자가 지속적으로 증가하는 추세이다. 장기간 투석을 받는 것보다 조기에 신장이식 수술을 받는 것이 환자의 생존율과 삶의 질을 높일 수 있는 방법일 수 있다. \n",
        "- 따라서 투석 기간을 고려한 이식환자의 생존을 그렇지 않은 환자보다 높다면 더 많은 환자들을 살릴 수 있을 것이다. \n",
        "<br>\n",
        "\n",
        "### 📍**문제 접근유형**<br>\n",
        "- 분류 문제로 생존 여부를 예측하여 생존율을 구할 것이다. \n",
        "<br>\n",
        "\n",
        "### 📍**타겟 설정**<br>\n",
        "- 생존 여부 : **`death`**\n",
        "<br>\n",
        "\n",
        "### 📍**가설 설정**<br>\n",
        "<br>\n",
        "\n",
        "### 📍**도메인 지식**<br>\n",
        "- 인간의 면역체계는 본인 것이 아닌 이물질 항원을 인식하여 대항하는 반응을 기본으로 한다. 외부로부터 침입을 물리치는 기본 방법인 동시에 타인의 조직 또는 장기를 이식받을 때에는 장애가 되고 자가 면역 반응에 의해 질병을 일으키기도 한다. 즉, **_이식의 성공률을 높이기 위해서는 이와 같은 면역반응을 방지해야 하며 장기 공여자와 수혜자의 조직적합성이 중요하다. 조직적합성을 확인하는 HLA 항원 검사가 있다._**\n",
        "  - HLA 적합성은 이식 장기의 종류, 기저질환, 환자의 연령, 임상프로토콜 등에 따라 요구되는 적합성 수준에 차이가 있다.\n",
        "  - 사람은 총 12종의 HLA을 가지게 된다. \n",
        "  - 그 중 보통 HLA-A, HLA-B, HLA-DR 등 3개의 HLA 유전자좌를 검사한다. <br>   \n",
        "- **_수혈, 임신 또는 과거 장기이식을 통해 다른 사람의 HLA 항원에 이미 노출돼있는 상황_**에 놓인 환자는 HLA 항원에 대한 항체를 보유하고 있다. 이러한 HLA 항체에 반응하는 HLA 항원이 새로 이식되는 장기에 표현되어 있다면, 장기가 이식되자마자 수혜자의 항체에 의해 공격받을 것이다. 따라서 장기 이식 수혜자와 공여자 간의 조직적합성 평가를 위해 HLA 항원 뿐만 아니라 **_환자의 혈액 내에 존재하는 HLA 항체도 검사_**해야 한다. HLA 항체의 검출에는 아래와 같이 두 가지 방법이 사용된다. \n",
        "<br>\n",
        "\n",
        "**(1) HLA(Human Leukocyte Antigen; 인체조직적합항원) 교차시험**\n",
        "- 수혜자의 혈액 내에 공여자의 HLA 항원에 반응하는 항체가 존재하는지 여부를 검사하며, 이식 후의 거부반응을 방지하고 면역학적 위험인자로 작용하는 항체를 검출하기 위함이다. \n",
        "<br>\n",
        "\n",
        "**(2) PRA(Panel Reactive Antibody; 패널 반응성 항체) 검사** \n",
        "- 환자 혈청 내에 HLA 항원에 대한 IgG 항체의 존재 유무를 판별하기 위한 검사이다. HLA 항원을 아는 수십 명의 림프구 패널과 환자의 혈청을 반응시켜 패널반응항체 양성 여부를 판정한다. 이때 결과는 몇 퍼센트의 패널에서 반응하는지와 HLA 항체 특이성을 판정하여 보고된다. \n",
        "- 패널 반응 비율을 파악함으로써 교차시험 적합 공여자를 만날 수 있는 가능성과 장기이식 대기시간을 예측할 수 있다. 또한 HLA 항체 특이성을 파악하여 공여자 선정 시 피해야 하는 HLA 항원과 장기이식과는 상관없는 자가항체를 알 수 있어 위양성 결과를 내지 않도록 적절한 교차시험 방법을 선택할 수 있도록 한다. \n",
        "<br>\n",
        "\n",
        "※ 출처 : 네이버 블로그 [청해-의학](https://blog.naver.com/hyouncho2/221017760913)\n",
        "\n",
        "\n"
      ],
      "metadata": {
        "id": "9OUKjqmCl-tx"
      }
    },
    {
      "cell_type": "markdown",
      "source": [
        "## **1. Data Preprocessing - EDA & Feature Engineering**"
      ],
      "metadata": {
        "id": "2y76aDU-iMbL"
      }
    },
    {
      "cell_type": "markdown",
      "source": [
        "### **💡 데이터 불러오기 및 확인**"
      ],
      "metadata": {
        "id": "-6dLAR9dfZYU"
      }
    },
    {
      "cell_type": "code",
      "source": [
        "!pip install category_encoders  # 인코딩 라이브러리\n",
        "!pip3 install hyperopt          # 하이퍼파라미터 튜닝 라이브러리\n",
        "!pip install pdpbox             # 모델 해석(pdp) 라이브러리\n",
        "!pip install scikit-learn==1.1.3  # 사이킷런(ML모델생성) 라이브러리"
      ],
      "metadata": {
        "colab": {
          "base_uri": "https://localhost:8080/"
        },
        "id": "DfZh-QNq1ncQ",
        "outputId": "a7b8c349-e6fd-429a-bbb0-353a7d5733fe"
      },
      "execution_count": 2,
      "outputs": [
        {
          "output_type": "stream",
          "name": "stdout",
          "text": [
            "Looking in indexes: https://pypi.org/simple, https://us-python.pkg.dev/colab-wheels/public/simple/\n",
            "Collecting category_encoders\n",
            "  Downloading category_encoders-2.6.0-py2.py3-none-any.whl (81 kB)\n",
            "\u001b[2K     \u001b[90m━━━━━━━━━━━━━━━━━━━━━━━━━━━━━━━━━━━━━━━━\u001b[0m \u001b[32m81.2/81.2 kB\u001b[0m \u001b[31m3.5 MB/s\u001b[0m eta \u001b[36m0:00:00\u001b[0m\n",
            "\u001b[?25hRequirement already satisfied: pandas>=1.0.5 in /usr/local/lib/python3.9/dist-packages (from category_encoders) (1.5.3)\n",
            "Requirement already satisfied: statsmodels>=0.9.0 in /usr/local/lib/python3.9/dist-packages (from category_encoders) (0.13.5)\n",
            "Requirement already satisfied: scikit-learn>=0.20.0 in /usr/local/lib/python3.9/dist-packages (from category_encoders) (1.2.2)\n",
            "Requirement already satisfied: scipy>=1.0.0 in /usr/local/lib/python3.9/dist-packages (from category_encoders) (1.10.1)\n",
            "Requirement already satisfied: patsy>=0.5.1 in /usr/local/lib/python3.9/dist-packages (from category_encoders) (0.5.3)\n",
            "Requirement already satisfied: numpy>=1.14.0 in /usr/local/lib/python3.9/dist-packages (from category_encoders) (1.22.4)\n",
            "Requirement already satisfied: python-dateutil>=2.8.1 in /usr/local/lib/python3.9/dist-packages (from pandas>=1.0.5->category_encoders) (2.8.2)\n",
            "Requirement already satisfied: pytz>=2020.1 in /usr/local/lib/python3.9/dist-packages (from pandas>=1.0.5->category_encoders) (2022.7.1)\n",
            "Requirement already satisfied: six in /usr/local/lib/python3.9/dist-packages (from patsy>=0.5.1->category_encoders) (1.16.0)\n",
            "Requirement already satisfied: threadpoolctl>=2.0.0 in /usr/local/lib/python3.9/dist-packages (from scikit-learn>=0.20.0->category_encoders) (3.1.0)\n",
            "Requirement already satisfied: joblib>=1.1.1 in /usr/local/lib/python3.9/dist-packages (from scikit-learn>=0.20.0->category_encoders) (1.2.0)\n",
            "Requirement already satisfied: packaging>=21.3 in /usr/local/lib/python3.9/dist-packages (from statsmodels>=0.9.0->category_encoders) (23.0)\n",
            "Installing collected packages: category_encoders\n",
            "Successfully installed category_encoders-2.6.0\n",
            "Looking in indexes: https://pypi.org/simple, https://us-python.pkg.dev/colab-wheels/public/simple/\n",
            "Requirement already satisfied: hyperopt in /usr/local/lib/python3.9/dist-packages (0.2.7)\n",
            "Requirement already satisfied: scipy in /usr/local/lib/python3.9/dist-packages (from hyperopt) (1.10.1)\n",
            "Requirement already satisfied: py4j in /usr/local/lib/python3.9/dist-packages (from hyperopt) (0.10.9.7)\n",
            "Requirement already satisfied: six in /usr/local/lib/python3.9/dist-packages (from hyperopt) (1.16.0)\n",
            "Requirement already satisfied: numpy in /usr/local/lib/python3.9/dist-packages (from hyperopt) (1.22.4)\n",
            "Requirement already satisfied: cloudpickle in /usr/local/lib/python3.9/dist-packages (from hyperopt) (2.2.1)\n",
            "Requirement already satisfied: networkx>=2.2 in /usr/local/lib/python3.9/dist-packages (from hyperopt) (3.1)\n",
            "Requirement already satisfied: tqdm in /usr/local/lib/python3.9/dist-packages (from hyperopt) (4.65.0)\n",
            "Requirement already satisfied: future in /usr/local/lib/python3.9/dist-packages (from hyperopt) (0.18.3)\n",
            "Looking in indexes: https://pypi.org/simple, https://us-python.pkg.dev/colab-wheels/public/simple/\n",
            "Collecting pdpbox\n",
            "  Downloading PDPbox-0.2.1.tar.gz (34.0 MB)\n",
            "\u001b[2K     \u001b[90m━━━━━━━━━━━━━━━━━━━━━━━━━━━━━━━━━━━━━━━━\u001b[0m \u001b[32m34.0/34.0 MB\u001b[0m \u001b[31m21.8 MB/s\u001b[0m eta \u001b[36m0:00:00\u001b[0m\n",
            "\u001b[?25h  Preparing metadata (setup.py) ... \u001b[?25l\u001b[?25hdone\n",
            "Requirement already satisfied: pandas in /usr/local/lib/python3.9/dist-packages (from pdpbox) (1.5.3)\n",
            "Requirement already satisfied: numpy in /usr/local/lib/python3.9/dist-packages (from pdpbox) (1.22.4)\n",
            "Requirement already satisfied: scipy in /usr/local/lib/python3.9/dist-packages (from pdpbox) (1.10.1)\n",
            "Requirement already satisfied: joblib in /usr/local/lib/python3.9/dist-packages (from pdpbox) (1.2.0)\n",
            "Requirement already satisfied: psutil in /usr/local/lib/python3.9/dist-packages (from pdpbox) (5.9.4)\n",
            "Collecting matplotlib==3.1.1\n",
            "  Downloading matplotlib-3.1.1.tar.gz (37.8 MB)\n",
            "\u001b[2K     \u001b[90m━━━━━━━━━━━━━━━━━━━━━━━━━━━━━━━━━━━━━━━━\u001b[0m \u001b[32m37.8/37.8 MB\u001b[0m \u001b[31m13.7 MB/s\u001b[0m eta \u001b[36m0:00:00\u001b[0m\n",
            "\u001b[?25h  Preparing metadata (setup.py) ... \u001b[?25l\u001b[?25hdone\n",
            "Collecting sklearn\n",
            "  Downloading sklearn-0.0.post1.tar.gz (3.6 kB)\n",
            "  Preparing metadata (setup.py) ... \u001b[?25l\u001b[?25hdone\n",
            "Requirement already satisfied: cycler>=0.10 in /usr/local/lib/python3.9/dist-packages (from matplotlib==3.1.1->pdpbox) (0.11.0)\n",
            "Requirement already satisfied: kiwisolver>=1.0.1 in /usr/local/lib/python3.9/dist-packages (from matplotlib==3.1.1->pdpbox) (1.4.4)\n",
            "Requirement already satisfied: pyparsing!=2.0.4,!=2.1.2,!=2.1.6,>=2.0.1 in /usr/local/lib/python3.9/dist-packages (from matplotlib==3.1.1->pdpbox) (3.0.9)\n",
            "Requirement already satisfied: python-dateutil>=2.1 in /usr/local/lib/python3.9/dist-packages (from matplotlib==3.1.1->pdpbox) (2.8.2)\n",
            "Requirement already satisfied: pytz>=2020.1 in /usr/local/lib/python3.9/dist-packages (from pandas->pdpbox) (2022.7.1)\n",
            "Requirement already satisfied: six>=1.5 in /usr/local/lib/python3.9/dist-packages (from python-dateutil>=2.1->matplotlib==3.1.1->pdpbox) (1.16.0)\n",
            "Building wheels for collected packages: pdpbox, matplotlib, sklearn\n",
            "  Building wheel for pdpbox (setup.py) ... \u001b[?25l\u001b[?25hdone\n",
            "  Created wheel for pdpbox: filename=PDPbox-0.2.1-py3-none-any.whl size=35758224 sha256=7772bf6b6a9b1dcdcb08894fe5982d864c896383b95993001daecb2150061e15\n",
            "  Stored in directory: /root/.cache/pip/wheels/f2/5e/63/62e00a642415e064a55f53b5095ceb1420d24685125420d3ac\n",
            "  Building wheel for matplotlib (setup.py) ... \u001b[?25l\u001b[?25hdone\n",
            "  Created wheel for matplotlib: filename=matplotlib-3.1.1-cp39-cp39-linux_x86_64.whl size=12060121 sha256=0266e4afb3b8dc84a4c637f62a993a2fc005438216d5ca6b832a65842cfaab2e\n",
            "  Stored in directory: /root/.cache/pip/wheels/25/d0/ab/05f776f079a53f4c6a12c98220910f4d0d245609b8c673a5ad\n",
            "  Building wheel for sklearn (setup.py) ... \u001b[?25l\u001b[?25hdone\n",
            "  Created wheel for sklearn: filename=sklearn-0.0.post1-py3-none-any.whl size=2955 sha256=67c29e387658b57ddea07514ea1fe6a9002362d30aa6cdc90833816ba89e54aa\n",
            "  Stored in directory: /root/.cache/pip/wheels/f8/e0/3d/9d0c2020c44a519b9f02ab4fa6d2a4a996c98d79ab2f569fa1\n",
            "Successfully built pdpbox matplotlib sklearn\n",
            "Installing collected packages: sklearn, matplotlib, pdpbox\n",
            "  Attempting uninstall: matplotlib\n",
            "    Found existing installation: matplotlib 3.7.1\n",
            "    Uninstalling matplotlib-3.7.1:\n",
            "      Successfully uninstalled matplotlib-3.7.1\n",
            "\u001b[31mERROR: pip's dependency resolver does not currently take into account all the packages that are installed. This behaviour is the source of the following dependency conflicts.\n",
            "plotnine 0.10.1 requires matplotlib>=3.5.0, but you have matplotlib 3.1.1 which is incompatible.\n",
            "mizani 0.8.1 requires matplotlib>=3.5.0, but you have matplotlib 3.1.1 which is incompatible.\n",
            "arviz 0.15.1 requires matplotlib>=3.2, but you have matplotlib 3.1.1 which is incompatible.\u001b[0m\u001b[31m\n",
            "\u001b[0mSuccessfully installed matplotlib-3.1.1 pdpbox-0.2.1 sklearn-0.0.post1\n",
            "Looking in indexes: https://pypi.org/simple, https://us-python.pkg.dev/colab-wheels/public/simple/\n",
            "Collecting scikit-learn==1.1.3\n",
            "  Downloading scikit_learn-1.1.3-cp39-cp39-manylinux_2_17_x86_64.manylinux2014_x86_64.whl (30.8 MB)\n",
            "\u001b[2K     \u001b[90m━━━━━━━━━━━━━━━━━━━━━━━━━━━━━━━━━━━━━━━━\u001b[0m \u001b[32m30.8/30.8 MB\u001b[0m \u001b[31m16.1 MB/s\u001b[0m eta \u001b[36m0:00:00\u001b[0m\n",
            "\u001b[?25hRequirement already satisfied: threadpoolctl>=2.0.0 in /usr/local/lib/python3.9/dist-packages (from scikit-learn==1.1.3) (3.1.0)\n",
            "Requirement already satisfied: joblib>=1.0.0 in /usr/local/lib/python3.9/dist-packages (from scikit-learn==1.1.3) (1.2.0)\n",
            "Requirement already satisfied: scipy>=1.3.2 in /usr/local/lib/python3.9/dist-packages (from scikit-learn==1.1.3) (1.10.1)\n",
            "Requirement already satisfied: numpy>=1.17.3 in /usr/local/lib/python3.9/dist-packages (from scikit-learn==1.1.3) (1.22.4)\n",
            "Installing collected packages: scikit-learn\n",
            "  Attempting uninstall: scikit-learn\n",
            "    Found existing installation: scikit-learn 1.2.2\n",
            "    Uninstalling scikit-learn-1.2.2:\n",
            "      Successfully uninstalled scikit-learn-1.2.2\n",
            "Successfully installed scikit-learn-1.1.3\n"
          ]
        }
      ]
    },
    {
      "cell_type": "code",
      "source": [
        "import pandas as pd\n",
        "import numpy as np\n",
        "import matplotlib.pyplot as plt\n",
        "import seaborn as sns\n",
        "\n",
        "import warnings\n",
        "warnings.simplefilter(action='ignore')"
      ],
      "metadata": {
        "id": "i5tOlPwjXOoS"
      },
      "execution_count": 3,
      "outputs": []
    },
    {
      "cell_type": "code",
      "execution_count": 4,
      "metadata": {
        "id": "a6MUqSFpgHPs",
        "colab": {
          "base_uri": "https://localhost:8080/"
        },
        "outputId": "9c45c71b-4a21-412b-df7f-dc1a942d78e6"
      },
      "outputs": [
        {
          "output_type": "stream",
          "name": "stdout",
          "text": [
            "Drive already mounted at /content/drive; to attempt to forcibly remount, call drive.mount(\"/content/drive\", force_remount=True).\n"
          ]
        }
      ],
      "source": [
        "from google.colab import drive\n",
        "drive.mount('/content/drive')\n",
        "\n",
        "df = pd.read_csv('/content/drive/MyDrive/waitlist_kidney_brazil.csv', encoding='latin_1')"
      ]
    },
    {
      "cell_type": "code",
      "source": [
        "df.head().T"
      ],
      "metadata": {
        "id": "Hflf8N25hHGH",
        "colab": {
          "base_uri": "https://localhost:8080/",
          "height": 1000
        },
        "outputId": "c9e29537-1eeb-40b0-de1e-e4aadb1b9e5e"
      },
      "execution_count": 5,
      "outputs": [
        {
          "output_type": "execute_result",
          "data": {
            "text/plain": [
              "                                       0             1  \\\n",
              "Id                                     4             5   \n",
              "date                          2017-06-29    2008-11-03   \n",
              "age_at_list_registration              67            58   \n",
              "age_cat                         Maior.60       18.a.60   \n",
              "time_on_Dialysis                     1.0           4.0   \n",
              "race                              Branca        Branca   \n",
              "sex                                    M             M   \n",
              "underline_disease                 Outras      Diabetes   \n",
              "diabetes                               1             0   \n",
              "Blood_type                             A             A   \n",
              "number_transfusion                     0             0   \n",
              "gestation                            Não           Não   \n",
              "number_gestation                     NaN           NaN   \n",
              "prior_transplant                     Não           Não   \n",
              "number_prior_transplant                0             0   \n",
              "subregion                        UNIFESP       UNICAMP   \n",
              "cPRA                                   0             0   \n",
              "cPRA_cat                            Zero          Zero   \n",
              "HLA_A1                                 1             1   \n",
              "HLA_A2                                26            24   \n",
              "HLA_B1                                44            18   \n",
              "HLA_B2                                51            35   \n",
              "HLA_DR1                                3            11   \n",
              "HLA_DR2                                7             0   \n",
              "DR_00                       heterozigoto    homozigoto   \n",
              "B_00                        heterozigoto  heterozigoto   \n",
              "A_00                        heterozigoto  heterozigoto   \n",
              "calculated_frequency_DR.f1          0.18          0.23   \n",
              "calculated_frequency_DR.f2          0.22           0.0   \n",
              "calculated_frequency_DR.f           3.96           0.0   \n",
              "calculated_frequency_B.f1            0.2          0.09   \n",
              "calculated_frequency_B.f2           0.14          0.21   \n",
              "calculated_frequency_B.f             2.8          1.89   \n",
              "calculated_frequency_A.f1           0.17          0.17   \n",
              "calculated_frequency_A.f2           0.06          0.16   \n",
              "calculated_frequency_A.f            1.02          2.72   \n",
              "chagas                               Não           Não   \n",
              "anti.HBc                             Não           Não   \n",
              "anti.HCV                             Não           Não   \n",
              "agHBs                                Não           Não   \n",
              "patient_still_on_list                Sim           Não   \n",
              "date_acutal                        43307         43307   \n",
              "death                                Não           Sim   \n",
              "Time_death                            13            69   \n",
              "Transplant                           Não   Óbito Lista   \n",
              "Transplant_Y_N                       Não           Não   \n",
              "X36MthsTx                              0             0   \n",
              "Time_Tx                            13.07         68.87   \n",
              "priorization                         Não           Não   \n",
              "removed_list                         Não           Não   \n",
              "razon_removed                        NaN           NaN   \n",
              "time                                 392          2066   \n",
              "event                                  0             2   \n",
              "\n",
              "                                                         2  \\\n",
              "Id                                                       6   \n",
              "date                                            2010-07-13   \n",
              "age_at_list_registration                                51   \n",
              "age_cat                                            18.a.60   \n",
              "time_on_Dialysis                                       2.0   \n",
              "race                                                Branca   \n",
              "sex                                                      M   \n",
              "underline_disease                                      HAS   \n",
              "diabetes                                                 1   \n",
              "Blood_type                                               O   \n",
              "number_transfusion                                       0   \n",
              "gestation                                              Não   \n",
              "number_gestation                                       NaN   \n",
              "prior_transplant                                       Não   \n",
              "number_prior_transplant                                  0   \n",
              "subregion                                          UNIFESP   \n",
              "cPRA                                                    64   \n",
              "cPRA_cat                                       Entre_50_80   \n",
              "HLA_A1                                                  24   \n",
              "HLA_A2                                                  25   \n",
              "HLA_B1                                                  14   \n",
              "HLA_B2                                                  18   \n",
              "HLA_DR1                                                  1   \n",
              "HLA_DR2                                                 15   \n",
              "DR_00                                         heterozigoto   \n",
              "B_00                                          heterozigoto   \n",
              "A_00                                          heterozigoto   \n",
              "calculated_frequency_DR.f1                            0.19   \n",
              "calculated_frequency_DR.f2                            0.21   \n",
              "calculated_frequency_DR.f                             3.99   \n",
              "calculated_frequency_B.f1                              0.1   \n",
              "calculated_frequency_B.f2                             0.09   \n",
              "calculated_frequency_B.f                               0.9   \n",
              "calculated_frequency_A.f1                             0.16   \n",
              "calculated_frequency_A.f2                             0.02   \n",
              "calculated_frequency_A.f                              0.32   \n",
              "chagas                                                 Não   \n",
              "anti.HBc                                               Não   \n",
              "anti.HCV                                               Não   \n",
              "agHBs                                                  Não   \n",
              "patient_still_on_list                                  Não   \n",
              "date_acutal                                          43307   \n",
              "death                                                  Não   \n",
              "Time_death                                              98   \n",
              "Transplant                                             Não   \n",
              "Transplant_Y_N                                         Não   \n",
              "X36MthsTx                                                0   \n",
              "Time_Tx                                              12.17   \n",
              "priorization                                           Não   \n",
              "removed_list                                           Sim   \n",
              "razon_removed               Removido (suspenso > 365 dias)   \n",
              "time                                                   365   \n",
              "event                                                    3   \n",
              "\n",
              "                                                         3             4  \n",
              "Id                                                       7             8  \n",
              "date                                            2011-10-03    2006-07-05  \n",
              "age_at_list_registration                                52            67  \n",
              "age_cat                                            18.a.60      Maior.60  \n",
              "time_on_Dialysis                                      17.0          68.0  \n",
              "race                                                Branca         Parda  \n",
              "sex                                                      M             M  \n",
              "underline_disease                                 Diabetes           HAS  \n",
              "diabetes                                                 0             1  \n",
              "Blood_type                                               O             A  \n",
              "number_transfusion                                       0             0  \n",
              "gestation                                              Não           Não  \n",
              "number_gestation                                       NaN           NaN  \n",
              "prior_transplant                                       Sim           Não  \n",
              "number_prior_transplant                                  1             0  \n",
              "subregion                                          UNIFESP       UNIFESP  \n",
              "cPRA                                                     2             0  \n",
              "cPRA_cat                                        Entre_0_50          Zero  \n",
              "HLA_A1                                                  24            24  \n",
              "HLA_A2                                                  25            68  \n",
              "HLA_B1                                                  14            14  \n",
              "HLA_B2                                                  18            27  \n",
              "HLA_DR1                                                  1            13  \n",
              "HLA_DR2                                                 15            15  \n",
              "DR_00                                         heterozigoto  heterozigoto  \n",
              "B_00                                          heterozigoto  heterozigoto  \n",
              "A_00                                          heterozigoto  heterozigoto  \n",
              "calculated_frequency_DR.f1                            0.19          0.25  \n",
              "calculated_frequency_DR.f2                            0.21          0.21  \n",
              "calculated_frequency_DR.f                             3.99          5.25  \n",
              "calculated_frequency_B.f1                              0.1           0.1  \n",
              "calculated_frequency_B.f2                             0.09          0.04  \n",
              "calculated_frequency_B.f                               0.9           0.4  \n",
              "calculated_frequency_A.f1                             0.16          0.16  \n",
              "calculated_frequency_A.f2                             0.02          0.13  \n",
              "calculated_frequency_A.f                              0.32          2.08  \n",
              "chagas                                                 Não           Não  \n",
              "anti.HBc                                               Não           Não  \n",
              "anti.HCV                                               Não           Não  \n",
              "agHBs                                                  Não           Não  \n",
              "patient_still_on_list                                  Não           Não  \n",
              "date_acutal                                          43307         43307  \n",
              "death                                                  Não           Sim  \n",
              "Time_death                                              83             6  \n",
              "Transplant                                             Não   Óbito Lista  \n",
              "Transplant_Y_N                                         Não           Não  \n",
              "X36MthsTx                                                0             0  \n",
              "Time_Tx                                              12.17          6.47  \n",
              "priorization                                           Não           Não  \n",
              "removed_list                                           Sim           Não  \n",
              "razon_removed               Removido (suspenso > 365 dias)           NaN  \n",
              "time                                                   365           194  \n",
              "event                                                    3             2  "
            ],
            "text/html": [
              "\n",
              "  <div id=\"df-aa368682-4ba9-445f-b0e1-719716106b82\">\n",
              "    <div class=\"colab-df-container\">\n",
              "      <div>\n",
              "<style scoped>\n",
              "    .dataframe tbody tr th:only-of-type {\n",
              "        vertical-align: middle;\n",
              "    }\n",
              "\n",
              "    .dataframe tbody tr th {\n",
              "        vertical-align: top;\n",
              "    }\n",
              "\n",
              "    .dataframe thead th {\n",
              "        text-align: right;\n",
              "    }\n",
              "</style>\n",
              "<table border=\"1\" class=\"dataframe\">\n",
              "  <thead>\n",
              "    <tr style=\"text-align: right;\">\n",
              "      <th></th>\n",
              "      <th>0</th>\n",
              "      <th>1</th>\n",
              "      <th>2</th>\n",
              "      <th>3</th>\n",
              "      <th>4</th>\n",
              "    </tr>\n",
              "  </thead>\n",
              "  <tbody>\n",
              "    <tr>\n",
              "      <th>Id</th>\n",
              "      <td>4</td>\n",
              "      <td>5</td>\n",
              "      <td>6</td>\n",
              "      <td>7</td>\n",
              "      <td>8</td>\n",
              "    </tr>\n",
              "    <tr>\n",
              "      <th>date</th>\n",
              "      <td>2017-06-29</td>\n",
              "      <td>2008-11-03</td>\n",
              "      <td>2010-07-13</td>\n",
              "      <td>2011-10-03</td>\n",
              "      <td>2006-07-05</td>\n",
              "    </tr>\n",
              "    <tr>\n",
              "      <th>age_at_list_registration</th>\n",
              "      <td>67</td>\n",
              "      <td>58</td>\n",
              "      <td>51</td>\n",
              "      <td>52</td>\n",
              "      <td>67</td>\n",
              "    </tr>\n",
              "    <tr>\n",
              "      <th>age_cat</th>\n",
              "      <td>Maior.60</td>\n",
              "      <td>18.a.60</td>\n",
              "      <td>18.a.60</td>\n",
              "      <td>18.a.60</td>\n",
              "      <td>Maior.60</td>\n",
              "    </tr>\n",
              "    <tr>\n",
              "      <th>time_on_Dialysis</th>\n",
              "      <td>1.0</td>\n",
              "      <td>4.0</td>\n",
              "      <td>2.0</td>\n",
              "      <td>17.0</td>\n",
              "      <td>68.0</td>\n",
              "    </tr>\n",
              "    <tr>\n",
              "      <th>race</th>\n",
              "      <td>Branca</td>\n",
              "      <td>Branca</td>\n",
              "      <td>Branca</td>\n",
              "      <td>Branca</td>\n",
              "      <td>Parda</td>\n",
              "    </tr>\n",
              "    <tr>\n",
              "      <th>sex</th>\n",
              "      <td>M</td>\n",
              "      <td>M</td>\n",
              "      <td>M</td>\n",
              "      <td>M</td>\n",
              "      <td>M</td>\n",
              "    </tr>\n",
              "    <tr>\n",
              "      <th>underline_disease</th>\n",
              "      <td>Outras</td>\n",
              "      <td>Diabetes</td>\n",
              "      <td>HAS</td>\n",
              "      <td>Diabetes</td>\n",
              "      <td>HAS</td>\n",
              "    </tr>\n",
              "    <tr>\n",
              "      <th>diabetes</th>\n",
              "      <td>1</td>\n",
              "      <td>0</td>\n",
              "      <td>1</td>\n",
              "      <td>0</td>\n",
              "      <td>1</td>\n",
              "    </tr>\n",
              "    <tr>\n",
              "      <th>Blood_type</th>\n",
              "      <td>A</td>\n",
              "      <td>A</td>\n",
              "      <td>O</td>\n",
              "      <td>O</td>\n",
              "      <td>A</td>\n",
              "    </tr>\n",
              "    <tr>\n",
              "      <th>number_transfusion</th>\n",
              "      <td>0</td>\n",
              "      <td>0</td>\n",
              "      <td>0</td>\n",
              "      <td>0</td>\n",
              "      <td>0</td>\n",
              "    </tr>\n",
              "    <tr>\n",
              "      <th>gestation</th>\n",
              "      <td>Não</td>\n",
              "      <td>Não</td>\n",
              "      <td>Não</td>\n",
              "      <td>Não</td>\n",
              "      <td>Não</td>\n",
              "    </tr>\n",
              "    <tr>\n",
              "      <th>number_gestation</th>\n",
              "      <td>NaN</td>\n",
              "      <td>NaN</td>\n",
              "      <td>NaN</td>\n",
              "      <td>NaN</td>\n",
              "      <td>NaN</td>\n",
              "    </tr>\n",
              "    <tr>\n",
              "      <th>prior_transplant</th>\n",
              "      <td>Não</td>\n",
              "      <td>Não</td>\n",
              "      <td>Não</td>\n",
              "      <td>Sim</td>\n",
              "      <td>Não</td>\n",
              "    </tr>\n",
              "    <tr>\n",
              "      <th>number_prior_transplant</th>\n",
              "      <td>0</td>\n",
              "      <td>0</td>\n",
              "      <td>0</td>\n",
              "      <td>1</td>\n",
              "      <td>0</td>\n",
              "    </tr>\n",
              "    <tr>\n",
              "      <th>subregion</th>\n",
              "      <td>UNIFESP</td>\n",
              "      <td>UNICAMP</td>\n",
              "      <td>UNIFESP</td>\n",
              "      <td>UNIFESP</td>\n",
              "      <td>UNIFESP</td>\n",
              "    </tr>\n",
              "    <tr>\n",
              "      <th>cPRA</th>\n",
              "      <td>0</td>\n",
              "      <td>0</td>\n",
              "      <td>64</td>\n",
              "      <td>2</td>\n",
              "      <td>0</td>\n",
              "    </tr>\n",
              "    <tr>\n",
              "      <th>cPRA_cat</th>\n",
              "      <td>Zero</td>\n",
              "      <td>Zero</td>\n",
              "      <td>Entre_50_80</td>\n",
              "      <td>Entre_0_50</td>\n",
              "      <td>Zero</td>\n",
              "    </tr>\n",
              "    <tr>\n",
              "      <th>HLA_A1</th>\n",
              "      <td>1</td>\n",
              "      <td>1</td>\n",
              "      <td>24</td>\n",
              "      <td>24</td>\n",
              "      <td>24</td>\n",
              "    </tr>\n",
              "    <tr>\n",
              "      <th>HLA_A2</th>\n",
              "      <td>26</td>\n",
              "      <td>24</td>\n",
              "      <td>25</td>\n",
              "      <td>25</td>\n",
              "      <td>68</td>\n",
              "    </tr>\n",
              "    <tr>\n",
              "      <th>HLA_B1</th>\n",
              "      <td>44</td>\n",
              "      <td>18</td>\n",
              "      <td>14</td>\n",
              "      <td>14</td>\n",
              "      <td>14</td>\n",
              "    </tr>\n",
              "    <tr>\n",
              "      <th>HLA_B2</th>\n",
              "      <td>51</td>\n",
              "      <td>35</td>\n",
              "      <td>18</td>\n",
              "      <td>18</td>\n",
              "      <td>27</td>\n",
              "    </tr>\n",
              "    <tr>\n",
              "      <th>HLA_DR1</th>\n",
              "      <td>3</td>\n",
              "      <td>11</td>\n",
              "      <td>1</td>\n",
              "      <td>1</td>\n",
              "      <td>13</td>\n",
              "    </tr>\n",
              "    <tr>\n",
              "      <th>HLA_DR2</th>\n",
              "      <td>7</td>\n",
              "      <td>0</td>\n",
              "      <td>15</td>\n",
              "      <td>15</td>\n",
              "      <td>15</td>\n",
              "    </tr>\n",
              "    <tr>\n",
              "      <th>DR_00</th>\n",
              "      <td>heterozigoto</td>\n",
              "      <td>homozigoto</td>\n",
              "      <td>heterozigoto</td>\n",
              "      <td>heterozigoto</td>\n",
              "      <td>heterozigoto</td>\n",
              "    </tr>\n",
              "    <tr>\n",
              "      <th>B_00</th>\n",
              "      <td>heterozigoto</td>\n",
              "      <td>heterozigoto</td>\n",
              "      <td>heterozigoto</td>\n",
              "      <td>heterozigoto</td>\n",
              "      <td>heterozigoto</td>\n",
              "    </tr>\n",
              "    <tr>\n",
              "      <th>A_00</th>\n",
              "      <td>heterozigoto</td>\n",
              "      <td>heterozigoto</td>\n",
              "      <td>heterozigoto</td>\n",
              "      <td>heterozigoto</td>\n",
              "      <td>heterozigoto</td>\n",
              "    </tr>\n",
              "    <tr>\n",
              "      <th>calculated_frequency_DR.f1</th>\n",
              "      <td>0.18</td>\n",
              "      <td>0.23</td>\n",
              "      <td>0.19</td>\n",
              "      <td>0.19</td>\n",
              "      <td>0.25</td>\n",
              "    </tr>\n",
              "    <tr>\n",
              "      <th>calculated_frequency_DR.f2</th>\n",
              "      <td>0.22</td>\n",
              "      <td>0.0</td>\n",
              "      <td>0.21</td>\n",
              "      <td>0.21</td>\n",
              "      <td>0.21</td>\n",
              "    </tr>\n",
              "    <tr>\n",
              "      <th>calculated_frequency_DR.f</th>\n",
              "      <td>3.96</td>\n",
              "      <td>0.0</td>\n",
              "      <td>3.99</td>\n",
              "      <td>3.99</td>\n",
              "      <td>5.25</td>\n",
              "    </tr>\n",
              "    <tr>\n",
              "      <th>calculated_frequency_B.f1</th>\n",
              "      <td>0.2</td>\n",
              "      <td>0.09</td>\n",
              "      <td>0.1</td>\n",
              "      <td>0.1</td>\n",
              "      <td>0.1</td>\n",
              "    </tr>\n",
              "    <tr>\n",
              "      <th>calculated_frequency_B.f2</th>\n",
              "      <td>0.14</td>\n",
              "      <td>0.21</td>\n",
              "      <td>0.09</td>\n",
              "      <td>0.09</td>\n",
              "      <td>0.04</td>\n",
              "    </tr>\n",
              "    <tr>\n",
              "      <th>calculated_frequency_B.f</th>\n",
              "      <td>2.8</td>\n",
              "      <td>1.89</td>\n",
              "      <td>0.9</td>\n",
              "      <td>0.9</td>\n",
              "      <td>0.4</td>\n",
              "    </tr>\n",
              "    <tr>\n",
              "      <th>calculated_frequency_A.f1</th>\n",
              "      <td>0.17</td>\n",
              "      <td>0.17</td>\n",
              "      <td>0.16</td>\n",
              "      <td>0.16</td>\n",
              "      <td>0.16</td>\n",
              "    </tr>\n",
              "    <tr>\n",
              "      <th>calculated_frequency_A.f2</th>\n",
              "      <td>0.06</td>\n",
              "      <td>0.16</td>\n",
              "      <td>0.02</td>\n",
              "      <td>0.02</td>\n",
              "      <td>0.13</td>\n",
              "    </tr>\n",
              "    <tr>\n",
              "      <th>calculated_frequency_A.f</th>\n",
              "      <td>1.02</td>\n",
              "      <td>2.72</td>\n",
              "      <td>0.32</td>\n",
              "      <td>0.32</td>\n",
              "      <td>2.08</td>\n",
              "    </tr>\n",
              "    <tr>\n",
              "      <th>chagas</th>\n",
              "      <td>Não</td>\n",
              "      <td>Não</td>\n",
              "      <td>Não</td>\n",
              "      <td>Não</td>\n",
              "      <td>Não</td>\n",
              "    </tr>\n",
              "    <tr>\n",
              "      <th>anti.HBc</th>\n",
              "      <td>Não</td>\n",
              "      <td>Não</td>\n",
              "      <td>Não</td>\n",
              "      <td>Não</td>\n",
              "      <td>Não</td>\n",
              "    </tr>\n",
              "    <tr>\n",
              "      <th>anti.HCV</th>\n",
              "      <td>Não</td>\n",
              "      <td>Não</td>\n",
              "      <td>Não</td>\n",
              "      <td>Não</td>\n",
              "      <td>Não</td>\n",
              "    </tr>\n",
              "    <tr>\n",
              "      <th>agHBs</th>\n",
              "      <td>Não</td>\n",
              "      <td>Não</td>\n",
              "      <td>Não</td>\n",
              "      <td>Não</td>\n",
              "      <td>Não</td>\n",
              "    </tr>\n",
              "    <tr>\n",
              "      <th>patient_still_on_list</th>\n",
              "      <td>Sim</td>\n",
              "      <td>Não</td>\n",
              "      <td>Não</td>\n",
              "      <td>Não</td>\n",
              "      <td>Não</td>\n",
              "    </tr>\n",
              "    <tr>\n",
              "      <th>date_acutal</th>\n",
              "      <td>43307</td>\n",
              "      <td>43307</td>\n",
              "      <td>43307</td>\n",
              "      <td>43307</td>\n",
              "      <td>43307</td>\n",
              "    </tr>\n",
              "    <tr>\n",
              "      <th>death</th>\n",
              "      <td>Não</td>\n",
              "      <td>Sim</td>\n",
              "      <td>Não</td>\n",
              "      <td>Não</td>\n",
              "      <td>Sim</td>\n",
              "    </tr>\n",
              "    <tr>\n",
              "      <th>Time_death</th>\n",
              "      <td>13</td>\n",
              "      <td>69</td>\n",
              "      <td>98</td>\n",
              "      <td>83</td>\n",
              "      <td>6</td>\n",
              "    </tr>\n",
              "    <tr>\n",
              "      <th>Transplant</th>\n",
              "      <td>Não</td>\n",
              "      <td>Óbito Lista</td>\n",
              "      <td>Não</td>\n",
              "      <td>Não</td>\n",
              "      <td>Óbito Lista</td>\n",
              "    </tr>\n",
              "    <tr>\n",
              "      <th>Transplant_Y_N</th>\n",
              "      <td>Não</td>\n",
              "      <td>Não</td>\n",
              "      <td>Não</td>\n",
              "      <td>Não</td>\n",
              "      <td>Não</td>\n",
              "    </tr>\n",
              "    <tr>\n",
              "      <th>X36MthsTx</th>\n",
              "      <td>0</td>\n",
              "      <td>0</td>\n",
              "      <td>0</td>\n",
              "      <td>0</td>\n",
              "      <td>0</td>\n",
              "    </tr>\n",
              "    <tr>\n",
              "      <th>Time_Tx</th>\n",
              "      <td>13.07</td>\n",
              "      <td>68.87</td>\n",
              "      <td>12.17</td>\n",
              "      <td>12.17</td>\n",
              "      <td>6.47</td>\n",
              "    </tr>\n",
              "    <tr>\n",
              "      <th>priorization</th>\n",
              "      <td>Não</td>\n",
              "      <td>Não</td>\n",
              "      <td>Não</td>\n",
              "      <td>Não</td>\n",
              "      <td>Não</td>\n",
              "    </tr>\n",
              "    <tr>\n",
              "      <th>removed_list</th>\n",
              "      <td>Não</td>\n",
              "      <td>Não</td>\n",
              "      <td>Sim</td>\n",
              "      <td>Sim</td>\n",
              "      <td>Não</td>\n",
              "    </tr>\n",
              "    <tr>\n",
              "      <th>razon_removed</th>\n",
              "      <td>NaN</td>\n",
              "      <td>NaN</td>\n",
              "      <td>Removido (suspenso &gt; 365 dias)</td>\n",
              "      <td>Removido (suspenso &gt; 365 dias)</td>\n",
              "      <td>NaN</td>\n",
              "    </tr>\n",
              "    <tr>\n",
              "      <th>time</th>\n",
              "      <td>392</td>\n",
              "      <td>2066</td>\n",
              "      <td>365</td>\n",
              "      <td>365</td>\n",
              "      <td>194</td>\n",
              "    </tr>\n",
              "    <tr>\n",
              "      <th>event</th>\n",
              "      <td>0</td>\n",
              "      <td>2</td>\n",
              "      <td>3</td>\n",
              "      <td>3</td>\n",
              "      <td>2</td>\n",
              "    </tr>\n",
              "  </tbody>\n",
              "</table>\n",
              "</div>\n",
              "      <button class=\"colab-df-convert\" onclick=\"convertToInteractive('df-aa368682-4ba9-445f-b0e1-719716106b82')\"\n",
              "              title=\"Convert this dataframe to an interactive table.\"\n",
              "              style=\"display:none;\">\n",
              "        \n",
              "  <svg xmlns=\"http://www.w3.org/2000/svg\" height=\"24px\"viewBox=\"0 0 24 24\"\n",
              "       width=\"24px\">\n",
              "    <path d=\"M0 0h24v24H0V0z\" fill=\"none\"/>\n",
              "    <path d=\"M18.56 5.44l.94 2.06.94-2.06 2.06-.94-2.06-.94-.94-2.06-.94 2.06-2.06.94zm-11 1L8.5 8.5l.94-2.06 2.06-.94-2.06-.94L8.5 2.5l-.94 2.06-2.06.94zm10 10l.94 2.06.94-2.06 2.06-.94-2.06-.94-.94-2.06-.94 2.06-2.06.94z\"/><path d=\"M17.41 7.96l-1.37-1.37c-.4-.4-.92-.59-1.43-.59-.52 0-1.04.2-1.43.59L10.3 9.45l-7.72 7.72c-.78.78-.78 2.05 0 2.83L4 21.41c.39.39.9.59 1.41.59.51 0 1.02-.2 1.41-.59l7.78-7.78 2.81-2.81c.8-.78.8-2.07 0-2.86zM5.41 20L4 18.59l7.72-7.72 1.47 1.35L5.41 20z\"/>\n",
              "  </svg>\n",
              "      </button>\n",
              "      \n",
              "  <style>\n",
              "    .colab-df-container {\n",
              "      display:flex;\n",
              "      flex-wrap:wrap;\n",
              "      gap: 12px;\n",
              "    }\n",
              "\n",
              "    .colab-df-convert {\n",
              "      background-color: #E8F0FE;\n",
              "      border: none;\n",
              "      border-radius: 50%;\n",
              "      cursor: pointer;\n",
              "      display: none;\n",
              "      fill: #1967D2;\n",
              "      height: 32px;\n",
              "      padding: 0 0 0 0;\n",
              "      width: 32px;\n",
              "    }\n",
              "\n",
              "    .colab-df-convert:hover {\n",
              "      background-color: #E2EBFA;\n",
              "      box-shadow: 0px 1px 2px rgba(60, 64, 67, 0.3), 0px 1px 3px 1px rgba(60, 64, 67, 0.15);\n",
              "      fill: #174EA6;\n",
              "    }\n",
              "\n",
              "    [theme=dark] .colab-df-convert {\n",
              "      background-color: #3B4455;\n",
              "      fill: #D2E3FC;\n",
              "    }\n",
              "\n",
              "    [theme=dark] .colab-df-convert:hover {\n",
              "      background-color: #434B5C;\n",
              "      box-shadow: 0px 1px 3px 1px rgba(0, 0, 0, 0.15);\n",
              "      filter: drop-shadow(0px 1px 2px rgba(0, 0, 0, 0.3));\n",
              "      fill: #FFFFFF;\n",
              "    }\n",
              "  </style>\n",
              "\n",
              "      <script>\n",
              "        const buttonEl =\n",
              "          document.querySelector('#df-aa368682-4ba9-445f-b0e1-719716106b82 button.colab-df-convert');\n",
              "        buttonEl.style.display =\n",
              "          google.colab.kernel.accessAllowed ? 'block' : 'none';\n",
              "\n",
              "        async function convertToInteractive(key) {\n",
              "          const element = document.querySelector('#df-aa368682-4ba9-445f-b0e1-719716106b82');\n",
              "          const dataTable =\n",
              "            await google.colab.kernel.invokeFunction('convertToInteractive',\n",
              "                                                     [key], {});\n",
              "          if (!dataTable) return;\n",
              "\n",
              "          const docLinkHtml = 'Like what you see? Visit the ' +\n",
              "            '<a target=\"_blank\" href=https://colab.research.google.com/notebooks/data_table.ipynb>data table notebook</a>'\n",
              "            + ' to learn more about interactive tables.';\n",
              "          element.innerHTML = '';\n",
              "          dataTable['output_type'] = 'display_data';\n",
              "          await google.colab.output.renderOutput(dataTable, element);\n",
              "          const docLink = document.createElement('div');\n",
              "          docLink.innerHTML = docLinkHtml;\n",
              "          element.appendChild(docLink);\n",
              "        }\n",
              "      </script>\n",
              "    </div>\n",
              "  </div>\n",
              "  "
            ]
          },
          "metadata": {},
          "execution_count": 5
        }
      ]
    },
    {
      "cell_type": "code",
      "source": [
        "df.info()"
      ],
      "metadata": {
        "id": "yXv1ZB02iIDe",
        "colab": {
          "base_uri": "https://localhost:8080/"
        },
        "outputId": "437fff53-9ed0-47cc-cf04-dccfc5c080e0"
      },
      "execution_count": 6,
      "outputs": [
        {
          "output_type": "stream",
          "name": "stdout",
          "text": [
            "<class 'pandas.core.frame.DataFrame'>\n",
            "RangeIndex: 48153 entries, 0 to 48152\n",
            "Data columns (total 53 columns):\n",
            " #   Column                      Non-Null Count  Dtype  \n",
            "---  ------                      --------------  -----  \n",
            " 0   Id                          48153 non-null  int64  \n",
            " 1   date                        48153 non-null  object \n",
            " 2   age_at_list_registration    48153 non-null  int64  \n",
            " 3   age_cat                     48153 non-null  object \n",
            " 4   time_on_Dialysis            46817 non-null  float64\n",
            " 5   race                        48153 non-null  object \n",
            " 6   sex                         48153 non-null  object \n",
            " 7   underline_disease           48153 non-null  object \n",
            " 8   diabetes                    48153 non-null  int64  \n",
            " 9   Blood_type                  48153 non-null  object \n",
            " 10  number_transfusion          48153 non-null  int64  \n",
            " 11  gestation                   48153 non-null  object \n",
            " 12  number_gestation            19464 non-null  float64\n",
            " 13  prior_transplant            48153 non-null  object \n",
            " 14  number_prior_transplant     48153 non-null  int64  \n",
            " 15  subregion                   48153 non-null  object \n",
            " 16  cPRA                        48153 non-null  int64  \n",
            " 17  cPRA_cat                    48153 non-null  object \n",
            " 18  HLA_A1                      48153 non-null  int64  \n",
            " 19  HLA_A2                      48153 non-null  int64  \n",
            " 20  HLA_B1                      48153 non-null  int64  \n",
            " 21  HLA_B2                      48153 non-null  int64  \n",
            " 22  HLA_DR1                     48153 non-null  int64  \n",
            " 23  HLA_DR2                     48153 non-null  int64  \n",
            " 24  DR_00                       48153 non-null  object \n",
            " 25  B_00                        48153 non-null  object \n",
            " 26  A_00                        48153 non-null  object \n",
            " 27  calculated_frequency_DR.f1  48153 non-null  float64\n",
            " 28  calculated_frequency_DR.f2  48153 non-null  float64\n",
            " 29  calculated_frequency_DR.f   48153 non-null  float64\n",
            " 30  calculated_frequency_B.f1   48153 non-null  float64\n",
            " 31  calculated_frequency_B.f2   48153 non-null  float64\n",
            " 32  calculated_frequency_B.f    48153 non-null  float64\n",
            " 33  calculated_frequency_A.f1   48153 non-null  float64\n",
            " 34  calculated_frequency_A.f2   48153 non-null  float64\n",
            " 35  calculated_frequency_A.f    48153 non-null  float64\n",
            " 36  chagas                      44141 non-null  object \n",
            " 37  anti.HBc                    48153 non-null  object \n",
            " 38  anti.HCV                    44141 non-null  object \n",
            " 39  agHBs                       44141 non-null  object \n",
            " 40  patient_still_on_list       48153 non-null  object \n",
            " 41  date_acutal                 48153 non-null  int64  \n",
            " 42  death                       48153 non-null  object \n",
            " 43  Time_death                  48153 non-null  int64  \n",
            " 44  Transplant                  48153 non-null  object \n",
            " 45  Transplant_Y_N              48153 non-null  object \n",
            " 46  X36MthsTx                   48153 non-null  int64  \n",
            " 47  Time_Tx                     48153 non-null  float64\n",
            " 48  priorization                48153 non-null  object \n",
            " 49  removed_list                48153 non-null  object \n",
            " 50  razon_removed               15295 non-null  object \n",
            " 51  time                        48153 non-null  int64  \n",
            " 52  event                       48153 non-null  int64  \n",
            "dtypes: float64(12), int64(17), object(24)\n",
            "memory usage: 19.5+ MB\n"
          ]
        }
      ]
    },
    {
      "cell_type": "code",
      "source": [
        "# 포르투칼어 -> 영어 변환\n",
        "df.replace(to_replace='Não', value='No', inplace=True)\n",
        "df.replace(to_replace='Sim', value='Yes', inplace=True)\n",
        "df.replace(to_replace='Óbito Lista', value='Dead', inplace=True)\n",
        "df.replace(to_replace='homozigoto', value='homozygote', inplace=True)\n",
        "df.replace(to_replace='heterozigoto', value='heterozygote', inplace=True)\n",
        "df.replace(to_replace='Outras', value='others', inplace=True)\n",
        "df.replace(to_replace='HAS', value='HUS', inplace=True)\n",
        "df.replace(to_replace='GNC', value='GNS', inplace=True)\n",
        "df.replace(to_replace='Pielonefrite', value='PN', inplace=True)\n",
        "\n",
        "# 확인\n",
        "df.head(3).T"
      ],
      "metadata": {
        "id": "uoN1FRAguRmE",
        "colab": {
          "base_uri": "https://localhost:8080/",
          "height": 1000
        },
        "outputId": "e8ce1393-64d0-4a61-b1f9-c110ffbaf4ef"
      },
      "execution_count": 7,
      "outputs": [
        {
          "output_type": "execute_result",
          "data": {
            "text/plain": [
              "                                       0             1  \\\n",
              "Id                                     4             5   \n",
              "date                          2017-06-29    2008-11-03   \n",
              "age_at_list_registration              67            58   \n",
              "age_cat                         Maior.60       18.a.60   \n",
              "time_on_Dialysis                     1.0           4.0   \n",
              "race                              Branca        Branca   \n",
              "sex                                    M             M   \n",
              "underline_disease                 others      Diabetes   \n",
              "diabetes                               1             0   \n",
              "Blood_type                             A             A   \n",
              "number_transfusion                     0             0   \n",
              "gestation                             No            No   \n",
              "number_gestation                     NaN           NaN   \n",
              "prior_transplant                      No            No   \n",
              "number_prior_transplant                0             0   \n",
              "subregion                        UNIFESP       UNICAMP   \n",
              "cPRA                                   0             0   \n",
              "cPRA_cat                            Zero          Zero   \n",
              "HLA_A1                                 1             1   \n",
              "HLA_A2                                26            24   \n",
              "HLA_B1                                44            18   \n",
              "HLA_B2                                51            35   \n",
              "HLA_DR1                                3            11   \n",
              "HLA_DR2                                7             0   \n",
              "DR_00                       heterozygote    homozygote   \n",
              "B_00                        heterozygote  heterozygote   \n",
              "A_00                        heterozygote  heterozygote   \n",
              "calculated_frequency_DR.f1          0.18          0.23   \n",
              "calculated_frequency_DR.f2          0.22           0.0   \n",
              "calculated_frequency_DR.f           3.96           0.0   \n",
              "calculated_frequency_B.f1            0.2          0.09   \n",
              "calculated_frequency_B.f2           0.14          0.21   \n",
              "calculated_frequency_B.f             2.8          1.89   \n",
              "calculated_frequency_A.f1           0.17          0.17   \n",
              "calculated_frequency_A.f2           0.06          0.16   \n",
              "calculated_frequency_A.f            1.02          2.72   \n",
              "chagas                                No            No   \n",
              "anti.HBc                              No            No   \n",
              "anti.HCV                              No            No   \n",
              "agHBs                                 No            No   \n",
              "patient_still_on_list                Yes            No   \n",
              "date_acutal                        43307         43307   \n",
              "death                                 No           Yes   \n",
              "Time_death                            13            69   \n",
              "Transplant                            No          Dead   \n",
              "Transplant_Y_N                        No            No   \n",
              "X36MthsTx                              0             0   \n",
              "Time_Tx                            13.07         68.87   \n",
              "priorization                          No            No   \n",
              "removed_list                          No            No   \n",
              "razon_removed                        NaN           NaN   \n",
              "time                                 392          2066   \n",
              "event                                  0             2   \n",
              "\n",
              "                                                         2  \n",
              "Id                                                       6  \n",
              "date                                            2010-07-13  \n",
              "age_at_list_registration                                51  \n",
              "age_cat                                            18.a.60  \n",
              "time_on_Dialysis                                       2.0  \n",
              "race                                                Branca  \n",
              "sex                                                      M  \n",
              "underline_disease                                      HUS  \n",
              "diabetes                                                 1  \n",
              "Blood_type                                               O  \n",
              "number_transfusion                                       0  \n",
              "gestation                                               No  \n",
              "number_gestation                                       NaN  \n",
              "prior_transplant                                        No  \n",
              "number_prior_transplant                                  0  \n",
              "subregion                                          UNIFESP  \n",
              "cPRA                                                    64  \n",
              "cPRA_cat                                       Entre_50_80  \n",
              "HLA_A1                                                  24  \n",
              "HLA_A2                                                  25  \n",
              "HLA_B1                                                  14  \n",
              "HLA_B2                                                  18  \n",
              "HLA_DR1                                                  1  \n",
              "HLA_DR2                                                 15  \n",
              "DR_00                                         heterozygote  \n",
              "B_00                                          heterozygote  \n",
              "A_00                                          heterozygote  \n",
              "calculated_frequency_DR.f1                            0.19  \n",
              "calculated_frequency_DR.f2                            0.21  \n",
              "calculated_frequency_DR.f                             3.99  \n",
              "calculated_frequency_B.f1                              0.1  \n",
              "calculated_frequency_B.f2                             0.09  \n",
              "calculated_frequency_B.f                               0.9  \n",
              "calculated_frequency_A.f1                             0.16  \n",
              "calculated_frequency_A.f2                             0.02  \n",
              "calculated_frequency_A.f                              0.32  \n",
              "chagas                                                  No  \n",
              "anti.HBc                                                No  \n",
              "anti.HCV                                                No  \n",
              "agHBs                                                   No  \n",
              "patient_still_on_list                                   No  \n",
              "date_acutal                                          43307  \n",
              "death                                                   No  \n",
              "Time_death                                              98  \n",
              "Transplant                                              No  \n",
              "Transplant_Y_N                                          No  \n",
              "X36MthsTx                                                0  \n",
              "Time_Tx                                              12.17  \n",
              "priorization                                            No  \n",
              "removed_list                                           Yes  \n",
              "razon_removed               Removido (suspenso > 365 dias)  \n",
              "time                                                   365  \n",
              "event                                                    3  "
            ],
            "text/html": [
              "\n",
              "  <div id=\"df-472defe8-5fbf-43f7-bf74-6b0e129cc8fb\">\n",
              "    <div class=\"colab-df-container\">\n",
              "      <div>\n",
              "<style scoped>\n",
              "    .dataframe tbody tr th:only-of-type {\n",
              "        vertical-align: middle;\n",
              "    }\n",
              "\n",
              "    .dataframe tbody tr th {\n",
              "        vertical-align: top;\n",
              "    }\n",
              "\n",
              "    .dataframe thead th {\n",
              "        text-align: right;\n",
              "    }\n",
              "</style>\n",
              "<table border=\"1\" class=\"dataframe\">\n",
              "  <thead>\n",
              "    <tr style=\"text-align: right;\">\n",
              "      <th></th>\n",
              "      <th>0</th>\n",
              "      <th>1</th>\n",
              "      <th>2</th>\n",
              "    </tr>\n",
              "  </thead>\n",
              "  <tbody>\n",
              "    <tr>\n",
              "      <th>Id</th>\n",
              "      <td>4</td>\n",
              "      <td>5</td>\n",
              "      <td>6</td>\n",
              "    </tr>\n",
              "    <tr>\n",
              "      <th>date</th>\n",
              "      <td>2017-06-29</td>\n",
              "      <td>2008-11-03</td>\n",
              "      <td>2010-07-13</td>\n",
              "    </tr>\n",
              "    <tr>\n",
              "      <th>age_at_list_registration</th>\n",
              "      <td>67</td>\n",
              "      <td>58</td>\n",
              "      <td>51</td>\n",
              "    </tr>\n",
              "    <tr>\n",
              "      <th>age_cat</th>\n",
              "      <td>Maior.60</td>\n",
              "      <td>18.a.60</td>\n",
              "      <td>18.a.60</td>\n",
              "    </tr>\n",
              "    <tr>\n",
              "      <th>time_on_Dialysis</th>\n",
              "      <td>1.0</td>\n",
              "      <td>4.0</td>\n",
              "      <td>2.0</td>\n",
              "    </tr>\n",
              "    <tr>\n",
              "      <th>race</th>\n",
              "      <td>Branca</td>\n",
              "      <td>Branca</td>\n",
              "      <td>Branca</td>\n",
              "    </tr>\n",
              "    <tr>\n",
              "      <th>sex</th>\n",
              "      <td>M</td>\n",
              "      <td>M</td>\n",
              "      <td>M</td>\n",
              "    </tr>\n",
              "    <tr>\n",
              "      <th>underline_disease</th>\n",
              "      <td>others</td>\n",
              "      <td>Diabetes</td>\n",
              "      <td>HUS</td>\n",
              "    </tr>\n",
              "    <tr>\n",
              "      <th>diabetes</th>\n",
              "      <td>1</td>\n",
              "      <td>0</td>\n",
              "      <td>1</td>\n",
              "    </tr>\n",
              "    <tr>\n",
              "      <th>Blood_type</th>\n",
              "      <td>A</td>\n",
              "      <td>A</td>\n",
              "      <td>O</td>\n",
              "    </tr>\n",
              "    <tr>\n",
              "      <th>number_transfusion</th>\n",
              "      <td>0</td>\n",
              "      <td>0</td>\n",
              "      <td>0</td>\n",
              "    </tr>\n",
              "    <tr>\n",
              "      <th>gestation</th>\n",
              "      <td>No</td>\n",
              "      <td>No</td>\n",
              "      <td>No</td>\n",
              "    </tr>\n",
              "    <tr>\n",
              "      <th>number_gestation</th>\n",
              "      <td>NaN</td>\n",
              "      <td>NaN</td>\n",
              "      <td>NaN</td>\n",
              "    </tr>\n",
              "    <tr>\n",
              "      <th>prior_transplant</th>\n",
              "      <td>No</td>\n",
              "      <td>No</td>\n",
              "      <td>No</td>\n",
              "    </tr>\n",
              "    <tr>\n",
              "      <th>number_prior_transplant</th>\n",
              "      <td>0</td>\n",
              "      <td>0</td>\n",
              "      <td>0</td>\n",
              "    </tr>\n",
              "    <tr>\n",
              "      <th>subregion</th>\n",
              "      <td>UNIFESP</td>\n",
              "      <td>UNICAMP</td>\n",
              "      <td>UNIFESP</td>\n",
              "    </tr>\n",
              "    <tr>\n",
              "      <th>cPRA</th>\n",
              "      <td>0</td>\n",
              "      <td>0</td>\n",
              "      <td>64</td>\n",
              "    </tr>\n",
              "    <tr>\n",
              "      <th>cPRA_cat</th>\n",
              "      <td>Zero</td>\n",
              "      <td>Zero</td>\n",
              "      <td>Entre_50_80</td>\n",
              "    </tr>\n",
              "    <tr>\n",
              "      <th>HLA_A1</th>\n",
              "      <td>1</td>\n",
              "      <td>1</td>\n",
              "      <td>24</td>\n",
              "    </tr>\n",
              "    <tr>\n",
              "      <th>HLA_A2</th>\n",
              "      <td>26</td>\n",
              "      <td>24</td>\n",
              "      <td>25</td>\n",
              "    </tr>\n",
              "    <tr>\n",
              "      <th>HLA_B1</th>\n",
              "      <td>44</td>\n",
              "      <td>18</td>\n",
              "      <td>14</td>\n",
              "    </tr>\n",
              "    <tr>\n",
              "      <th>HLA_B2</th>\n",
              "      <td>51</td>\n",
              "      <td>35</td>\n",
              "      <td>18</td>\n",
              "    </tr>\n",
              "    <tr>\n",
              "      <th>HLA_DR1</th>\n",
              "      <td>3</td>\n",
              "      <td>11</td>\n",
              "      <td>1</td>\n",
              "    </tr>\n",
              "    <tr>\n",
              "      <th>HLA_DR2</th>\n",
              "      <td>7</td>\n",
              "      <td>0</td>\n",
              "      <td>15</td>\n",
              "    </tr>\n",
              "    <tr>\n",
              "      <th>DR_00</th>\n",
              "      <td>heterozygote</td>\n",
              "      <td>homozygote</td>\n",
              "      <td>heterozygote</td>\n",
              "    </tr>\n",
              "    <tr>\n",
              "      <th>B_00</th>\n",
              "      <td>heterozygote</td>\n",
              "      <td>heterozygote</td>\n",
              "      <td>heterozygote</td>\n",
              "    </tr>\n",
              "    <tr>\n",
              "      <th>A_00</th>\n",
              "      <td>heterozygote</td>\n",
              "      <td>heterozygote</td>\n",
              "      <td>heterozygote</td>\n",
              "    </tr>\n",
              "    <tr>\n",
              "      <th>calculated_frequency_DR.f1</th>\n",
              "      <td>0.18</td>\n",
              "      <td>0.23</td>\n",
              "      <td>0.19</td>\n",
              "    </tr>\n",
              "    <tr>\n",
              "      <th>calculated_frequency_DR.f2</th>\n",
              "      <td>0.22</td>\n",
              "      <td>0.0</td>\n",
              "      <td>0.21</td>\n",
              "    </tr>\n",
              "    <tr>\n",
              "      <th>calculated_frequency_DR.f</th>\n",
              "      <td>3.96</td>\n",
              "      <td>0.0</td>\n",
              "      <td>3.99</td>\n",
              "    </tr>\n",
              "    <tr>\n",
              "      <th>calculated_frequency_B.f1</th>\n",
              "      <td>0.2</td>\n",
              "      <td>0.09</td>\n",
              "      <td>0.1</td>\n",
              "    </tr>\n",
              "    <tr>\n",
              "      <th>calculated_frequency_B.f2</th>\n",
              "      <td>0.14</td>\n",
              "      <td>0.21</td>\n",
              "      <td>0.09</td>\n",
              "    </tr>\n",
              "    <tr>\n",
              "      <th>calculated_frequency_B.f</th>\n",
              "      <td>2.8</td>\n",
              "      <td>1.89</td>\n",
              "      <td>0.9</td>\n",
              "    </tr>\n",
              "    <tr>\n",
              "      <th>calculated_frequency_A.f1</th>\n",
              "      <td>0.17</td>\n",
              "      <td>0.17</td>\n",
              "      <td>0.16</td>\n",
              "    </tr>\n",
              "    <tr>\n",
              "      <th>calculated_frequency_A.f2</th>\n",
              "      <td>0.06</td>\n",
              "      <td>0.16</td>\n",
              "      <td>0.02</td>\n",
              "    </tr>\n",
              "    <tr>\n",
              "      <th>calculated_frequency_A.f</th>\n",
              "      <td>1.02</td>\n",
              "      <td>2.72</td>\n",
              "      <td>0.32</td>\n",
              "    </tr>\n",
              "    <tr>\n",
              "      <th>chagas</th>\n",
              "      <td>No</td>\n",
              "      <td>No</td>\n",
              "      <td>No</td>\n",
              "    </tr>\n",
              "    <tr>\n",
              "      <th>anti.HBc</th>\n",
              "      <td>No</td>\n",
              "      <td>No</td>\n",
              "      <td>No</td>\n",
              "    </tr>\n",
              "    <tr>\n",
              "      <th>anti.HCV</th>\n",
              "      <td>No</td>\n",
              "      <td>No</td>\n",
              "      <td>No</td>\n",
              "    </tr>\n",
              "    <tr>\n",
              "      <th>agHBs</th>\n",
              "      <td>No</td>\n",
              "      <td>No</td>\n",
              "      <td>No</td>\n",
              "    </tr>\n",
              "    <tr>\n",
              "      <th>patient_still_on_list</th>\n",
              "      <td>Yes</td>\n",
              "      <td>No</td>\n",
              "      <td>No</td>\n",
              "    </tr>\n",
              "    <tr>\n",
              "      <th>date_acutal</th>\n",
              "      <td>43307</td>\n",
              "      <td>43307</td>\n",
              "      <td>43307</td>\n",
              "    </tr>\n",
              "    <tr>\n",
              "      <th>death</th>\n",
              "      <td>No</td>\n",
              "      <td>Yes</td>\n",
              "      <td>No</td>\n",
              "    </tr>\n",
              "    <tr>\n",
              "      <th>Time_death</th>\n",
              "      <td>13</td>\n",
              "      <td>69</td>\n",
              "      <td>98</td>\n",
              "    </tr>\n",
              "    <tr>\n",
              "      <th>Transplant</th>\n",
              "      <td>No</td>\n",
              "      <td>Dead</td>\n",
              "      <td>No</td>\n",
              "    </tr>\n",
              "    <tr>\n",
              "      <th>Transplant_Y_N</th>\n",
              "      <td>No</td>\n",
              "      <td>No</td>\n",
              "      <td>No</td>\n",
              "    </tr>\n",
              "    <tr>\n",
              "      <th>X36MthsTx</th>\n",
              "      <td>0</td>\n",
              "      <td>0</td>\n",
              "      <td>0</td>\n",
              "    </tr>\n",
              "    <tr>\n",
              "      <th>Time_Tx</th>\n",
              "      <td>13.07</td>\n",
              "      <td>68.87</td>\n",
              "      <td>12.17</td>\n",
              "    </tr>\n",
              "    <tr>\n",
              "      <th>priorization</th>\n",
              "      <td>No</td>\n",
              "      <td>No</td>\n",
              "      <td>No</td>\n",
              "    </tr>\n",
              "    <tr>\n",
              "      <th>removed_list</th>\n",
              "      <td>No</td>\n",
              "      <td>No</td>\n",
              "      <td>Yes</td>\n",
              "    </tr>\n",
              "    <tr>\n",
              "      <th>razon_removed</th>\n",
              "      <td>NaN</td>\n",
              "      <td>NaN</td>\n",
              "      <td>Removido (suspenso &gt; 365 dias)</td>\n",
              "    </tr>\n",
              "    <tr>\n",
              "      <th>time</th>\n",
              "      <td>392</td>\n",
              "      <td>2066</td>\n",
              "      <td>365</td>\n",
              "    </tr>\n",
              "    <tr>\n",
              "      <th>event</th>\n",
              "      <td>0</td>\n",
              "      <td>2</td>\n",
              "      <td>3</td>\n",
              "    </tr>\n",
              "  </tbody>\n",
              "</table>\n",
              "</div>\n",
              "      <button class=\"colab-df-convert\" onclick=\"convertToInteractive('df-472defe8-5fbf-43f7-bf74-6b0e129cc8fb')\"\n",
              "              title=\"Convert this dataframe to an interactive table.\"\n",
              "              style=\"display:none;\">\n",
              "        \n",
              "  <svg xmlns=\"http://www.w3.org/2000/svg\" height=\"24px\"viewBox=\"0 0 24 24\"\n",
              "       width=\"24px\">\n",
              "    <path d=\"M0 0h24v24H0V0z\" fill=\"none\"/>\n",
              "    <path d=\"M18.56 5.44l.94 2.06.94-2.06 2.06-.94-2.06-.94-.94-2.06-.94 2.06-2.06.94zm-11 1L8.5 8.5l.94-2.06 2.06-.94-2.06-.94L8.5 2.5l-.94 2.06-2.06.94zm10 10l.94 2.06.94-2.06 2.06-.94-2.06-.94-.94-2.06-.94 2.06-2.06.94z\"/><path d=\"M17.41 7.96l-1.37-1.37c-.4-.4-.92-.59-1.43-.59-.52 0-1.04.2-1.43.59L10.3 9.45l-7.72 7.72c-.78.78-.78 2.05 0 2.83L4 21.41c.39.39.9.59 1.41.59.51 0 1.02-.2 1.41-.59l7.78-7.78 2.81-2.81c.8-.78.8-2.07 0-2.86zM5.41 20L4 18.59l7.72-7.72 1.47 1.35L5.41 20z\"/>\n",
              "  </svg>\n",
              "      </button>\n",
              "      \n",
              "  <style>\n",
              "    .colab-df-container {\n",
              "      display:flex;\n",
              "      flex-wrap:wrap;\n",
              "      gap: 12px;\n",
              "    }\n",
              "\n",
              "    .colab-df-convert {\n",
              "      background-color: #E8F0FE;\n",
              "      border: none;\n",
              "      border-radius: 50%;\n",
              "      cursor: pointer;\n",
              "      display: none;\n",
              "      fill: #1967D2;\n",
              "      height: 32px;\n",
              "      padding: 0 0 0 0;\n",
              "      width: 32px;\n",
              "    }\n",
              "\n",
              "    .colab-df-convert:hover {\n",
              "      background-color: #E2EBFA;\n",
              "      box-shadow: 0px 1px 2px rgba(60, 64, 67, 0.3), 0px 1px 3px 1px rgba(60, 64, 67, 0.15);\n",
              "      fill: #174EA6;\n",
              "    }\n",
              "\n",
              "    [theme=dark] .colab-df-convert {\n",
              "      background-color: #3B4455;\n",
              "      fill: #D2E3FC;\n",
              "    }\n",
              "\n",
              "    [theme=dark] .colab-df-convert:hover {\n",
              "      background-color: #434B5C;\n",
              "      box-shadow: 0px 1px 3px 1px rgba(0, 0, 0, 0.15);\n",
              "      filter: drop-shadow(0px 1px 2px rgba(0, 0, 0, 0.3));\n",
              "      fill: #FFFFFF;\n",
              "    }\n",
              "  </style>\n",
              "\n",
              "      <script>\n",
              "        const buttonEl =\n",
              "          document.querySelector('#df-472defe8-5fbf-43f7-bf74-6b0e129cc8fb button.colab-df-convert');\n",
              "        buttonEl.style.display =\n",
              "          google.colab.kernel.accessAllowed ? 'block' : 'none';\n",
              "\n",
              "        async function convertToInteractive(key) {\n",
              "          const element = document.querySelector('#df-472defe8-5fbf-43f7-bf74-6b0e129cc8fb');\n",
              "          const dataTable =\n",
              "            await google.colab.kernel.invokeFunction('convertToInteractive',\n",
              "                                                     [key], {});\n",
              "          if (!dataTable) return;\n",
              "\n",
              "          const docLinkHtml = 'Like what you see? Visit the ' +\n",
              "            '<a target=\"_blank\" href=https://colab.research.google.com/notebooks/data_table.ipynb>data table notebook</a>'\n",
              "            + ' to learn more about interactive tables.';\n",
              "          element.innerHTML = '';\n",
              "          dataTable['output_type'] = 'display_data';\n",
              "          await google.colab.output.renderOutput(dataTable, element);\n",
              "          const docLink = document.createElement('div');\n",
              "          docLink.innerHTML = docLinkHtml;\n",
              "          element.appendChild(docLink);\n",
              "        }\n",
              "      </script>\n",
              "    </div>\n",
              "  </div>\n",
              "  "
            ]
          },
          "metadata": {},
          "execution_count": 7
        }
      ]
    },
    {
      "cell_type": "code",
      "source": [
        "# 특성명 변경(. -> _)\n",
        "cols_rename = {'anti.HBc':'anti_HBc', 'anti.HCV':'anti_HCV'}\n",
        "df.rename(columns=cols_rename, inplace=True)"
      ],
      "metadata": {
        "id": "WD5YGWgfumaM"
      },
      "execution_count": 8,
      "outputs": []
    },
    {
      "cell_type": "markdown",
      "source": [
        "> 🔎 **해설**<br>\n",
        "- 브라질에서 실시된 장기이식 리스트 조사 결과이기 때문에 포르투칼어로 되어 있는 데이터를 **`영어로 변환`**한다.\n",
        "- 오류 방지를 위해 **`.`**와 같이 마침표를 사용한 특성명을 **`_`**로 변환한다.  "
      ],
      "metadata": {
        "id": "xeGfKlAekdTe"
      }
    },
    {
      "cell_type": "markdown",
      "source": [
        "### **💡 결측치 처리 및 중복값 확인**<br>\n",
        "(1) 제거\n",
        "  - `razon_removed` 과 `number_gestation` : 절반 이상의 결측치가 있기 때문에 **제거**한다. \n",
        "  - `agHBs`(B형 간염바이러스 표면항원) : 보통의 사람들은 위의 특성과 같이 해당 바이러스에 감염되지 않으므로 NO로 처리해야 함이 맞다. 그러나 NO의 개수가 99% 이상인 상황에서 나머지의 결측치를 NO로 대체하는 것은 통계적 의미가 없으므로 해당 특성은 **제거**한다. \n",
        "  - `chagas`(샤가스병) : 위의 특성과 같이 NO의 개수가 99% 이상을 차지하므로 해당 특성 또한 **제거**한다.\n",
        "  <br>\n",
        "\n",
        "(2) 대체 \n",
        "  - `time_on_Dialysis`(투석 기간) : 이식 대기명단에 이름을 올린다는 것은 신장이 제기능을 못하여 이식이 필요한 정도라는 것을 의미한다. 따라서, 그 환자는 이식 전까지 투석을 해야하는 것으로 간주하여 해당 특성의 **결측치는 1로 대체**할 것이다.  \n",
        "  - `anti_HCV`(C형 간염바이러스 항체) : 보통의 사람들은 해당 바이러스에 감염되지 않으므로 **결측치를 NO로** 간주하여 대체한다. "
      ],
      "metadata": {
        "id": "GdZgbWqlkMGI"
      }
    },
    {
      "cell_type": "code",
      "source": [
        "df.isna().sum().sort_values(ascending=False)"
      ],
      "metadata": {
        "colab": {
          "base_uri": "https://localhost:8080/"
        },
        "id": "ze4IcKtQ-9cL",
        "outputId": "168c5c48-3b33-4b79-cf49-8a165d1d912a"
      },
      "execution_count": 9,
      "outputs": [
        {
          "output_type": "execute_result",
          "data": {
            "text/plain": [
              "razon_removed                 32858\n",
              "number_gestation              28689\n",
              "chagas                         4012\n",
              "anti_HCV                       4012\n",
              "agHBs                          4012\n",
              "time_on_Dialysis               1336\n",
              "Id                                0\n",
              "patient_still_on_list             0\n",
              "calculated_frequency_B.f1         0\n",
              "calculated_frequency_B.f2         0\n",
              "calculated_frequency_B.f          0\n",
              "calculated_frequency_A.f1         0\n",
              "calculated_frequency_A.f2         0\n",
              "calculated_frequency_A.f          0\n",
              "anti_HBc                          0\n",
              "death                             0\n",
              "date_acutal                       0\n",
              "calculated_frequency_DR.f2        0\n",
              "Time_death                        0\n",
              "Transplant                        0\n",
              "Transplant_Y_N                    0\n",
              "X36MthsTx                         0\n",
              "Time_Tx                           0\n",
              "priorization                      0\n",
              "removed_list                      0\n",
              "time                              0\n",
              "calculated_frequency_DR.f         0\n",
              "A_00                              0\n",
              "calculated_frequency_DR.f1        0\n",
              "number_prior_transplant           0\n",
              "age_at_list_registration          0\n",
              "age_cat                           0\n",
              "race                              0\n",
              "sex                               0\n",
              "underline_disease                 0\n",
              "diabetes                          0\n",
              "Blood_type                        0\n",
              "number_transfusion                0\n",
              "gestation                         0\n",
              "prior_transplant                  0\n",
              "subregion                         0\n",
              "date                              0\n",
              "cPRA                              0\n",
              "cPRA_cat                          0\n",
              "HLA_A1                            0\n",
              "HLA_A2                            0\n",
              "HLA_B1                            0\n",
              "HLA_B2                            0\n",
              "HLA_DR1                           0\n",
              "HLA_DR2                           0\n",
              "DR_00                             0\n",
              "B_00                              0\n",
              "event                             0\n",
              "dtype: int64"
            ]
          },
          "metadata": {},
          "execution_count": 9
        }
      ]
    },
    {
      "cell_type": "code",
      "source": [
        "print('<agHBS>')\n",
        "print(df['agHBs'].value_counts(normalize=True))\n",
        "print()\n",
        "print('<chagas>')\n",
        "df['chagas'].value_counts(normalize=True)"
      ],
      "metadata": {
        "colab": {
          "base_uri": "https://localhost:8080/"
        },
        "id": "BcOjtudOQl8J",
        "outputId": "633fcc64-15ac-44f9-dd2f-ac861bc1c7a1"
      },
      "execution_count": 10,
      "outputs": [
        {
          "output_type": "stream",
          "name": "stdout",
          "text": [
            "<agHBS>\n",
            "No     0.997304\n",
            "Yes    0.002696\n",
            "Name: agHBs, dtype: float64\n",
            "\n",
            "<chagas>\n"
          ]
        },
        {
          "output_type": "execute_result",
          "data": {
            "text/plain": [
              "No     0.998369\n",
              "Yes    0.001631\n",
              "Name: chagas, dtype: float64"
            ]
          },
          "metadata": {},
          "execution_count": 10
        }
      ]
    },
    {
      "cell_type": "code",
      "source": [
        "# 불필요 특성 제거\n",
        "cols_remove = ['razon_removed', 'chagas', 'number_gestation', 'agHBs'] \n",
        "df.drop(columns=cols_remove, inplace=True)\n",
        "\n",
        "# 결측치 대체\n",
        "values = {'time_on_Dialysis':1, 'anti_HCV':'No'}\n",
        "df.fillna(value=values, inplace=True)\n",
        "\n",
        "# 확인 \n",
        "df.isna().sum().sort_values(ascending=False)"
      ],
      "metadata": {
        "colab": {
          "base_uri": "https://localhost:8080/"
        },
        "id": "8El0v6vguHLp",
        "outputId": "7be12bd7-7be4-431b-ba1a-872622ce4ad7"
      },
      "execution_count": 11,
      "outputs": [
        {
          "output_type": "execute_result",
          "data": {
            "text/plain": [
              "Id                            0\n",
              "A_00                          0\n",
              "calculated_frequency_DR.f2    0\n",
              "calculated_frequency_DR.f     0\n",
              "calculated_frequency_B.f1     0\n",
              "calculated_frequency_B.f2     0\n",
              "calculated_frequency_B.f      0\n",
              "calculated_frequency_A.f1     0\n",
              "calculated_frequency_A.f2     0\n",
              "calculated_frequency_A.f      0\n",
              "anti_HBc                      0\n",
              "anti_HCV                      0\n",
              "patient_still_on_list         0\n",
              "date_acutal                   0\n",
              "death                         0\n",
              "Time_death                    0\n",
              "Transplant                    0\n",
              "Transplant_Y_N                0\n",
              "X36MthsTx                     0\n",
              "Time_Tx                       0\n",
              "priorization                  0\n",
              "removed_list                  0\n",
              "time                          0\n",
              "calculated_frequency_DR.f1    0\n",
              "B_00                          0\n",
              "date                          0\n",
              "DR_00                         0\n",
              "age_at_list_registration      0\n",
              "age_cat                       0\n",
              "time_on_Dialysis              0\n",
              "race                          0\n",
              "sex                           0\n",
              "underline_disease             0\n",
              "diabetes                      0\n",
              "Blood_type                    0\n",
              "number_transfusion            0\n",
              "gestation                     0\n",
              "prior_transplant              0\n",
              "number_prior_transplant       0\n",
              "subregion                     0\n",
              "cPRA                          0\n",
              "cPRA_cat                      0\n",
              "HLA_A1                        0\n",
              "HLA_A2                        0\n",
              "HLA_B1                        0\n",
              "HLA_B2                        0\n",
              "HLA_DR1                       0\n",
              "HLA_DR2                       0\n",
              "event                         0\n",
              "dtype: int64"
            ]
          },
          "metadata": {},
          "execution_count": 11
        }
      ]
    },
    {
      "cell_type": "code",
      "source": [
        "# 중복값 확인\n",
        "df.duplicated().sum()"
      ],
      "metadata": {
        "colab": {
          "base_uri": "https://localhost:8080/"
        },
        "id": "btpz1moLSNOM",
        "outputId": "3998d550-419b-43c6-ddd8-e7895b12e7fe"
      },
      "execution_count": 12,
      "outputs": [
        {
          "output_type": "execute_result",
          "data": {
            "text/plain": [
              "0"
            ]
          },
          "metadata": {},
          "execution_count": 12
        }
      ]
    },
    {
      "cell_type": "markdown",
      "source": [
        "### **💡 데이터 타입 변환**<br>\n",
        "\n",
        "- **`date(등록일)`** 특성의 데이터 타입은 문자열에서 *날짜/시간 형식으로 변경*한다. \n",
        "- **`time_on_Dialysis(투석기간)`** 특성의 단위는 일(day)을 기준으로 하기 때문에 데이터 타입을 실수형에서 *정수형으로 변환*한다. "
      ],
      "metadata": {
        "id": "iEHo-phhkDb4"
      }
    },
    {
      "cell_type": "code",
      "source": [
        "# date 특성 데이터 타입 변환\n",
        "df['date'] = pd.to_datetime(df['date'])"
      ],
      "metadata": {
        "id": "8B8DWBGCvp4j"
      },
      "execution_count": 13,
      "outputs": []
    },
    {
      "cell_type": "code",
      "source": [
        "# time_on_Dialysis 특성 데이터 타입 변환\n",
        "df['time_on_Dialysis'] = df['time_on_Dialysis'].astype(int)\n",
        "print(df['time_on_Dialysis'])"
      ],
      "metadata": {
        "colab": {
          "base_uri": "https://localhost:8080/"
        },
        "id": "bZwbyXr-ZnsY",
        "outputId": "02f26c03-a7b0-46d5-bbb9-c05daa13d80b"
      },
      "execution_count": 14,
      "outputs": [
        {
          "output_type": "stream",
          "name": "stdout",
          "text": [
            "0          1\n",
            "1          4\n",
            "2          2\n",
            "3         17\n",
            "4         68\n",
            "        ... \n",
            "48148     14\n",
            "48149    121\n",
            "48150     15\n",
            "48151     26\n",
            "48152     23\n",
            "Name: time_on_Dialysis, Length: 48153, dtype: int64\n"
          ]
        }
      ]
    },
    {
      "cell_type": "code",
      "source": [
        "# 확인\n",
        "df.info()"
      ],
      "metadata": {
        "id": "8eYVd37lwAU4",
        "colab": {
          "base_uri": "https://localhost:8080/"
        },
        "outputId": "38969b02-ddb2-40d4-a06d-0db328e32688"
      },
      "execution_count": 15,
      "outputs": [
        {
          "output_type": "stream",
          "name": "stdout",
          "text": [
            "<class 'pandas.core.frame.DataFrame'>\n",
            "RangeIndex: 48153 entries, 0 to 48152\n",
            "Data columns (total 49 columns):\n",
            " #   Column                      Non-Null Count  Dtype         \n",
            "---  ------                      --------------  -----         \n",
            " 0   Id                          48153 non-null  int64         \n",
            " 1   date                        48153 non-null  datetime64[ns]\n",
            " 2   age_at_list_registration    48153 non-null  int64         \n",
            " 3   age_cat                     48153 non-null  object        \n",
            " 4   time_on_Dialysis            48153 non-null  int64         \n",
            " 5   race                        48153 non-null  object        \n",
            " 6   sex                         48153 non-null  object        \n",
            " 7   underline_disease           48153 non-null  object        \n",
            " 8   diabetes                    48153 non-null  int64         \n",
            " 9   Blood_type                  48153 non-null  object        \n",
            " 10  number_transfusion          48153 non-null  int64         \n",
            " 11  gestation                   48153 non-null  object        \n",
            " 12  prior_transplant            48153 non-null  object        \n",
            " 13  number_prior_transplant     48153 non-null  int64         \n",
            " 14  subregion                   48153 non-null  object        \n",
            " 15  cPRA                        48153 non-null  int64         \n",
            " 16  cPRA_cat                    48153 non-null  object        \n",
            " 17  HLA_A1                      48153 non-null  int64         \n",
            " 18  HLA_A2                      48153 non-null  int64         \n",
            " 19  HLA_B1                      48153 non-null  int64         \n",
            " 20  HLA_B2                      48153 non-null  int64         \n",
            " 21  HLA_DR1                     48153 non-null  int64         \n",
            " 22  HLA_DR2                     48153 non-null  int64         \n",
            " 23  DR_00                       48153 non-null  object        \n",
            " 24  B_00                        48153 non-null  object        \n",
            " 25  A_00                        48153 non-null  object        \n",
            " 26  calculated_frequency_DR.f1  48153 non-null  float64       \n",
            " 27  calculated_frequency_DR.f2  48153 non-null  float64       \n",
            " 28  calculated_frequency_DR.f   48153 non-null  float64       \n",
            " 29  calculated_frequency_B.f1   48153 non-null  float64       \n",
            " 30  calculated_frequency_B.f2   48153 non-null  float64       \n",
            " 31  calculated_frequency_B.f    48153 non-null  float64       \n",
            " 32  calculated_frequency_A.f1   48153 non-null  float64       \n",
            " 33  calculated_frequency_A.f2   48153 non-null  float64       \n",
            " 34  calculated_frequency_A.f    48153 non-null  float64       \n",
            " 35  anti_HBc                    48153 non-null  object        \n",
            " 36  anti_HCV                    48153 non-null  object        \n",
            " 37  patient_still_on_list       48153 non-null  object        \n",
            " 38  date_acutal                 48153 non-null  int64         \n",
            " 39  death                       48153 non-null  object        \n",
            " 40  Time_death                  48153 non-null  int64         \n",
            " 41  Transplant                  48153 non-null  object        \n",
            " 42  Transplant_Y_N              48153 non-null  object        \n",
            " 43  X36MthsTx                   48153 non-null  int64         \n",
            " 44  Time_Tx                     48153 non-null  float64       \n",
            " 45  priorization                48153 non-null  object        \n",
            " 46  removed_list                48153 non-null  object        \n",
            " 47  time                        48153 non-null  int64         \n",
            " 48  event                       48153 non-null  int64         \n",
            "dtypes: datetime64[ns](1), float64(10), int64(18), object(20)\n",
            "memory usage: 18.0+ MB\n"
          ]
        }
      ]
    },
    {
      "cell_type": "markdown",
      "source": [
        "### **💡 필요한 데이터 추출**<br>\n",
        "- 해당 데이터셋은 이식 환자 대기 명단이므로 아직 이식이 이뤄지지 않은 환자들도 있다. 우리는 현재 **이식 후 생존여부 및 생존율을 타겟으로 지정했으므로 이식한 환자의 데이터만 사용할 것이다.**  \n",
        "- 이식 관련된 특성은 `Transplant`와 `Transplant_Y_N`이므로 비교하여 데이터를 정리한다. \n",
        "  - `Transplant`의 No와 Dead의 비율을 더하면 `Transplant_Y_N`의 No을 비율과 같으므로 `Transplant`의 Dead는 이식 전 사망한 환자를 의미한다고 사료된다. \n",
        "  - 이로써, `Transplant` 특성은 제거하고 `Transplant_Y_N` 특성을 사용할 것이다. "
      ],
      "metadata": {
        "id": "YqH9II-Jl-iP"
      }
    },
    {
      "cell_type": "code",
      "source": [
        "df['Transplant'].value_counts().plot(kind='pie', autopct='%1.1f%%')\n",
        "plt.title('Pie Chart of Transplant');"
      ],
      "metadata": {
        "colab": {
          "base_uri": "https://localhost:8080/",
          "height": 428
        },
        "id": "_PY04H0QeSuw",
        "outputId": "2e3e36ed-7efa-4c1d-88e9-2c946781ba10"
      },
      "execution_count": 16,
      "outputs": [
        {
          "output_type": "display_data",
          "data": {
            "text/plain": [
              "<Figure size 640x480 with 1 Axes>"
            ],
            "image/png": "[encoded data removed]"
          },
          "metadata": {}
        }
      ]
    },
    {
      "cell_type": "code",
      "source": [
        "df['Transplant_Y_N'].value_counts().plot(kind='pie', autopct='%1.1f%%')\n",
        "plt.title('Pie Chart of Transplant');"
      ],
      "metadata": {
        "colab": {
          "base_uri": "https://localhost:8080/",
          "height": 428
        },
        "id": "jT3wlN5GemCP",
        "outputId": "c8e743e7-25d9-4d4e-f7c9-3e91b9122ec8"
      },
      "execution_count": 17,
      "outputs": [
        {
          "output_type": "display_data",
          "data": {
            "text/plain": [
              "<Figure size 640x480 with 1 Axes>"
            ],
            "image/png": "[encoded data removed]"
          },
          "metadata": {}
        }
      ]
    },
    {
      "cell_type": "code",
      "source": [
        "# Transplant 특성 제거\n",
        "df.drop('Transplant', axis=1, inplace=True)\n",
        "\n",
        "# 이식하지 않은 환자 데이터 제거\n",
        "df = df.loc[df['Transplant_Y_N'] == 'Yes']\n",
        "\n",
        "# 확인\n",
        "df['Transplant_Y_N'].value_counts()"
      ],
      "metadata": {
        "colab": {
          "base_uri": "https://localhost:8080/"
        },
        "id": "EvvO6yerdEAp",
        "outputId": "7c85b5b0-9897-4c44-9f36-4a2ad13cb0d9"
      },
      "execution_count": 18,
      "outputs": [
        {
          "output_type": "execute_result",
          "data": {
            "text/plain": [
              "Yes    13732\n",
              "Name: Transplant_Y_N, dtype: int64"
            ]
          },
          "metadata": {},
          "execution_count": 18
        }
      ]
    },
    {
      "cell_type": "code",
      "source": [
        "# 인덱스 재설정 \n",
        "df = df.reset_index(drop=True)\n",
        "\n",
        "# 확인 \n",
        "df.head()"
      ],
      "metadata": {
        "colab": {
          "base_uri": "https://localhost:8080/",
          "height": 386
        },
        "id": "bpBbyHzFinII",
        "outputId": "eba847b8-4351-48c3-9cb2-ac6a17c13f19"
      },
      "execution_count": 19,
      "outputs": [
        {
          "output_type": "execute_result",
          "data": {
            "text/plain": [
              "   Id       date  age_at_list_registration   age_cat  time_on_Dialysis  \\\n",
              "0  19 2014-08-28                        68  Maior.60                14   \n",
              "1  21 2011-07-05                        62  Maior.60                12   \n",
              "2  22 2005-06-28                        47   18.a.60                 1   \n",
              "3  40 2006-10-03                        65  Maior.60                 7   \n",
              "4  41 2012-07-04                        33   18.a.60                12   \n",
              "\n",
              "     race sex underline_disease  diabetes Blood_type  ...  date_acutal death  \\\n",
              "0  Branca   M          Diabetes         0          B  ...        43307    No   \n",
              "1  Branca   M            others         1         AB  ...        43307   Yes   \n",
              "2  Branca   M            others         1          O  ...        43307    No   \n",
              "3  Branca   M            others         1          A  ...        43307   Yes   \n",
              "4   Parda   F               GNS         1          A  ...        43307    No   \n",
              "\n",
              "  Time_death  Transplant_Y_N X36MthsTx  Time_Tx priorization  removed_list  \\\n",
              "0         48             Yes         1     4.53           No            No   \n",
              "1         64             Yes         1     8.93           No            No   \n",
              "2        159             Yes         0    44.83           No            No   \n",
              "3         46             Yes         0    42.77           No            No   \n",
              "4         74             Yes         1    15.47           No            No   \n",
              "\n",
              "   time  event  \n",
              "0   136      1  \n",
              "1   268      1  \n",
              "2  1345      1  \n",
              "3  1283      1  \n",
              "4   464      1  \n",
              "\n",
              "[5 rows x 48 columns]"
            ],
            "text/html": [
              "\n",
              "  <div id=\"df-b81173d8-d542-4153-a4cd-0d8dd9b17b26\">\n",
              "    <div class=\"colab-df-container\">\n",
              "      <div>\n",
              "<style scoped>\n",
              "    .dataframe tbody tr th:only-of-type {\n",
              "        vertical-align: middle;\n",
              "    }\n",
              "\n",
              "    .dataframe tbody tr th {\n",
              "        vertical-align: top;\n",
              "    }\n",
              "\n",
              "    .dataframe thead th {\n",
              "        text-align: right;\n",
              "    }\n",
              "</style>\n",
              "<table border=\"1\" class=\"dataframe\">\n",
              "  <thead>\n",
              "    <tr style=\"text-align: right;\">\n",
              "      <th></th>\n",
              "      <th>Id</th>\n",
              "      <th>date</th>\n",
              "      <th>age_at_list_registration</th>\n",
              "      <th>age_cat</th>\n",
              "      <th>time_on_Dialysis</th>\n",
              "      <th>race</th>\n",
              "      <th>sex</th>\n",
              "      <th>underline_disease</th>\n",
              "      <th>diabetes</th>\n",
              "      <th>Blood_type</th>\n",
              "      <th>...</th>\n",
              "      <th>date_acutal</th>\n",
              "      <th>death</th>\n",
              "      <th>Time_death</th>\n",
              "      <th>Transplant_Y_N</th>\n",
              "      <th>X36MthsTx</th>\n",
              "      <th>Time_Tx</th>\n",
              "      <th>priorization</th>\n",
              "      <th>removed_list</th>\n",
              "      <th>time</th>\n",
              "      <th>event</th>\n",
              "    </tr>\n",
              "  </thead>\n",
              "  <tbody>\n",
              "    <tr>\n",
              "      <th>0</th>\n",
              "      <td>19</td>\n",
              "      <td>2014-08-28</td>\n",
              "      <td>68</td>\n",
              "      <td>Maior.60</td>\n",
              "      <td>14</td>\n",
              "      <td>Branca</td>\n",
              "      <td>M</td>\n",
              "      <td>Diabetes</td>\n",
              "      <td>0</td>\n",
              "      <td>B</td>\n",
              "      <td>...</td>\n",
              "      <td>43307</td>\n",
              "      <td>No</td>\n",
              "      <td>48</td>\n",
              "      <td>Yes</td>\n",
              "      <td>1</td>\n",
              "      <td>4.53</td>\n",
              "      <td>No</td>\n",
              "      <td>No</td>\n",
              "      <td>136</td>\n",
              "      <td>1</td>\n",
              "    </tr>\n",
              "    <tr>\n",
              "      <th>1</th>\n",
              "      <td>21</td>\n",
              "      <td>2011-07-05</td>\n",
              "      <td>62</td>\n",
              "      <td>Maior.60</td>\n",
              "      <td>12</td>\n",
              "      <td>Branca</td>\n",
              "      <td>M</td>\n",
              "      <td>others</td>\n",
              "      <td>1</td>\n",
              "      <td>AB</td>\n",
              "      <td>...</td>\n",
              "      <td>43307</td>\n",
              "      <td>Yes</td>\n",
              "      <td>64</td>\n",
              "      <td>Yes</td>\n",
              "      <td>1</td>\n",
              "      <td>8.93</td>\n",
              "      <td>No</td>\n",
              "      <td>No</td>\n",
              "      <td>268</td>\n",
              "      <td>1</td>\n",
              "    </tr>\n",
              "    <tr>\n",
              "      <th>2</th>\n",
              "      <td>22</td>\n",
              "      <td>2005-06-28</td>\n",
              "      <td>47</td>\n",
              "      <td>18.a.60</td>\n",
              "      <td>1</td>\n",
              "      <td>Branca</td>\n",
              "      <td>M</td>\n",
              "      <td>others</td>\n",
              "      <td>1</td>\n",
              "      <td>O</td>\n",
              "      <td>...</td>\n",
              "      <td>43307</td>\n",
              "      <td>No</td>\n",
              "      <td>159</td>\n",
              "      <td>Yes</td>\n",
              "      <td>0</td>\n",
              "      <td>44.83</td>\n",
              "      <td>No</td>\n",
              "      <td>No</td>\n",
              "      <td>1345</td>\n",
              "      <td>1</td>\n",
              "    </tr>\n",
              "    <tr>\n",
              "      <th>3</th>\n",
              "      <td>40</td>\n",
              "      <td>2006-10-03</td>\n",
              "      <td>65</td>\n",
              "      <td>Maior.60</td>\n",
              "      <td>7</td>\n",
              "      <td>Branca</td>\n",
              "      <td>M</td>\n",
              "      <td>others</td>\n",
              "      <td>1</td>\n",
              "      <td>A</td>\n",
              "      <td>...</td>\n",
              "      <td>43307</td>\n",
              "      <td>Yes</td>\n",
              "      <td>46</td>\n",
              "      <td>Yes</td>\n",
              "      <td>0</td>\n",
              "      <td>42.77</td>\n",
              "      <td>No</td>\n",
              "      <td>No</td>\n",
              "      <td>1283</td>\n",
              "      <td>1</td>\n",
              "    </tr>\n",
              "    <tr>\n",
              "      <th>4</th>\n",
              "      <td>41</td>\n",
              "      <td>2012-07-04</td>\n",
              "      <td>33</td>\n",
              "      <td>18.a.60</td>\n",
              "      <td>12</td>\n",
              "      <td>Parda</td>\n",
              "      <td>F</td>\n",
              "      <td>GNS</td>\n",
              "      <td>1</td>\n",
              "      <td>A</td>\n",
              "      <td>...</td>\n",
              "      <td>43307</td>\n",
              "      <td>No</td>\n",
              "      <td>74</td>\n",
              "      <td>Yes</td>\n",
              "      <td>1</td>\n",
              "      <td>15.47</td>\n",
              "      <td>No</td>\n",
              "      <td>No</td>\n",
              "      <td>464</td>\n",
              "      <td>1</td>\n",
              "    </tr>\n",
              "  </tbody>\n",
              "</table>\n",
              "<p>5 rows × 48 columns</p>\n",
              "</div>\n",
              "      <button class=\"colab-df-convert\" onclick=\"convertToInteractive('df-b81173d8-d542-4153-a4cd-0d8dd9b17b26')\"\n",
              "              title=\"Convert this dataframe to an interactive table.\"\n",
              "              style=\"display:none;\">\n",
              "        \n",
              "  <svg xmlns=\"http://www.w3.org/2000/svg\" height=\"24px\"viewBox=\"0 0 24 24\"\n",
              "       width=\"24px\">\n",
              "    <path d=\"M0 0h24v24H0V0z\" fill=\"none\"/>\n",
              "    <path d=\"M18.56 5.44l.94 2.06.94-2.06 2.06-.94-2.06-.94-.94-2.06-.94 2.06-2.06.94zm-11 1L8.5 8.5l.94-2.06 2.06-.94-2.06-.94L8.5 2.5l-.94 2.06-2.06.94zm10 10l.94 2.06.94-2.06 2.06-.94-2.06-.94-.94-2.06-.94 2.06-2.06.94z\"/><path d=\"M17.41 7.96l-1.37-1.37c-.4-.4-.92-.59-1.43-.59-.52 0-1.04.2-1.43.59L10.3 9.45l-7.72 7.72c-.78.78-.78 2.05 0 2.83L4 21.41c.39.39.9.59 1.41.59.51 0 1.02-.2 1.41-.59l7.78-7.78 2.81-2.81c.8-.78.8-2.07 0-2.86zM5.41 20L4 18.59l7.72-7.72 1.47 1.35L5.41 20z\"/>\n",
              "  </svg>\n",
              "      </button>\n",
              "      \n",
              "  <style>\n",
              "    .colab-df-container {\n",
              "      display:flex;\n",
              "      flex-wrap:wrap;\n",
              "      gap: 12px;\n",
              "    }\n",
              "\n",
              "    .colab-df-convert {\n",
              "      background-color: #E8F0FE;\n",
              "      border: none;\n",
              "      border-radius: 50%;\n",
              "      cursor: pointer;\n",
              "      display: none;\n",
              "      fill: #1967D2;\n",
              "      height: 32px;\n",
              "      padding: 0 0 0 0;\n",
              "      width: 32px;\n",
              "    }\n",
              "\n",
              "    .colab-df-convert:hover {\n",
              "      background-color: #E2EBFA;\n",
              "      box-shadow: 0px 1px 2px rgba(60, 64, 67, 0.3), 0px 1px 3px 1px rgba(60, 64, 67, 0.15);\n",
              "      fill: #174EA6;\n",
              "    }\n",
              "\n",
              "    [theme=dark] .colab-df-convert {\n",
              "      background-color: #3B4455;\n",
              "      fill: #D2E3FC;\n",
              "    }\n",
              "\n",
              "    [theme=dark] .colab-df-convert:hover {\n",
              "      background-color: #434B5C;\n",
              "      box-shadow: 0px 1px 3px 1px rgba(0, 0, 0, 0.15);\n",
              "      filter: drop-shadow(0px 1px 2px rgba(0, 0, 0, 0.3));\n",
              "      fill: #FFFFFF;\n",
              "    }\n",
              "  </style>\n",
              "\n",
              "      <script>\n",
              "        const buttonEl =\n",
              "          document.querySelector('#df-b81173d8-d542-4153-a4cd-0d8dd9b17b26 button.colab-df-convert');\n",
              "        buttonEl.style.display =\n",
              "          google.colab.kernel.accessAllowed ? 'block' : 'none';\n",
              "\n",
              "        async function convertToInteractive(key) {\n",
              "          const element = document.querySelector('#df-b81173d8-d542-4153-a4cd-0d8dd9b17b26');\n",
              "          const dataTable =\n",
              "            await google.colab.kernel.invokeFunction('convertToInteractive',\n",
              "                                                     [key], {});\n",
              "          if (!dataTable) return;\n",
              "\n",
              "          const docLinkHtml = 'Like what you see? Visit the ' +\n",
              "            '<a target=\"_blank\" href=https://colab.research.google.com/notebooks/data_table.ipynb>data table notebook</a>'\n",
              "            + ' to learn more about interactive tables.';\n",
              "          element.innerHTML = '';\n",
              "          dataTable['output_type'] = 'display_data';\n",
              "          await google.colab.output.renderOutput(dataTable, element);\n",
              "          const docLink = document.createElement('div');\n",
              "          docLink.innerHTML = docLinkHtml;\n",
              "          element.appendChild(docLink);\n",
              "        }\n",
              "      </script>\n",
              "    </div>\n",
              "  </div>\n",
              "  "
            ]
          },
          "metadata": {},
          "execution_count": 19
        }
      ]
    },
    {
      "cell_type": "code",
      "source": [
        "df.info()"
      ],
      "metadata": {
        "colab": {
          "base_uri": "https://localhost:8080/"
        },
        "id": "YXeRpX8Ujh3k",
        "outputId": "34a00f70-25e7-4d14-d27e-84ff13bba96d"
      },
      "execution_count": 20,
      "outputs": [
        {
          "output_type": "stream",
          "name": "stdout",
          "text": [
            "<class 'pandas.core.frame.DataFrame'>\n",
            "RangeIndex: 13732 entries, 0 to 13731\n",
            "Data columns (total 48 columns):\n",
            " #   Column                      Non-Null Count  Dtype         \n",
            "---  ------                      --------------  -----         \n",
            " 0   Id                          13732 non-null  int64         \n",
            " 1   date                        13732 non-null  datetime64[ns]\n",
            " 2   age_at_list_registration    13732 non-null  int64         \n",
            " 3   age_cat                     13732 non-null  object        \n",
            " 4   time_on_Dialysis            13732 non-null  int64         \n",
            " 5   race                        13732 non-null  object        \n",
            " 6   sex                         13732 non-null  object        \n",
            " 7   underline_disease           13732 non-null  object        \n",
            " 8   diabetes                    13732 non-null  int64         \n",
            " 9   Blood_type                  13732 non-null  object        \n",
            " 10  number_transfusion          13732 non-null  int64         \n",
            " 11  gestation                   13732 non-null  object        \n",
            " 12  prior_transplant            13732 non-null  object        \n",
            " 13  number_prior_transplant     13732 non-null  int64         \n",
            " 14  subregion                   13732 non-null  object        \n",
            " 15  cPRA                        13732 non-null  int64         \n",
            " 16  cPRA_cat                    13732 non-null  object        \n",
            " 17  HLA_A1                      13732 non-null  int64         \n",
            " 18  HLA_A2                      13732 non-null  int64         \n",
            " 19  HLA_B1                      13732 non-null  int64         \n",
            " 20  HLA_B2                      13732 non-null  int64         \n",
            " 21  HLA_DR1                     13732 non-null  int64         \n",
            " 22  HLA_DR2                     13732 non-null  int64         \n",
            " 23  DR_00                       13732 non-null  object        \n",
            " 24  B_00                        13732 non-null  object        \n",
            " 25  A_00                        13732 non-null  object        \n",
            " 26  calculated_frequency_DR.f1  13732 non-null  float64       \n",
            " 27  calculated_frequency_DR.f2  13732 non-null  float64       \n",
            " 28  calculated_frequency_DR.f   13732 non-null  float64       \n",
            " 29  calculated_frequency_B.f1   13732 non-null  float64       \n",
            " 30  calculated_frequency_B.f2   13732 non-null  float64       \n",
            " 31  calculated_frequency_B.f    13732 non-null  float64       \n",
            " 32  calculated_frequency_A.f1   13732 non-null  float64       \n",
            " 33  calculated_frequency_A.f2   13732 non-null  float64       \n",
            " 34  calculated_frequency_A.f    13732 non-null  float64       \n",
            " 35  anti_HBc                    13732 non-null  object        \n",
            " 36  anti_HCV                    13732 non-null  object        \n",
            " 37  patient_still_on_list       13732 non-null  object        \n",
            " 38  date_acutal                 13732 non-null  int64         \n",
            " 39  death                       13732 non-null  object        \n",
            " 40  Time_death                  13732 non-null  int64         \n",
            " 41  Transplant_Y_N              13732 non-null  object        \n",
            " 42  X36MthsTx                   13732 non-null  int64         \n",
            " 43  Time_Tx                     13732 non-null  float64       \n",
            " 44  priorization                13732 non-null  object        \n",
            " 45  removed_list                13732 non-null  object        \n",
            " 46  time                        13732 non-null  int64         \n",
            " 47  event                       13732 non-null  int64         \n",
            "dtypes: datetime64[ns](1), float64(10), int64(18), object(19)\n",
            "memory usage: 5.0+ MB\n"
          ]
        }
      ]
    },
    {
      "cell_type": "markdown",
      "source": [
        "### **💡 분포 확인 및 이상치 처리/불필요한 특성 정리**<br>\n",
        "- 결측치가 절반 이상이 되는 특성 \n",
        "- 같은 내용의 데이터가 타입 및 단위가 다르게 여러 개의 특성을 지닌 경우\n",
        "- 범주형 데이터 중 한쪽으로 너무 치우쳐진 경우\n",
        "- 데이터 설명/이해가 안되는 특성\n",
        "- 불필요하다고(타겟과 상관관계가 없다고) 사료되는 특성\n",
        "- 포르투칼어로 되어있는 범주형 데이터 -> 영어로 변환"
      ],
      "metadata": {
        "id": "k4CNygDTlyn3"
      }
    },
    {
      "cell_type": "code",
      "source": [
        "# 제거될 특성을 아래와 같은 리스트에 append될 것이다. \n",
        "will_be_removed =  []"
      ],
      "metadata": {
        "id": "l8l6h46Vk7m9"
      },
      "execution_count": 21,
      "outputs": []
    },
    {
      "cell_type": "markdown",
      "source": [
        "#### gestation"
      ],
      "metadata": {
        "id": "rr14e4EW27Sc"
      }
    },
    {
      "cell_type": "code",
      "source": [
        "# gestation 특성 확인\n",
        "df['gestation'].value_counts().plot(kind='pie', autopct='%1.1f%%')\n",
        "plt.title('Pie Chart of Gestation');"
      ],
      "metadata": {
        "colab": {
          "base_uri": "https://localhost:8080/",
          "height": 428
        },
        "id": "Jz6RZVMyWtyL",
        "outputId": "a7f1ee16-63f4-47df-e00b-27d9e6633d90"
      },
      "execution_count": 22,
      "outputs": [
        {
          "output_type": "display_data",
          "data": {
            "text/plain": [
              "<Figure size 640x480 with 1 Axes>"
            ],
            "image/png": "[encoded data removed]"
          },
          "metadata": {}
        }
      ]
    },
    {
      "cell_type": "markdown",
      "source": [
        "#### priorization"
      ],
      "metadata": {
        "id": "elkq7DHU3AHD"
      }
    },
    {
      "cell_type": "code",
      "source": [
        "# priorization 특성 확인\n",
        "df['priorization'].value_counts().plot(kind='pie', autopct='%1.1f%%')"
      ],
      "metadata": {
        "colab": {
          "base_uri": "https://localhost:8080/",
          "height": 424
        },
        "id": "4hnudm_qlHBF",
        "outputId": "d388cbf9-217c-4f48-f09e-2fd5dae6bb87"
      },
      "execution_count": 23,
      "outputs": [
        {
          "output_type": "execute_result",
          "data": {
            "text/plain": [
              "<Axes: ylabel='priorization'>"
            ]
          },
          "metadata": {},
          "execution_count": 23
        },
        {
          "output_type": "display_data",
          "data": {
            "text/plain": [
              "<Figure size 640x480 with 1 Axes>"
            ],
            "image/png": "[encoded data removed]"
          },
          "metadata": {}
        }
      ]
    },
    {
      "cell_type": "code",
      "source": [
        "# 범주형 데이터의 범위가 하나 뿐인 특성은 제거한다. \n",
        "# 모든 환자가 같은 데이터를 가지고 있으므로 실효성이 없다고 사료된다. \n",
        "will_be_removed.append('priorization')"
      ],
      "metadata": {
        "id": "hC0nzt7pltYk"
      },
      "execution_count": 24,
      "outputs": []
    },
    {
      "cell_type": "markdown",
      "source": [
        "#### date_acutal"
      ],
      "metadata": {
        "id": "Ec41aXQt3J8t"
      }
    },
    {
      "cell_type": "code",
      "source": [
        "# date_acutal 확인\n",
        "print(df['date_acutal'].value_counts())"
      ],
      "metadata": {
        "colab": {
          "base_uri": "https://localhost:8080/"
        },
        "id": "JjBlpPzdlu9a",
        "outputId": "9e6a0a5b-fc41-48da-f20e-6b93f1a1a3a6"
      },
      "execution_count": 25,
      "outputs": [
        {
          "output_type": "stream",
          "name": "stdout",
          "text": [
            "43307    13732\n",
            "Name: date_acutal, dtype: int64\n"
          ]
        }
      ]
    },
    {
      "cell_type": "code",
      "source": [
        "# 대기명단 등록일을 나타내는 date 특성이 따로 존재하므로 해당 특성을 제거한다. \n",
        "will_be_removed.append('date_acutal')"
      ],
      "metadata": {
        "id": "AZCgZxFamMbn"
      },
      "execution_count": 26,
      "outputs": []
    },
    {
      "cell_type": "markdown",
      "source": [
        "#### X36MthsTx"
      ],
      "metadata": {
        "id": "NS3dNDfl3OuD"
      }
    },
    {
      "cell_type": "code",
      "source": [
        "# X36MthsTx 확인\n",
        "df[['X36MthsTx']]"
      ],
      "metadata": {
        "colab": {
          "base_uri": "https://localhost:8080/",
          "height": 424
        },
        "id": "1lImRrbkmX9r",
        "outputId": "a356f6c3-de35-4e34-97cf-a9fcbf6b1b15"
      },
      "execution_count": 27,
      "outputs": [
        {
          "output_type": "execute_result",
          "data": {
            "text/plain": [
              "       X36MthsTx\n",
              "0              1\n",
              "1              1\n",
              "2              0\n",
              "3              0\n",
              "4              1\n",
              "...          ...\n",
              "13727          0\n",
              "13728          0\n",
              "13729          0\n",
              "13730          1\n",
              "13731          1\n",
              "\n",
              "[13732 rows x 1 columns]"
            ],
            "text/html": [
              "\n",
              "  <div id=\"df-8166d00e-cdb4-475f-8810-3beb3af48095\">\n",
              "    <div class=\"colab-df-container\">\n",
              "      <div>\n",
              "<style scoped>\n",
              "    .dataframe tbody tr th:only-of-type {\n",
              "        vertical-align: middle;\n",
              "    }\n",
              "\n",
              "    .dataframe tbody tr th {\n",
              "        vertical-align: top;\n",
              "    }\n",
              "\n",
              "    .dataframe thead th {\n",
              "        text-align: right;\n",
              "    }\n",
              "</style>\n",
              "<table border=\"1\" class=\"dataframe\">\n",
              "  <thead>\n",
              "    <tr style=\"text-align: right;\">\n",
              "      <th></th>\n",
              "      <th>X36MthsTx</th>\n",
              "    </tr>\n",
              "  </thead>\n",
              "  <tbody>\n",
              "    <tr>\n",
              "      <th>0</th>\n",
              "      <td>1</td>\n",
              "    </tr>\n",
              "    <tr>\n",
              "      <th>1</th>\n",
              "      <td>1</td>\n",
              "    </tr>\n",
              "    <tr>\n",
              "      <th>2</th>\n",
              "      <td>0</td>\n",
              "    </tr>\n",
              "    <tr>\n",
              "      <th>3</th>\n",
              "      <td>0</td>\n",
              "    </tr>\n",
              "    <tr>\n",
              "      <th>4</th>\n",
              "      <td>1</td>\n",
              "    </tr>\n",
              "    <tr>\n",
              "      <th>...</th>\n",
              "      <td>...</td>\n",
              "    </tr>\n",
              "    <tr>\n",
              "      <th>13727</th>\n",
              "      <td>0</td>\n",
              "    </tr>\n",
              "    <tr>\n",
              "      <th>13728</th>\n",
              "      <td>0</td>\n",
              "    </tr>\n",
              "    <tr>\n",
              "      <th>13729</th>\n",
              "      <td>0</td>\n",
              "    </tr>\n",
              "    <tr>\n",
              "      <th>13730</th>\n",
              "      <td>1</td>\n",
              "    </tr>\n",
              "    <tr>\n",
              "      <th>13731</th>\n",
              "      <td>1</td>\n",
              "    </tr>\n",
              "  </tbody>\n",
              "</table>\n",
              "<p>13732 rows × 1 columns</p>\n",
              "</div>\n",
              "      <button class=\"colab-df-convert\" onclick=\"convertToInteractive('df-8166d00e-cdb4-475f-8810-3beb3af48095')\"\n",
              "              title=\"Convert this dataframe to an interactive table.\"\n",
              "              style=\"display:none;\">\n",
              "        \n",
              "  <svg xmlns=\"http://www.w3.org/2000/svg\" height=\"24px\"viewBox=\"0 0 24 24\"\n",
              "       width=\"24px\">\n",
              "    <path d=\"M0 0h24v24H0V0z\" fill=\"none\"/>\n",
              "    <path d=\"M18.56 5.44l.94 2.06.94-2.06 2.06-.94-2.06-.94-.94-2.06-.94 2.06-2.06.94zm-11 1L8.5 8.5l.94-2.06 2.06-.94-2.06-.94L8.5 2.5l-.94 2.06-2.06.94zm10 10l.94 2.06.94-2.06 2.06-.94-2.06-.94-.94-2.06-.94 2.06-2.06.94z\"/><path d=\"M17.41 7.96l-1.37-1.37c-.4-.4-.92-.59-1.43-.59-.52 0-1.04.2-1.43.59L10.3 9.45l-7.72 7.72c-.78.78-.78 2.05 0 2.83L4 21.41c.39.39.9.59 1.41.59.51 0 1.02-.2 1.41-.59l7.78-7.78 2.81-2.81c.8-.78.8-2.07 0-2.86zM5.41 20L4 18.59l7.72-7.72 1.47 1.35L5.41 20z\"/>\n",
              "  </svg>\n",
              "      </button>\n",
              "      \n",
              "  <style>\n",
              "    .colab-df-container {\n",
              "      display:flex;\n",
              "      flex-wrap:wrap;\n",
              "      gap: 12px;\n",
              "    }\n",
              "\n",
              "    .colab-df-convert {\n",
              "      background-color: #E8F0FE;\n",
              "      border: none;\n",
              "      border-radius: 50%;\n",
              "      cursor: pointer;\n",
              "      display: none;\n",
              "      fill: #1967D2;\n",
              "      height: 32px;\n",
              "      padding: 0 0 0 0;\n",
              "      width: 32px;\n",
              "    }\n",
              "\n",
              "    .colab-df-convert:hover {\n",
              "      background-color: #E2EBFA;\n",
              "      box-shadow: 0px 1px 2px rgba(60, 64, 67, 0.3), 0px 1px 3px 1px rgba(60, 64, 67, 0.15);\n",
              "      fill: #174EA6;\n",
              "    }\n",
              "\n",
              "    [theme=dark] .colab-df-convert {\n",
              "      background-color: #3B4455;\n",
              "      fill: #D2E3FC;\n",
              "    }\n",
              "\n",
              "    [theme=dark] .colab-df-convert:hover {\n",
              "      background-color: #434B5C;\n",
              "      box-shadow: 0px 1px 3px 1px rgba(0, 0, 0, 0.15);\n",
              "      filter: drop-shadow(0px 1px 2px rgba(0, 0, 0, 0.3));\n",
              "      fill: #FFFFFF;\n",
              "    }\n",
              "  </style>\n",
              "\n",
              "      <script>\n",
              "        const buttonEl =\n",
              "          document.querySelector('#df-8166d00e-cdb4-475f-8810-3beb3af48095 button.colab-df-convert');\n",
              "        buttonEl.style.display =\n",
              "          google.colab.kernel.accessAllowed ? 'block' : 'none';\n",
              "\n",
              "        async function convertToInteractive(key) {\n",
              "          const element = document.querySelector('#df-8166d00e-cdb4-475f-8810-3beb3af48095');\n",
              "          const dataTable =\n",
              "            await google.colab.kernel.invokeFunction('convertToInteractive',\n",
              "                                                     [key], {});\n",
              "          if (!dataTable) return;\n",
              "\n",
              "          const docLinkHtml = 'Like what you see? Visit the ' +\n",
              "            '<a target=\"_blank\" href=https://colab.research.google.com/notebooks/data_table.ipynb>data table notebook</a>'\n",
              "            + ' to learn more about interactive tables.';\n",
              "          element.innerHTML = '';\n",
              "          dataTable['output_type'] = 'display_data';\n",
              "          await google.colab.output.renderOutput(dataTable, element);\n",
              "          const docLink = document.createElement('div');\n",
              "          docLink.innerHTML = docLinkHtml;\n",
              "          element.appendChild(docLink);\n",
              "        }\n",
              "      </script>\n",
              "    </div>\n",
              "  </div>\n",
              "  "
            ]
          },
          "metadata": {},
          "execution_count": 27
        }
      ]
    },
    {
      "cell_type": "code",
      "source": [
        "# X36MthsTx 특성은 어떤 것을 의미하는지 알지 못해 제거한다. \n",
        "will_be_removed.append('X36MthsTx')"
      ],
      "metadata": {
        "id": "AJyy3vCCmhri"
      },
      "execution_count": 28,
      "outputs": []
    },
    {
      "cell_type": "markdown",
      "source": [
        "#### time & Time_Tx"
      ],
      "metadata": {
        "id": "EeYrAXNs3SIE"
      }
    },
    {
      "cell_type": "code",
      "source": [
        "# time과 Time_Tx 특성 분포 확인 \n",
        "sns.displot(x=df['time'], kde=True)\n",
        "plt.title('Distribution of Time');"
      ],
      "metadata": {
        "colab": {
          "base_uri": "https://localhost:8080/",
          "height": 529
        },
        "id": "yfeI2sjEmwX5",
        "outputId": "f053b828-bb48-48bd-d14f-96690ac5d05f"
      },
      "execution_count": 29,
      "outputs": [
        {
          "output_type": "display_data",
          "data": {
            "text/plain": [
              "<Figure size 500x500 with 1 Axes>"
            ],
            "image/png": "[encoded data removed]"
          },
          "metadata": {}
        }
      ]
    },
    {
      "cell_type": "code",
      "source": [
        "sns.displot(x=df['Time_Tx'], kde=True)\n",
        "plt.title('Distribution of Time_Tx');"
      ],
      "metadata": {
        "colab": {
          "base_uri": "https://localhost:8080/",
          "height": 529
        },
        "id": "Kn4nSiy3u1a7",
        "outputId": "7adb7b4a-bf1f-4f16-c9b3-08b9ae0f5e57"
      },
      "execution_count": 30,
      "outputs": [
        {
          "output_type": "display_data",
          "data": {
            "text/plain": [
              "<Figure size 500x500 with 1 Axes>"
            ],
            "image/png": "[encoded data removed]"
          },
          "metadata": {}
        }
      ]
    },
    {
      "cell_type": "code",
      "source": [
        "# time과 Time_Tx 특성은 같은 분포를 띄며, 데이터 개수도 똑같다. \n",
        "# 그저 단위가 다를 뿐이다. time은 일수 기준이고, Time_Tx는 월수 기준이다. \n",
        "# 작은 범위의 단위를 선택할 것이므로 time을 제거한다. \n",
        "will_be_removed.append('time')"
      ],
      "metadata": {
        "id": "ZXKOfVNQv49_"
      },
      "execution_count": 31,
      "outputs": []
    },
    {
      "cell_type": "code",
      "source": [
        "# Time_Tx 데이터 타입 변환(float -> int)\n",
        "df['Time_Tx'] = df['Time_Tx'].round(0).astype(int)\n",
        "\n",
        "# 확인 \n",
        "df['Time_Tx'].value_counts()"
      ],
      "metadata": {
        "colab": {
          "base_uri": "https://localhost:8080/"
        },
        "id": "IB0R_qrPlaSD",
        "outputId": "3b631039-0158-422e-dcb6-6dadab55de0f"
      },
      "execution_count": 32,
      "outputs": [
        {
          "output_type": "execute_result",
          "data": {
            "text/plain": [
              "4      453\n",
              "5      451\n",
              "2      432\n",
              "6      424\n",
              "8      400\n",
              "      ... \n",
              "187      1\n",
              "167      1\n",
              "176      1\n",
              "179      1\n",
              "157      1\n",
              "Name: Time_Tx, Length: 185, dtype: int64"
            ]
          },
          "metadata": {},
          "execution_count": 32
        }
      ]
    },
    {
      "cell_type": "markdown",
      "source": [
        "#### removed_list & patient_still_on_list & Id & race & subregion"
      ],
      "metadata": {
        "id": "AfrdlTa83V3B"
      }
    },
    {
      "cell_type": "code",
      "source": [
        "# removed_list와 patient_still_on_list는 이식 대기 중인 환자를 나타내기 위한 특성들로 \n",
        "# 우리는 수여자 데이터만 사용할 것이다. 불필요한 특성들은 제거한다. \n",
        "will_be_removed.extend(['removed_list', 'patient_still_on_list'])"
      ],
      "metadata": {
        "id": "lASRfpQ9yBR3"
      },
      "execution_count": 33,
      "outputs": []
    },
    {
      "cell_type": "code",
      "source": [
        "# Id 특성은 환자고유번호를 나타낸다. \n",
        "# 현재 찾고자 하는 타겟은 이식한 환자의 생존여부 및 생존율이므로\n",
        "# 환자고유번호는 불필요한 특성이다. 제거한다. \n",
        "will_be_removed.append('Id')\n",
        "\n",
        "# 인종을 나타내틑 race 특성과 지역을 나타내틑 subregion도 불필요한 데이터이므로 제거한다. \n",
        "will_be_removed.extend(['race', 'subregion'])"
      ],
      "metadata": {
        "id": "G635LwFgykEY"
      },
      "execution_count": 34,
      "outputs": []
    },
    {
      "cell_type": "markdown",
      "source": [
        "#### HLA frequencies"
      ],
      "metadata": {
        "id": "9meELmE03gt1"
      }
    },
    {
      "cell_type": "code",
      "source": [
        "# HLA frequencies 특성은  \n",
        "# 공여자와 수여자 간의 조직적합성을 판단하는 특성들이 존재하므로 \n",
        "# 해당 특성들은 제거한다.\n",
        "frequencies_hla = ['calculated_frequency_DR.f1', 'calculated_frequency_DR.f2','calculated_frequency_DR.f', 'calculated_frequency_B.f1', 'calculated_frequency_B.f2','calculated_frequency_B.f','calculated_frequency_A.f1','calculated_frequency_A.f2', 'calculated_frequency_A.f']\n",
        "print(df[['calculated_frequency_DR.f1']])\n",
        "will_be_removed.extend(frequencies_hla)"
      ],
      "metadata": {
        "colab": {
          "base_uri": "https://localhost:8080/"
        },
        "id": "oBXApqfvz2ji",
        "outputId": "5d2e29b1-a532-47c2-bee2-9832c0149d98"
      },
      "execution_count": 35,
      "outputs": [
        {
          "output_type": "stream",
          "name": "stdout",
          "text": [
            "       calculated_frequency_DR.f1\n",
            "0                            0.19\n",
            "1                            0.23\n",
            "2                            0.23\n",
            "3                            0.22\n",
            "4                            0.12\n",
            "...                           ...\n",
            "13727                        0.23\n",
            "13728                        0.23\n",
            "13729                        0.04\n",
            "13730                        0.22\n",
            "13731                        0.23\n",
            "\n",
            "[13732 rows x 1 columns]\n"
          ]
        }
      ]
    },
    {
      "cell_type": "markdown",
      "source": [
        "#### age & age_cat"
      ],
      "metadata": {
        "id": "h8n9-ZkK3klP"
      }
    },
    {
      "cell_type": "code",
      "source": [
        "# 수여자의 정확한 나이를 확인하기 보다는 \n",
        "# 나이를 범주형 데이터로 확인하는 것이 편할 것이라 사료되어  \n",
        "# age 특성을 제거하고 age_cat은 영어로 변환한다. \n",
        "print('<age>')\n",
        "print(df.age_at_list_registration)\n",
        "print()\n",
        "print('<age_cat>')\n",
        "print(df.age_cat)"
      ],
      "metadata": {
        "colab": {
          "base_uri": "https://localhost:8080/"
        },
        "id": "FYWFcXCc20x8",
        "outputId": "d971a278-7b4a-4b60-e501-febcee517b99"
      },
      "execution_count": 36,
      "outputs": [
        {
          "output_type": "stream",
          "name": "stdout",
          "text": [
            "<age>\n",
            "0        68\n",
            "1        62\n",
            "2        47\n",
            "3        65\n",
            "4        33\n",
            "         ..\n",
            "13727    36\n",
            "13728    67\n",
            "13729    58\n",
            "13730    56\n",
            "13731    47\n",
            "Name: age_at_list_registration, Length: 13732, dtype: int64\n",
            "\n",
            "<age_cat>\n",
            "0        Maior.60\n",
            "1        Maior.60\n",
            "2         18.a.60\n",
            "3        Maior.60\n",
            "4         18.a.60\n",
            "           ...   \n",
            "13727     18.a.60\n",
            "13728    Maior.60\n",
            "13729     18.a.60\n",
            "13730     18.a.60\n",
            "13731     18.a.60\n",
            "Name: age_cat, Length: 13732, dtype: object\n"
          ]
        }
      ]
    },
    {
      "cell_type": "code",
      "source": [
        "# 기존 범위 확인\n",
        "print(df['age_cat'].value_counts())\n",
        "\n",
        "# 범위 이름 재설정\n",
        "df['age_cat'].replace(to_replace='18.a.60', value='From18to60', inplace=True)\n",
        "df['age_cat'].replace(to_replace='Maior.60', value='Over60', inplace=True)\n",
        "df['age_cat'].replace(to_replace='Menor.18', value='Below18', inplace=True)"
      ],
      "metadata": {
        "colab": {
          "base_uri": "https://localhost:8080/"
        },
        "id": "nw8awyfX30DN",
        "outputId": "75a69702-0085-48a6-df6e-ab4ef988f9bd"
      },
      "execution_count": 37,
      "outputs": [
        {
          "output_type": "stream",
          "name": "stdout",
          "text": [
            "18.a.60     10511\n",
            "Maior.60     2119\n",
            "Menor.18     1102\n",
            "Name: age_cat, dtype: int64\n"
          ]
        }
      ]
    },
    {
      "cell_type": "code",
      "source": [
        "# 확인\n",
        "df['age_cat'].value_counts()"
      ],
      "metadata": {
        "colab": {
          "base_uri": "https://localhost:8080/"
        },
        "id": "O1WGHS1p68K6",
        "outputId": "fe69d317-49f2-43fc-cb2b-5ea47374765b"
      },
      "execution_count": 38,
      "outputs": [
        {
          "output_type": "execute_result",
          "data": {
            "text/plain": [
              "From18to60    10511\n",
              "Over60         2119\n",
              "Below18        1102\n",
              "Name: age_cat, dtype: int64"
            ]
          },
          "metadata": {},
          "execution_count": 38
        }
      ]
    },
    {
      "cell_type": "code",
      "source": [
        "# age_at_list_registration 제거\n",
        "will_be_removed.append('age_at_list_registration')"
      ],
      "metadata": {
        "id": "QFh5Q21z4n1c"
      },
      "execution_count": 39,
      "outputs": []
    },
    {
      "cell_type": "markdown",
      "source": [
        "#### cPCA & cPCA_cat"
      ],
      "metadata": {
        "id": "nLvoz1PW3o_j"
      }
    },
    {
      "cell_type": "code",
      "source": [
        "# 패널반응항체 검사 결과를 나타내는 cPRA_cat(범주형)와 cPRA(수치형) 중 수치형을 제거하고\n",
        "# 범주형 범위를 영어로 변환한다. \n",
        "\n",
        "# cPRA 제거\n",
        "will_be_removed.append('cPRA')\n",
        "\n",
        "# 범주형 범위 확인 \n",
        "print(df['cPRA_cat'].value_counts())\n",
        "\n",
        "# 범위 이름 재설정\n",
        "df['cPRA_cat'].replace(to_replace='Entre_0_50', value='0to50', inplace=True)\n",
        "df['cPRA_cat'].replace(to_replace='Entre_50_80', value='From50to80', inplace=True)\n",
        "df['cPRA_cat'].replace(to_replace='Maior_80', value='Over80', inplace=True)"
      ],
      "metadata": {
        "colab": {
          "base_uri": "https://localhost:8080/"
        },
        "id": "XswImsHW5YSn",
        "outputId": "935e8f03-8df6-4716-93e1-e512659f171f"
      },
      "execution_count": 40,
      "outputs": [
        {
          "output_type": "stream",
          "name": "stdout",
          "text": [
            "Zero           10823\n",
            "Entre_0_50      1897\n",
            "Entre_50_80      617\n",
            "Maior_80         395\n",
            "Name: cPRA_cat, dtype: int64\n"
          ]
        }
      ]
    },
    {
      "cell_type": "code",
      "source": [
        "# 확인\n",
        "df['cPRA_cat'].value_counts()"
      ],
      "metadata": {
        "colab": {
          "base_uri": "https://localhost:8080/"
        },
        "id": "-nQKoAkO7ErG",
        "outputId": "670506df-48c6-4707-9cba-b443fc9b8942"
      },
      "execution_count": 41,
      "outputs": [
        {
          "output_type": "execute_result",
          "data": {
            "text/plain": [
              "Zero          10823\n",
              "0to50          1897\n",
              "From50to80      617\n",
              "Over80          395\n",
              "Name: cPRA_cat, dtype: int64"
            ]
          },
          "metadata": {},
          "execution_count": 41
        }
      ]
    },
    {
      "cell_type": "markdown",
      "source": [
        "#### Time_death"
      ],
      "metadata": {
        "id": "FCIqIVni3s6q"
      }
    },
    {
      "cell_type": "code",
      "source": [
        "# Time_death 제거\n",
        "# 사망 여부를 알 수 있는 `death`이 필요할 뿐, 사망 시간을 나타내는 Time_death은 불필요하다. \n",
        "will_be_removed.append('Time_death')"
      ],
      "metadata": {
        "id": "yaL1YxQyFrDg"
      },
      "execution_count": 42,
      "outputs": []
    },
    {
      "cell_type": "markdown",
      "source": [
        "#### anti_HCV & anti_HBc"
      ],
      "metadata": {
        "id": "QDEbTVgb3xjJ"
      }
    },
    {
      "cell_type": "code",
      "source": [
        "# anti_HCV 분포 확인\n",
        "df['anti_HCV'].value_counts().plot(kind='pie', autopct='%1.1f%%')\n",
        "plt.title('Pie chart of anti_HCV');"
      ],
      "metadata": {
        "colab": {
          "base_uri": "https://localhost:8080/",
          "height": 428
        },
        "id": "5vs1mRsQ1oK8",
        "outputId": "3e76b955-1502-4034-f661-159130c3bdb1"
      },
      "execution_count": 43,
      "outputs": [
        {
          "output_type": "display_data",
          "data": {
            "text/plain": [
              "<Figure size 640x480 with 1 Axes>"
            ],
            "image/png": "[encoded data removed]"
          },
          "metadata": {}
        }
      ]
    },
    {
      "cell_type": "code",
      "source": [
        "# anti_HBc 분포 확인\n",
        "df['anti_HBc'].value_counts().plot(kind='pie', autopct='%1.1f%%')\n",
        "plt.title('Pie chart of anti_HBc');"
      ],
      "metadata": {
        "colab": {
          "base_uri": "https://localhost:8080/",
          "height": 428
        },
        "id": "OgepFvdt22rz",
        "outputId": "c05d47e0-9d02-4e8b-955a-a52f7fd1cc81"
      },
      "execution_count": 44,
      "outputs": [
        {
          "output_type": "display_data",
          "data": {
            "text/plain": [
              "<Figure size 640x480 with 1 Axes>"
            ],
            "image/png": "[encoded data removed]"
          },
          "metadata": {}
        }
      ]
    },
    {
      "cell_type": "code",
      "source": [
        "# anti_HCV는 C형 간염 바이러스 보유 여부를 나타내는 특성이고,\n",
        "# anti_HBc는 B형 간염 바이러스 보유 여부를 나타낸다. \n",
        "# 일반적인 사람은 바이러스를 보유하고 있지 않기 때문에 \n",
        "# 범주형 데이터의 범위 비율이 한쪽으로 쏠려있다. \n",
        "# 타겟에 큰 영향을 주는 특성이 아니라고 사료되므로 제거한다. \n",
        "will_be_removed.extend(['anti_HCV', 'anti_HBc'])"
      ],
      "metadata": {
        "id": "Cr02mfFZ1-1T"
      },
      "execution_count": 45,
      "outputs": []
    },
    {
      "cell_type": "markdown",
      "source": [
        "#### time_on_Dialysis"
      ],
      "metadata": {
        "id": "bVOSudkR323t"
      }
    },
    {
      "cell_type": "code",
      "source": [
        "# time_on_Dialysis 투석기간 분포 확인\n",
        "sns.displot(x=df['time_on_Dialysis'], kde=True);\n",
        "# right-skewed -> normal distribution(정규화 작업 필요)"
      ],
      "metadata": {
        "colab": {
          "base_uri": "https://localhost:8080/",
          "height": 506
        },
        "id": "Hwr9-SYUHALT",
        "outputId": "77a37755-7aba-4f64-d236-e2adabe4a750"
      },
      "execution_count": 46,
      "outputs": [
        {
          "output_type": "display_data",
          "data": {
            "text/plain": [
              "<Figure size 500x500 with 1 Axes>"
            ],
            "image/png": "[encoded data removed]"
          },
          "metadata": {}
        }
      ]
    },
    {
      "cell_type": "code",
      "source": [
        "df.query('time_on_Dialysis == 0')"
      ],
      "metadata": {
        "colab": {
          "base_uri": "https://localhost:8080/",
          "height": 661
        },
        "id": "of-VhCR4TBOF",
        "outputId": "6bb89f38-ad98-49d1-823b-543cc5ead036"
      },
      "execution_count": 47,
      "outputs": [
        {
          "output_type": "execute_result",
          "data": {
            "text/plain": [
              "          Id       date  age_at_list_registration     age_cat  \\\n",
              "290     1321 2000-09-15                        42  From18to60   \n",
              "399     1827 2014-12-03                        44  From18to60   \n",
              "412     1883 2007-04-04                        58  From18to60   \n",
              "716     3284 2000-11-08                        43  From18to60   \n",
              "1026    4852 2015-11-25                        65      Over60   \n",
              "...      ...        ...                       ...         ...   \n",
              "13023  54210 2008-03-20                        39  From18to60   \n",
              "13186  54847 2009-10-05                        51  From18to60   \n",
              "13258  55144 2002-08-23                        51  From18to60   \n",
              "13679  56678 2000-09-29                        71      Over60   \n",
              "13704  56783 2016-04-19                        35  From18to60   \n",
              "\n",
              "       time_on_Dialysis    race sex underline_disease  diabetes Blood_type  \\\n",
              "290                   0  Branca   M               HUS         1          A   \n",
              "399                   0  Branca   M            others         1          O   \n",
              "412                   0  Branca   M          Diabetes         0          A   \n",
              "716                   0  Branca   F                PN         1          O   \n",
              "1026                  0  Branca   M          Diabetes         0          A   \n",
              "...                 ...     ...  ..               ...       ...        ...   \n",
              "13023                 0   Negra   M               HUS         1          O   \n",
              "13186                 0  Branca   F            others         1          O   \n",
              "13258                 0  Branca   F               HUS         1          O   \n",
              "13679                 0  Branca   F               GNS         1          A   \n",
              "13704                 0  Branca   F               GNS         1          B   \n",
              "\n",
              "       ...  date_acutal death Time_death  Transplant_Y_N X36MthsTx  Time_Tx  \\\n",
              "290    ...        43307   Yes        161             Yes         0       59   \n",
              "399    ...        43307    No         44             Yes         1       10   \n",
              "412    ...        43307    No        138             Yes         1       22   \n",
              "716    ...        43307    No        216             Yes         0       66   \n",
              "1026   ...        43307    No         32             Yes         1        2   \n",
              "...    ...          ...   ...        ...             ...       ...      ...   \n",
              "13023  ...        43307    No        126             Yes         0      101   \n",
              "13186  ...        43307    No        107             Yes         1       25   \n",
              "13258  ...        43307   Yes         87             Yes         1       10   \n",
              "13679  ...        43307    No        217             Yes         1       16   \n",
              "13704  ...        43307    No         28             Yes         1        0   \n",
              "\n",
              "      priorization  removed_list  time  event  \n",
              "290             No            No  1771      1  \n",
              "399             No            No   302      1  \n",
              "412             No            No   671      1  \n",
              "716             No            No  1993      1  \n",
              "1026            No            No    73      1  \n",
              "...            ...           ...   ...    ...  \n",
              "13023           No            No  3035      1  \n",
              "13186           No            No   752      1  \n",
              "13258           No            No   314      1  \n",
              "13679           No            No   495      1  \n",
              "13704           No            No    13      1  \n",
              "\n",
              "[103 rows x 48 columns]"
            ],
            "text/html": [
              "\n",
              "  <div id=\"df-1151b688-b1e3-4b30-8725-bcf6763b7f76\">\n",
              "    <div class=\"colab-df-container\">\n",
              "      <div>\n",
              "<style scoped>\n",
              "    .dataframe tbody tr th:only-of-type {\n",
              "        vertical-align: middle;\n",
              "    }\n",
              "\n",
              "    .dataframe tbody tr th {\n",
              "        vertical-align: top;\n",
              "    }\n",
              "\n",
              "    .dataframe thead th {\n",
              "        text-align: right;\n",
              "    }\n",
              "</style>\n",
              "<table border=\"1\" class=\"dataframe\">\n",
              "  <thead>\n",
              "    <tr style=\"text-align: right;\">\n",
              "      <th></th>\n",
              "      <th>Id</th>\n",
              "      <th>date</th>\n",
              "      <th>age_at_list_registration</th>\n",
              "      <th>age_cat</th>\n",
              "      <th>time_on_Dialysis</th>\n",
              "      <th>race</th>\n",
              "      <th>sex</th>\n",
              "      <th>underline_disease</th>\n",
              "      <th>diabetes</th>\n",
              "      <th>Blood_type</th>\n",
              "      <th>...</th>\n",
              "      <th>date_acutal</th>\n",
              "      <th>death</th>\n",
              "      <th>Time_death</th>\n",
              "      <th>Transplant_Y_N</th>\n",
              "      <th>X36MthsTx</th>\n",
              "      <th>Time_Tx</th>\n",
              "      <th>priorization</th>\n",
              "      <th>removed_list</th>\n",
              "      <th>time</th>\n",
              "      <th>event</th>\n",
              "    </tr>\n",
              "  </thead>\n",
              "  <tbody>\n",
              "    <tr>\n",
              "      <th>290</th>\n",
              "      <td>1321</td>\n",
              "      <td>2000-09-15</td>\n",
              "      <td>42</td>\n",
              "      <td>From18to60</td>\n",
              "      <td>0</td>\n",
              "      <td>Branca</td>\n",
              "      <td>M</td>\n",
              "      <td>HUS</td>\n",
              "      <td>1</td>\n",
              "      <td>A</td>\n",
              "      <td>...</td>\n",
              "      <td>43307</td>\n",
              "      <td>Yes</td>\n",
              "      <td>161</td>\n",
              "      <td>Yes</td>\n",
              "      <td>0</td>\n",
              "      <td>59</td>\n",
              "      <td>No</td>\n",
              "      <td>No</td>\n",
              "      <td>1771</td>\n",
              "      <td>1</td>\n",
              "    </tr>\n",
              "    <tr>\n",
              "      <th>399</th>\n",
              "      <td>1827</td>\n",
              "      <td>2014-12-03</td>\n",
              "      <td>44</td>\n",
              "      <td>From18to60</td>\n",
              "      <td>0</td>\n",
              "      <td>Branca</td>\n",
              "      <td>M</td>\n",
              "      <td>others</td>\n",
              "      <td>1</td>\n",
              "      <td>O</td>\n",
              "      <td>...</td>\n",
              "      <td>43307</td>\n",
              "      <td>No</td>\n",
              "      <td>44</td>\n",
              "      <td>Yes</td>\n",
              "      <td>1</td>\n",
              "      <td>10</td>\n",
              "      <td>No</td>\n",
              "      <td>No</td>\n",
              "      <td>302</td>\n",
              "      <td>1</td>\n",
              "    </tr>\n",
              "    <tr>\n",
              "      <th>412</th>\n",
              "      <td>1883</td>\n",
              "      <td>2007-04-04</td>\n",
              "      <td>58</td>\n",
              "      <td>From18to60</td>\n",
              "      <td>0</td>\n",
              "      <td>Branca</td>\n",
              "      <td>M</td>\n",
              "      <td>Diabetes</td>\n",
              "      <td>0</td>\n",
              "      <td>A</td>\n",
              "      <td>...</td>\n",
              "      <td>43307</td>\n",
              "      <td>No</td>\n",
              "      <td>138</td>\n",
              "      <td>Yes</td>\n",
              "      <td>1</td>\n",
              "      <td>22</td>\n",
              "      <td>No</td>\n",
              "      <td>No</td>\n",
              "      <td>671</td>\n",
              "      <td>1</td>\n",
              "    </tr>\n",
              "    <tr>\n",
              "      <th>716</th>\n",
              "      <td>3284</td>\n",
              "      <td>2000-11-08</td>\n",
              "      <td>43</td>\n",
              "      <td>From18to60</td>\n",
              "      <td>0</td>\n",
              "      <td>Branca</td>\n",
              "      <td>F</td>\n",
              "      <td>PN</td>\n",
              "      <td>1</td>\n",
              "      <td>O</td>\n",
              "      <td>...</td>\n",
              "      <td>43307</td>\n",
              "      <td>No</td>\n",
              "      <td>216</td>\n",
              "      <td>Yes</td>\n",
              "      <td>0</td>\n",
              "      <td>66</td>\n",
              "      <td>No</td>\n",
              "      <td>No</td>\n",
              "      <td>1993</td>\n",
              "      <td>1</td>\n",
              "    </tr>\n",
              "    <tr>\n",
              "      <th>1026</th>\n",
              "      <td>4852</td>\n",
              "      <td>2015-11-25</td>\n",
              "      <td>65</td>\n",
              "      <td>Over60</td>\n",
              "      <td>0</td>\n",
              "      <td>Branca</td>\n",
              "      <td>M</td>\n",
              "      <td>Diabetes</td>\n",
              "      <td>0</td>\n",
              "      <td>A</td>\n",
              "      <td>...</td>\n",
              "      <td>43307</td>\n",
              "      <td>No</td>\n",
              "      <td>32</td>\n",
              "      <td>Yes</td>\n",
              "      <td>1</td>\n",
              "      <td>2</td>\n",
              "      <td>No</td>\n",
              "      <td>No</td>\n",
              "      <td>73</td>\n",
              "      <td>1</td>\n",
              "    </tr>\n",
              "    <tr>\n",
              "      <th>...</th>\n",
              "      <td>...</td>\n",
              "      <td>...</td>\n",
              "      <td>...</td>\n",
              "      <td>...</td>\n",
              "      <td>...</td>\n",
              "      <td>...</td>\n",
              "      <td>...</td>\n",
              "      <td>...</td>\n",
              "      <td>...</td>\n",
              "      <td>...</td>\n",
              "      <td>...</td>\n",
              "      <td>...</td>\n",
              "      <td>...</td>\n",
              "      <td>...</td>\n",
              "      <td>...</td>\n",
              "      <td>...</td>\n",
              "      <td>...</td>\n",
              "      <td>...</td>\n",
              "      <td>...</td>\n",
              "      <td>...</td>\n",
              "      <td>...</td>\n",
              "    </tr>\n",
              "    <tr>\n",
              "      <th>13023</th>\n",
              "      <td>54210</td>\n",
              "      <td>2008-03-20</td>\n",
              "      <td>39</td>\n",
              "      <td>From18to60</td>\n",
              "      <td>0</td>\n",
              "      <td>Negra</td>\n",
              "      <td>M</td>\n",
              "      <td>HUS</td>\n",
              "      <td>1</td>\n",
              "      <td>O</td>\n",
              "      <td>...</td>\n",
              "      <td>43307</td>\n",
              "      <td>No</td>\n",
              "      <td>126</td>\n",
              "      <td>Yes</td>\n",
              "      <td>0</td>\n",
              "      <td>101</td>\n",
              "      <td>No</td>\n",
              "      <td>No</td>\n",
              "      <td>3035</td>\n",
              "      <td>1</td>\n",
              "    </tr>\n",
              "    <tr>\n",
              "      <th>13186</th>\n",
              "      <td>54847</td>\n",
              "      <td>2009-10-05</td>\n",
              "      <td>51</td>\n",
              "      <td>From18to60</td>\n",
              "      <td>0</td>\n",
              "      <td>Branca</td>\n",
              "      <td>F</td>\n",
              "      <td>others</td>\n",
              "      <td>1</td>\n",
              "      <td>O</td>\n",
              "      <td>...</td>\n",
              "      <td>43307</td>\n",
              "      <td>No</td>\n",
              "      <td>107</td>\n",
              "      <td>Yes</td>\n",
              "      <td>1</td>\n",
              "      <td>25</td>\n",
              "      <td>No</td>\n",
              "      <td>No</td>\n",
              "      <td>752</td>\n",
              "      <td>1</td>\n",
              "    </tr>\n",
              "    <tr>\n",
              "      <th>13258</th>\n",
              "      <td>55144</td>\n",
              "      <td>2002-08-23</td>\n",
              "      <td>51</td>\n",
              "      <td>From18to60</td>\n",
              "      <td>0</td>\n",
              "      <td>Branca</td>\n",
              "      <td>F</td>\n",
              "      <td>HUS</td>\n",
              "      <td>1</td>\n",
              "      <td>O</td>\n",
              "      <td>...</td>\n",
              "      <td>43307</td>\n",
              "      <td>Yes</td>\n",
              "      <td>87</td>\n",
              "      <td>Yes</td>\n",
              "      <td>1</td>\n",
              "      <td>10</td>\n",
              "      <td>No</td>\n",
              "      <td>No</td>\n",
              "      <td>314</td>\n",
              "      <td>1</td>\n",
              "    </tr>\n",
              "    <tr>\n",
              "      <th>13679</th>\n",
              "      <td>56678</td>\n",
              "      <td>2000-09-29</td>\n",
              "      <td>71</td>\n",
              "      <td>Over60</td>\n",
              "      <td>0</td>\n",
              "      <td>Branca</td>\n",
              "      <td>F</td>\n",
              "      <td>GNS</td>\n",
              "      <td>1</td>\n",
              "      <td>A</td>\n",
              "      <td>...</td>\n",
              "      <td>43307</td>\n",
              "      <td>No</td>\n",
              "      <td>217</td>\n",
              "      <td>Yes</td>\n",
              "      <td>1</td>\n",
              "      <td>16</td>\n",
              "      <td>No</td>\n",
              "      <td>No</td>\n",
              "      <td>495</td>\n",
              "      <td>1</td>\n",
              "    </tr>\n",
              "    <tr>\n",
              "      <th>13704</th>\n",
              "      <td>56783</td>\n",
              "      <td>2016-04-19</td>\n",
              "      <td>35</td>\n",
              "      <td>From18to60</td>\n",
              "      <td>0</td>\n",
              "      <td>Branca</td>\n",
              "      <td>F</td>\n",
              "      <td>GNS</td>\n",
              "      <td>1</td>\n",
              "      <td>B</td>\n",
              "      <td>...</td>\n",
              "      <td>43307</td>\n",
              "      <td>No</td>\n",
              "      <td>28</td>\n",
              "      <td>Yes</td>\n",
              "      <td>1</td>\n",
              "      <td>0</td>\n",
              "      <td>No</td>\n",
              "      <td>No</td>\n",
              "      <td>13</td>\n",
              "      <td>1</td>\n",
              "    </tr>\n",
              "  </tbody>\n",
              "</table>\n",
              "<p>103 rows × 48 columns</p>\n",
              "</div>\n",
              "      <button class=\"colab-df-convert\" onclick=\"convertToInteractive('df-1151b688-b1e3-4b30-8725-bcf6763b7f76')\"\n",
              "              title=\"Convert this dataframe to an interactive table.\"\n",
              "              style=\"display:none;\">\n",
              "        \n",
              "  <svg xmlns=\"http://www.w3.org/2000/svg\" height=\"24px\"viewBox=\"0 0 24 24\"\n",
              "       width=\"24px\">\n",
              "    <path d=\"M0 0h24v24H0V0z\" fill=\"none\"/>\n",
              "    <path d=\"M18.56 5.44l.94 2.06.94-2.06 2.06-.94-2.06-.94-.94-2.06-.94 2.06-2.06.94zm-11 1L8.5 8.5l.94-2.06 2.06-.94-2.06-.94L8.5 2.5l-.94 2.06-2.06.94zm10 10l.94 2.06.94-2.06 2.06-.94-2.06-.94-.94-2.06-.94 2.06-2.06.94z\"/><path d=\"M17.41 7.96l-1.37-1.37c-.4-.4-.92-.59-1.43-.59-.52 0-1.04.2-1.43.59L10.3 9.45l-7.72 7.72c-.78.78-.78 2.05 0 2.83L4 21.41c.39.39.9.59 1.41.59.51 0 1.02-.2 1.41-.59l7.78-7.78 2.81-2.81c.8-.78.8-2.07 0-2.86zM5.41 20L4 18.59l7.72-7.72 1.47 1.35L5.41 20z\"/>\n",
              "  </svg>\n",
              "      </button>\n",
              "      \n",
              "  <style>\n",
              "    .colab-df-container {\n",
              "      display:flex;\n",
              "      flex-wrap:wrap;\n",
              "      gap: 12px;\n",
              "    }\n",
              "\n",
              "    .colab-df-convert {\n",
              "      background-color: #E8F0FE;\n",
              "      border: none;\n",
              "      border-radius: 50%;\n",
              "      cursor: pointer;\n",
              "      display: none;\n",
              "      fill: #1967D2;\n",
              "      height: 32px;\n",
              "      padding: 0 0 0 0;\n",
              "      width: 32px;\n",
              "    }\n",
              "\n",
              "    .colab-df-convert:hover {\n",
              "      background-color: #E2EBFA;\n",
              "      box-shadow: 0px 1px 2px rgba(60, 64, 67, 0.3), 0px 1px 3px 1px rgba(60, 64, 67, 0.15);\n",
              "      fill: #174EA6;\n",
              "    }\n",
              "\n",
              "    [theme=dark] .colab-df-convert {\n",
              "      background-color: #3B4455;\n",
              "      fill: #D2E3FC;\n",
              "    }\n",
              "\n",
              "    [theme=dark] .colab-df-convert:hover {\n",
              "      background-color: #434B5C;\n",
              "      box-shadow: 0px 1px 3px 1px rgba(0, 0, 0, 0.15);\n",
              "      filter: drop-shadow(0px 1px 2px rgba(0, 0, 0, 0.3));\n",
              "      fill: #FFFFFF;\n",
              "    }\n",
              "  </style>\n",
              "\n",
              "      <script>\n",
              "        const buttonEl =\n",
              "          document.querySelector('#df-1151b688-b1e3-4b30-8725-bcf6763b7f76 button.colab-df-convert');\n",
              "        buttonEl.style.display =\n",
              "          google.colab.kernel.accessAllowed ? 'block' : 'none';\n",
              "\n",
              "        async function convertToInteractive(key) {\n",
              "          const element = document.querySelector('#df-1151b688-b1e3-4b30-8725-bcf6763b7f76');\n",
              "          const dataTable =\n",
              "            await google.colab.kernel.invokeFunction('convertToInteractive',\n",
              "                                                     [key], {});\n",
              "          if (!dataTable) return;\n",
              "\n",
              "          const docLinkHtml = 'Like what you see? Visit the ' +\n",
              "            '<a target=\"_blank\" href=https://colab.research.google.com/notebooks/data_table.ipynb>data table notebook</a>'\n",
              "            + ' to learn more about interactive tables.';\n",
              "          element.innerHTML = '';\n",
              "          dataTable['output_type'] = 'display_data';\n",
              "          await google.colab.output.renderOutput(dataTable, element);\n",
              "          const docLink = document.createElement('div');\n",
              "          docLink.innerHTML = docLinkHtml;\n",
              "          element.appendChild(docLink);\n",
              "        }\n",
              "      </script>\n",
              "    </div>\n",
              "  </div>\n",
              "  "
            ]
          },
          "metadata": {},
          "execution_count": 47
        }
      ]
    },
    {
      "cell_type": "code",
      "source": [
        "# 신장 이식이 필요한 정도의 환자들은 반드시 한번 이상의 투석을 해야한다. \n",
        "# 따라서 투석기간이 0인 환자들은 1로 대체한다. \n",
        "df['time_on_Dialysis'] = df['time_on_Dialysis'].replace(0, 1)\n",
        "\n",
        "# 변경 확인\n",
        "df.loc[df['time_on_Dialysis'] == 0]"
      ],
      "metadata": {
        "colab": {
          "base_uri": "https://localhost:8080/",
          "height": 143
        },
        "id": "ZhCoEgbdSN5J",
        "outputId": "c1388d63-15d6-4d4f-8621-aff6ce5675c6"
      },
      "execution_count": 48,
      "outputs": [
        {
          "output_type": "execute_result",
          "data": {
            "text/plain": [
              "Empty DataFrame\n",
              "Columns: [Id, date, age_at_list_registration, age_cat, time_on_Dialysis, race, sex, underline_disease, diabetes, Blood_type, number_transfusion, gestation, prior_transplant, number_prior_transplant, subregion, cPRA, cPRA_cat, HLA_A1, HLA_A2, HLA_B1, HLA_B2, HLA_DR1, HLA_DR2, DR_00, B_00, A_00, calculated_frequency_DR.f1, calculated_frequency_DR.f2, calculated_frequency_DR.f, calculated_frequency_B.f1, calculated_frequency_B.f2, calculated_frequency_B.f, calculated_frequency_A.f1, calculated_frequency_A.f2, calculated_frequency_A.f, anti_HBc, anti_HCV, patient_still_on_list, date_acutal, death, Time_death, Transplant_Y_N, X36MthsTx, Time_Tx, priorization, removed_list, time, event]\n",
              "Index: []\n",
              "\n",
              "[0 rows x 48 columns]"
            ],
            "text/html": [
              "\n",
              "  <div id=\"df-32c7e191-6425-4c72-bca4-30818921a49a\">\n",
              "    <div class=\"colab-df-container\">\n",
              "      <div>\n",
              "<style scoped>\n",
              "    .dataframe tbody tr th:only-of-type {\n",
              "        vertical-align: middle;\n",
              "    }\n",
              "\n",
              "    .dataframe tbody tr th {\n",
              "        vertical-align: top;\n",
              "    }\n",
              "\n",
              "    .dataframe thead th {\n",
              "        text-align: right;\n",
              "    }\n",
              "</style>\n",
              "<table border=\"1\" class=\"dataframe\">\n",
              "  <thead>\n",
              "    <tr style=\"text-align: right;\">\n",
              "      <th></th>\n",
              "      <th>Id</th>\n",
              "      <th>date</th>\n",
              "      <th>age_at_list_registration</th>\n",
              "      <th>age_cat</th>\n",
              "      <th>time_on_Dialysis</th>\n",
              "      <th>race</th>\n",
              "      <th>sex</th>\n",
              "      <th>underline_disease</th>\n",
              "      <th>diabetes</th>\n",
              "      <th>Blood_type</th>\n",
              "      <th>...</th>\n",
              "      <th>date_acutal</th>\n",
              "      <th>death</th>\n",
              "      <th>Time_death</th>\n",
              "      <th>Transplant_Y_N</th>\n",
              "      <th>X36MthsTx</th>\n",
              "      <th>Time_Tx</th>\n",
              "      <th>priorization</th>\n",
              "      <th>removed_list</th>\n",
              "      <th>time</th>\n",
              "      <th>event</th>\n",
              "    </tr>\n",
              "  </thead>\n",
              "  <tbody>\n",
              "  </tbody>\n",
              "</table>\n",
              "<p>0 rows × 48 columns</p>\n",
              "</div>\n",
              "      <button class=\"colab-df-convert\" onclick=\"convertToInteractive('df-32c7e191-6425-4c72-bca4-30818921a49a')\"\n",
              "              title=\"Convert this dataframe to an interactive table.\"\n",
              "              style=\"display:none;\">\n",
              "        \n",
              "  <svg xmlns=\"http://www.w3.org/2000/svg\" height=\"24px\"viewBox=\"0 0 24 24\"\n",
              "       width=\"24px\">\n",
              "    <path d=\"M0 0h24v24H0V0z\" fill=\"none\"/>\n",
              "    <path d=\"M18.56 5.44l.94 2.06.94-2.06 2.06-.94-2.06-.94-.94-2.06-.94 2.06-2.06.94zm-11 1L8.5 8.5l.94-2.06 2.06-.94-2.06-.94L8.5 2.5l-.94 2.06-2.06.94zm10 10l.94 2.06.94-2.06 2.06-.94-2.06-.94-.94-2.06-.94 2.06-2.06.94z\"/><path d=\"M17.41 7.96l-1.37-1.37c-.4-.4-.92-.59-1.43-.59-.52 0-1.04.2-1.43.59L10.3 9.45l-7.72 7.72c-.78.78-.78 2.05 0 2.83L4 21.41c.39.39.9.59 1.41.59.51 0 1.02-.2 1.41-.59l7.78-7.78 2.81-2.81c.8-.78.8-2.07 0-2.86zM5.41 20L4 18.59l7.72-7.72 1.47 1.35L5.41 20z\"/>\n",
              "  </svg>\n",
              "      </button>\n",
              "      \n",
              "  <style>\n",
              "    .colab-df-container {\n",
              "      display:flex;\n",
              "      flex-wrap:wrap;\n",
              "      gap: 12px;\n",
              "    }\n",
              "\n",
              "    .colab-df-convert {\n",
              "      background-color: #E8F0FE;\n",
              "      border: none;\n",
              "      border-radius: 50%;\n",
              "      cursor: pointer;\n",
              "      display: none;\n",
              "      fill: #1967D2;\n",
              "      height: 32px;\n",
              "      padding: 0 0 0 0;\n",
              "      width: 32px;\n",
              "    }\n",
              "\n",
              "    .colab-df-convert:hover {\n",
              "      background-color: #E2EBFA;\n",
              "      box-shadow: 0px 1px 2px rgba(60, 64, 67, 0.3), 0px 1px 3px 1px rgba(60, 64, 67, 0.15);\n",
              "      fill: #174EA6;\n",
              "    }\n",
              "\n",
              "    [theme=dark] .colab-df-convert {\n",
              "      background-color: #3B4455;\n",
              "      fill: #D2E3FC;\n",
              "    }\n",
              "\n",
              "    [theme=dark] .colab-df-convert:hover {\n",
              "      background-color: #434B5C;\n",
              "      box-shadow: 0px 1px 3px 1px rgba(0, 0, 0, 0.15);\n",
              "      filter: drop-shadow(0px 1px 2px rgba(0, 0, 0, 0.3));\n",
              "      fill: #FFFFFF;\n",
              "    }\n",
              "  </style>\n",
              "\n",
              "      <script>\n",
              "        const buttonEl =\n",
              "          document.querySelector('#df-32c7e191-6425-4c72-bca4-30818921a49a button.colab-df-convert');\n",
              "        buttonEl.style.display =\n",
              "          google.colab.kernel.accessAllowed ? 'block' : 'none';\n",
              "\n",
              "        async function convertToInteractive(key) {\n",
              "          const element = document.querySelector('#df-32c7e191-6425-4c72-bca4-30818921a49a');\n",
              "          const dataTable =\n",
              "            await google.colab.kernel.invokeFunction('convertToInteractive',\n",
              "                                                     [key], {});\n",
              "          if (!dataTable) return;\n",
              "\n",
              "          const docLinkHtml = 'Like what you see? Visit the ' +\n",
              "            '<a target=\"_blank\" href=https://colab.research.google.com/notebooks/data_table.ipynb>data table notebook</a>'\n",
              "            + ' to learn more about interactive tables.';\n",
              "          element.innerHTML = '';\n",
              "          dataTable['output_type'] = 'display_data';\n",
              "          await google.colab.output.renderOutput(dataTable, element);\n",
              "          const docLink = document.createElement('div');\n",
              "          docLink.innerHTML = docLinkHtml;\n",
              "          element.appendChild(docLink);\n",
              "        }\n",
              "      </script>\n",
              "    </div>\n",
              "  </div>\n",
              "  "
            ]
          },
          "metadata": {},
          "execution_count": 48
        }
      ]
    },
    {
      "cell_type": "markdown",
      "source": [
        "#### A_00 & B_00 & DR_00"
      ],
      "metadata": {
        "id": "Ao3gveKk36bp"
      }
    },
    {
      "cell_type": "code",
      "source": [
        "# A_00 확인\n",
        "print(df['A_00'].value_counts(),'\\n')\n",
        "# B_00 확인\n",
        "print(df['B_00'].value_counts(),'\\n')\n",
        "# DR_00 확인\n",
        "print(df['DR_00'].value_counts(),'\\n')"
      ],
      "metadata": {
        "colab": {
          "base_uri": "https://localhost:8080/"
        },
        "id": "Y5HFKMLG3NiL",
        "outputId": "2a36d32d-fdfa-4aab-e0a4-34ae9998abd0"
      },
      "execution_count": 49,
      "outputs": [
        {
          "output_type": "stream",
          "name": "stdout",
          "text": [
            "heterozygote    12492\n",
            "homozygote       1240\n",
            "Name: A_00, dtype: int64 \n",
            "\n",
            "heterozygote    13099\n",
            "homozygote        633\n",
            "Name: B_00, dtype: int64 \n",
            "\n",
            "heterozygote    13199\n",
            "homozygote        533\n",
            "Name: DR_00, dtype: int64 \n",
            "\n"
          ]
        }
      ]
    },
    {
      "cell_type": "markdown",
      "source": [
        "#### diabetes & underline_disease"
      ],
      "metadata": {
        "id": "llsw26xu4Ab3"
      }
    },
    {
      "cell_type": "code",
      "source": [
        "# underline_disease 확인\n",
        "df['underline_disease'].value_counts()"
      ],
      "metadata": {
        "colab": {
          "base_uri": "https://localhost:8080/"
        },
        "id": "rumAawc708Tv",
        "outputId": "8cc7434d-d829-4ed5-d612-53c00157864b"
      },
      "execution_count": 50,
      "outputs": [
        {
          "output_type": "execute_result",
          "data": {
            "text/plain": [
              "others      4931\n",
              "HUS         3451\n",
              "GNS         2778\n",
              "Diabetes    2221\n",
              "PN           351\n",
              "Name: underline_disease, dtype: int64"
            ]
          },
          "metadata": {},
          "execution_count": 50
        }
      ]
    },
    {
      "cell_type": "code",
      "source": [
        "# diabetes은 당뇨병의 유무를 나타내는 특성이다.\n",
        "# 해당 내용은 위의 underline_disease 특성에서도 확인 가능하므로 제거한다.\n",
        "will_be_removed.append('diabetes')"
      ],
      "metadata": {
        "id": "s2Kse0Z4BnHq"
      },
      "execution_count": 51,
      "outputs": []
    },
    {
      "cell_type": "markdown",
      "source": [
        "#### event"
      ],
      "metadata": {
        "id": "Ha_m9-lj4E79"
      }
    },
    {
      "cell_type": "code",
      "source": [
        "# event 확인\n",
        "print(df['event'].value_counts())\n",
        "\n",
        "# event는 어떤 내용을 담고 있는 것인지 알 수 없어 제거한다.\n",
        "will_be_removed.append('event')"
      ],
      "metadata": {
        "colab": {
          "base_uri": "https://localhost:8080/"
        },
        "id": "-PBxoKK1JknF",
        "outputId": "327cf7e5-6b18-408c-a4d9-cf6ebaf12d6a"
      },
      "execution_count": 52,
      "outputs": [
        {
          "output_type": "stream",
          "name": "stdout",
          "text": [
            "1    13732\n",
            "Name: event, dtype: int64\n"
          ]
        }
      ]
    },
    {
      "cell_type": "markdown",
      "source": [
        "#### Transplant_Y_N"
      ],
      "metadata": {
        "id": "j69HsC634Jhc"
      }
    },
    {
      "cell_type": "code",
      "source": [
        "# Transplant_Y_N 확인 \n",
        "print(df['Transplant_Y_N'].value_counts())\n",
        "\n",
        "# 신장 이식을 시행한 환자의 데이터만 사용하여 타겟을 설정하였기 때문에\n",
        "# 신장 이식 여부를 나타내는 특성에 `Yes`만 있다. \n",
        "# 즉,모든 환자가 같은 데이터를 가지고 있으므로 제거해도 무방하다\n",
        "will_be_removed.append('Transplant_Y_N')"
      ],
      "metadata": {
        "colab": {
          "base_uri": "https://localhost:8080/"
        },
        "id": "kxewbdUbKH_r",
        "outputId": "56a1b938-e893-4bbf-c493-b4101b56abb5"
      },
      "execution_count": 53,
      "outputs": [
        {
          "output_type": "stream",
          "name": "stdout",
          "text": [
            "Yes    13732\n",
            "Name: Transplant_Y_N, dtype: int64\n"
          ]
        }
      ]
    },
    {
      "cell_type": "markdown",
      "source": [
        "#### date "
      ],
      "metadata": {
        "id": "bmqeBems4MRn"
      }
    },
    {
      "cell_type": "code",
      "source": [
        "# date 특성 제거\n",
        "will_be_removed.append('date')"
      ],
      "metadata": {
        "id": "Y-4wOOVLkavJ"
      },
      "execution_count": 54,
      "outputs": []
    },
    {
      "cell_type": "markdown",
      "source": [
        "#### 제거될 특성 확인 및 제거"
      ],
      "metadata": {
        "id": "xds1NhrL4S2G"
      }
    },
    {
      "cell_type": "code",
      "source": [
        "will_be_removed"
      ],
      "metadata": {
        "colab": {
          "base_uri": "https://localhost:8080/"
        },
        "id": "i3bacPfmBXWd",
        "outputId": "cca85718-39c2-4310-c45e-b9163bf86cb9"
      },
      "execution_count": 55,
      "outputs": [
        {
          "output_type": "execute_result",
          "data": {
            "text/plain": [
              "['priorization',\n",
              " 'date_acutal',\n",
              " 'X36MthsTx',\n",
              " 'time',\n",
              " 'removed_list',\n",
              " 'patient_still_on_list',\n",
              " 'Id',\n",
              " 'race',\n",
              " 'subregion',\n",
              " 'calculated_frequency_DR.f1',\n",
              " 'calculated_frequency_DR.f2',\n",
              " 'calculated_frequency_DR.f',\n",
              " 'calculated_frequency_B.f1',\n",
              " 'calculated_frequency_B.f2',\n",
              " 'calculated_frequency_B.f',\n",
              " 'calculated_frequency_A.f1',\n",
              " 'calculated_frequency_A.f2',\n",
              " 'calculated_frequency_A.f',\n",
              " 'age_at_list_registration',\n",
              " 'cPRA',\n",
              " 'Time_death',\n",
              " 'anti_HCV',\n",
              " 'anti_HBc',\n",
              " 'diabetes',\n",
              " 'event',\n",
              " 'Transplant_Y_N',\n",
              " 'date']"
            ]
          },
          "metadata": {},
          "execution_count": 55
        }
      ]
    },
    {
      "cell_type": "code",
      "source": [
        "# 마무리 : 불필요한 특성들 제거하기\n",
        "df_cleaned = df.drop(columns=will_be_removed)\n",
        "df_cleaned.info()"
      ],
      "metadata": {
        "colab": {
          "base_uri": "https://localhost:8080/"
        },
        "id": "51veR5DS7Qdo",
        "outputId": "3563ce27-e578-4518-f029-c7877f1df8d3"
      },
      "execution_count": 56,
      "outputs": [
        {
          "output_type": "stream",
          "name": "stdout",
          "text": [
            "<class 'pandas.core.frame.DataFrame'>\n",
            "RangeIndex: 13732 entries, 0 to 13731\n",
            "Data columns (total 21 columns):\n",
            " #   Column                   Non-Null Count  Dtype \n",
            "---  ------                   --------------  ----- \n",
            " 0   age_cat                  13732 non-null  object\n",
            " 1   time_on_Dialysis         13732 non-null  int64 \n",
            " 2   sex                      13732 non-null  object\n",
            " 3   underline_disease        13732 non-null  object\n",
            " 4   Blood_type               13732 non-null  object\n",
            " 5   number_transfusion       13732 non-null  int64 \n",
            " 6   gestation                13732 non-null  object\n",
            " 7   prior_transplant         13732 non-null  object\n",
            " 8   number_prior_transplant  13732 non-null  int64 \n",
            " 9   cPRA_cat                 13732 non-null  object\n",
            " 10  HLA_A1                   13732 non-null  int64 \n",
            " 11  HLA_A2                   13732 non-null  int64 \n",
            " 12  HLA_B1                   13732 non-null  int64 \n",
            " 13  HLA_B2                   13732 non-null  int64 \n",
            " 14  HLA_DR1                  13732 non-null  int64 \n",
            " 15  HLA_DR2                  13732 non-null  int64 \n",
            " 16  DR_00                    13732 non-null  object\n",
            " 17  B_00                     13732 non-null  object\n",
            " 18  A_00                     13732 non-null  object\n",
            " 19  death                    13732 non-null  object\n",
            " 20  Time_Tx                  13732 non-null  int64 \n",
            "dtypes: int64(10), object(11)\n",
            "memory usage: 2.2+ MB\n"
          ]
        }
      ]
    },
    {
      "cell_type": "markdown",
      "source": [
        "### **💡 특성명 재설정**\n",
        "- 보다 편리한 이해를 돕기 위해 특성명을 가독성 높게 재설정한다. \n",
        ">- `age_cat` : 수여자 나이 (범주형)\n",
        "  - `dialysis_duration` : 투석 기간 (월 기준)\n",
        "  - `gender` : 성별\n",
        "  - `underlying_disease` : 기저 질환\n",
        "    - `HUS(Hemolytic Uremic Syndrome)` : 용혈요도증후군\n",
        "    - `GNS(Glumerulo-Nephrotic Syndrome)` : 신장증후군\n",
        "    - `PN(Pyelonephritis)` : 신우신염 \n",
        "    - `Diabetes` : 당뇨병\n",
        "  - `blood_type` : 혈액형\n",
        "  - `transfusions` : 수혈 횟수\n",
        "  - `gestation` : 임신 여부\n",
        "  - `number_prior_transplant` : 과거 이식 실행 여부\n",
        "  - `cPRA_cat` : 패널반응항체 검사 결과(범주형)\n",
        "  - `HLA_A1`, `HLA_A2`, `HLA_B1`, `HLA_B2`, `HLA_DR1`,  `HLA_DR2`\n",
        "    - HLA(인체조직적합항원) 유전자좌(유전자가 염색체 혹은   염색치 지도상에 차지하는 위치)를 나타냄\n",
        "    - e.g. HLA_A1 특성의 값이 `2`라면 HLA-A에 A2 항원이   존재한다는 것을 의미한다. \n",
        "  - `DR_00`, `B_00`, `A_00` \n",
        "    - 각각의 항원에 위치한 항원 개수를 범주형 데이터로  나타냄\n",
        "    - `homozygote` : 한 가지의 항원만 존재 - 동형 접합체\n",
        "    - `heterozygote` : 두 가지 항원 존재 - 이형 접합체\n",
        "  - `anti_HBc` : B형 간염바이러스 항체 보유 여부\n",
        "  - `anti_HCV` : C형 간염바이러스 항체 보유 여부\n",
        "  - `death` : 사망 여부\n",
        "  - `transplanted` : 현재 이식 실행 여부\n",
        "  - `duration` : 대기 기간(월 기준)"
      ],
      "metadata": {
        "id": "cHTShqhP9DQy"
      }
    },
    {
      "cell_type": "code",
      "source": [
        "# 특성명 재설정\n",
        "df_cleaned.rename(columns={'underline_disease':'underlying_disease','time_on_Dialysis':'dialysis_duration','number_transfusion':'transfusions','\\n'\n",
        "                   'Blood_type':'blood_type','Time_Tx':'duration','Transplant_Y_N':'transplanted','sex':'gender'}, inplace=True)\n",
        "\n",
        "# 확인\n",
        "df_cleaned.columns"
      ],
      "metadata": {
        "colab": {
          "base_uri": "https://localhost:8080/"
        },
        "id": "Dh1WxgER9pTo",
        "outputId": "cebb6fd7-e215-4cc2-e79d-acc85be5a485"
      },
      "execution_count": 57,
      "outputs": [
        {
          "output_type": "execute_result",
          "data": {
            "text/plain": [
              "Index(['age_cat', 'dialysis_duration', 'gender', 'underlying_disease',\n",
              "       'Blood_type', 'transfusions', 'gestation', 'prior_transplant',\n",
              "       'number_prior_transplant', 'cPRA_cat', 'HLA_A1', 'HLA_A2', 'HLA_B1',\n",
              "       'HLA_B2', 'HLA_DR1', 'HLA_DR2', 'DR_00', 'B_00', 'A_00', 'death',\n",
              "       'duration'],\n",
              "      dtype='object')"
            ]
          },
          "metadata": {},
          "execution_count": 57
        }
      ]
    },
    {
      "cell_type": "markdown",
      "source": [
        "#### dialysis_duration 범주형 데이터 생성 및 로그 변환"
      ],
      "metadata": {
        "id": "MP0rJlF34eWv"
      }
    },
    {
      "cell_type": "code",
      "source": [
        "df_cleaned.describe()[['dialysis_duration']]"
      ],
      "metadata": {
        "colab": {
          "base_uri": "https://localhost:8080/",
          "height": 300
        },
        "id": "t9I2dPdeRBeW",
        "outputId": "2bf83c7d-7aa3-4366-c7ca-a5d151ff2416"
      },
      "execution_count": 58,
      "outputs": [
        {
          "output_type": "execute_result",
          "data": {
            "text/plain": [
              "       dialysis_duration\n",
              "count       13732.000000\n",
              "mean           18.547553\n",
              "std            25.784757\n",
              "min             1.000000\n",
              "25%             5.000000\n",
              "50%            10.000000\n",
              "75%            21.000000\n",
              "max           180.000000"
            ],
            "text/html": [
              "\n",
              "  <div id=\"df-6daf0481-c76b-4059-ad4c-cde30aa5dd41\">\n",
              "    <div class=\"colab-df-container\">\n",
              "      <div>\n",
              "<style scoped>\n",
              "    .dataframe tbody tr th:only-of-type {\n",
              "        vertical-align: middle;\n",
              "    }\n",
              "\n",
              "    .dataframe tbody tr th {\n",
              "        vertical-align: top;\n",
              "    }\n",
              "\n",
              "    .dataframe thead th {\n",
              "        text-align: right;\n",
              "    }\n",
              "</style>\n",
              "<table border=\"1\" class=\"dataframe\">\n",
              "  <thead>\n",
              "    <tr style=\"text-align: right;\">\n",
              "      <th></th>\n",
              "      <th>dialysis_duration</th>\n",
              "    </tr>\n",
              "  </thead>\n",
              "  <tbody>\n",
              "    <tr>\n",
              "      <th>count</th>\n",
              "      <td>13732.000000</td>\n",
              "    </tr>\n",
              "    <tr>\n",
              "      <th>mean</th>\n",
              "      <td>18.547553</td>\n",
              "    </tr>\n",
              "    <tr>\n",
              "      <th>std</th>\n",
              "      <td>25.784757</td>\n",
              "    </tr>\n",
              "    <tr>\n",
              "      <th>min</th>\n",
              "      <td>1.000000</td>\n",
              "    </tr>\n",
              "    <tr>\n",
              "      <th>25%</th>\n",
              "      <td>5.000000</td>\n",
              "    </tr>\n",
              "    <tr>\n",
              "      <th>50%</th>\n",
              "      <td>10.000000</td>\n",
              "    </tr>\n",
              "    <tr>\n",
              "      <th>75%</th>\n",
              "      <td>21.000000</td>\n",
              "    </tr>\n",
              "    <tr>\n",
              "      <th>max</th>\n",
              "      <td>180.000000</td>\n",
              "    </tr>\n",
              "  </tbody>\n",
              "</table>\n",
              "</div>\n",
              "      <button class=\"colab-df-convert\" onclick=\"convertToInteractive('df-6daf0481-c76b-4059-ad4c-cde30aa5dd41')\"\n",
              "              title=\"Convert this dataframe to an interactive table.\"\n",
              "              style=\"display:none;\">\n",
              "        \n",
              "  <svg xmlns=\"http://www.w3.org/2000/svg\" height=\"24px\"viewBox=\"0 0 24 24\"\n",
              "       width=\"24px\">\n",
              "    <path d=\"M0 0h24v24H0V0z\" fill=\"none\"/>\n",
              "    <path d=\"M18.56 5.44l.94 2.06.94-2.06 2.06-.94-2.06-.94-.94-2.06-.94 2.06-2.06.94zm-11 1L8.5 8.5l.94-2.06 2.06-.94-2.06-.94L8.5 2.5l-.94 2.06-2.06.94zm10 10l.94 2.06.94-2.06 2.06-.94-2.06-.94-.94-2.06-.94 2.06-2.06.94z\"/><path d=\"M17.41 7.96l-1.37-1.37c-.4-.4-.92-.59-1.43-.59-.52 0-1.04.2-1.43.59L10.3 9.45l-7.72 7.72c-.78.78-.78 2.05 0 2.83L4 21.41c.39.39.9.59 1.41.59.51 0 1.02-.2 1.41-.59l7.78-7.78 2.81-2.81c.8-.78.8-2.07 0-2.86zM5.41 20L4 18.59l7.72-7.72 1.47 1.35L5.41 20z\"/>\n",
              "  </svg>\n",
              "      </button>\n",
              "      \n",
              "  <style>\n",
              "    .colab-df-container {\n",
              "      display:flex;\n",
              "      flex-wrap:wrap;\n",
              "      gap: 12px;\n",
              "    }\n",
              "\n",
              "    .colab-df-convert {\n",
              "      background-color: #E8F0FE;\n",
              "      border: none;\n",
              "      border-radius: 50%;\n",
              "      cursor: pointer;\n",
              "      display: none;\n",
              "      fill: #1967D2;\n",
              "      height: 32px;\n",
              "      padding: 0 0 0 0;\n",
              "      width: 32px;\n",
              "    }\n",
              "\n",
              "    .colab-df-convert:hover {\n",
              "      background-color: #E2EBFA;\n",
              "      box-shadow: 0px 1px 2px rgba(60, 64, 67, 0.3), 0px 1px 3px 1px rgba(60, 64, 67, 0.15);\n",
              "      fill: #174EA6;\n",
              "    }\n",
              "\n",
              "    [theme=dark] .colab-df-convert {\n",
              "      background-color: #3B4455;\n",
              "      fill: #D2E3FC;\n",
              "    }\n",
              "\n",
              "    [theme=dark] .colab-df-convert:hover {\n",
              "      background-color: #434B5C;\n",
              "      box-shadow: 0px 1px 3px 1px rgba(0, 0, 0, 0.15);\n",
              "      filter: drop-shadow(0px 1px 2px rgba(0, 0, 0, 0.3));\n",
              "      fill: #FFFFFF;\n",
              "    }\n",
              "  </style>\n",
              "\n",
              "      <script>\n",
              "        const buttonEl =\n",
              "          document.querySelector('#df-6daf0481-c76b-4059-ad4c-cde30aa5dd41 button.colab-df-convert');\n",
              "        buttonEl.style.display =\n",
              "          google.colab.kernel.accessAllowed ? 'block' : 'none';\n",
              "\n",
              "        async function convertToInteractive(key) {\n",
              "          const element = document.querySelector('#df-6daf0481-c76b-4059-ad4c-cde30aa5dd41');\n",
              "          const dataTable =\n",
              "            await google.colab.kernel.invokeFunction('convertToInteractive',\n",
              "                                                     [key], {});\n",
              "          if (!dataTable) return;\n",
              "\n",
              "          const docLinkHtml = 'Like what you see? Visit the ' +\n",
              "            '<a target=\"_blank\" href=https://colab.research.google.com/notebooks/data_table.ipynb>data table notebook</a>'\n",
              "            + ' to learn more about interactive tables.';\n",
              "          element.innerHTML = '';\n",
              "          dataTable['output_type'] = 'display_data';\n",
              "          await google.colab.output.renderOutput(dataTable, element);\n",
              "          const docLink = document.createElement('div');\n",
              "          docLink.innerHTML = docLinkHtml;\n",
              "          element.appendChild(docLink);\n",
              "        }\n",
              "      </script>\n",
              "    </div>\n",
              "  </div>\n",
              "  "
            ]
          },
          "metadata": {},
          "execution_count": 58
        }
      ]
    },
    {
      "cell_type": "code",
      "source": [
        "df_cleaned['dialysis_duration'].value_counts()"
      ],
      "metadata": {
        "colab": {
          "base_uri": "https://localhost:8080/"
        },
        "id": "GkkiEXkHUHQ6",
        "outputId": "1bc2c214-eb9e-4489-be7b-78f282798523"
      },
      "execution_count": 59,
      "outputs": [
        {
          "output_type": "execute_result",
          "data": {
            "text/plain": [
              "1      962\n",
              "4      938\n",
              "3      877\n",
              "5      846\n",
              "6      753\n",
              "      ... \n",
              "156      1\n",
              "167      1\n",
              "151      1\n",
              "173      1\n",
              "179      1\n",
              "Name: dialysis_duration, Length: 173, dtype: int64"
            ]
          },
          "metadata": {},
          "execution_count": 59
        }
      ]
    },
    {
      "cell_type": "code",
      "source": [
        "df_cleaned['dialysis_duration_cat'] = 0\n",
        "df_cleaned['dialysis_duration_cat'] = pd.cut(df_cleaned.dialysis_duration, bins=[0,45, 90, 135, 180], \n",
        "                                             labels=['below45', 'From46to90', 'From91to135', 'Over136'])\n",
        "\n",
        "# 확인\n",
        "df_cleaned['dialysis_duration_cat'].value_counts()"
      ],
      "metadata": {
        "colab": {
          "base_uri": "https://localhost:8080/"
        },
        "id": "KBe8cAEoQ0Gq",
        "outputId": "44cf6259-4588-49f7-8324-0769d0a776f8"
      },
      "execution_count": 60,
      "outputs": [
        {
          "output_type": "execute_result",
          "data": {
            "text/plain": [
              "below45        12439\n",
              "From46to90       887\n",
              "From91to135      263\n",
              "Over136          143\n",
              "Name: dialysis_duration_cat, dtype: int64"
            ]
          },
          "metadata": {},
          "execution_count": 60
        }
      ]
    },
    {
      "cell_type": "code",
      "source": [
        "# 로그 변환\n",
        "df['time_on_Dialysis'] = np.log1p(df['time_on_Dialysis'])\n",
        "\n",
        "# 확인\n",
        "sns.displot(x=df['time_on_Dialysis'], kde=True);"
      ],
      "metadata": {
        "colab": {
          "base_uri": "https://localhost:8080/",
          "height": 506
        },
        "id": "udk6XWWi6aLW",
        "outputId": "8752ea7d-6bfd-4f5a-9ef6-8b2503786f08"
      },
      "execution_count": 61,
      "outputs": [
        {
          "output_type": "display_data",
          "data": {
            "text/plain": [
              "<Figure size 500x500 with 1 Axes>"
            ],
            "image/png": "[encoded data removed]"
          },
          "metadata": {}
        }
      ]
    },
    {
      "cell_type": "markdown",
      "source": [
        "### **💡 상관계수 확인**<br>\n"
      ],
      "metadata": {
        "id": "8-PKA2TqVoVm"
      }
    },
    {
      "cell_type": "code",
      "source": [
        "df_cleaned.corr()"
      ],
      "metadata": {
        "colab": {
          "base_uri": "https://localhost:8080/",
          "height": 363
        },
        "id": "-q_d1RFiW66T",
        "outputId": "242f713f-f350-479f-8edb-4bf1f9c98e75"
      },
      "execution_count": 62,
      "outputs": [
        {
          "output_type": "execute_result",
          "data": {
            "text/plain": [
              "                         dialysis_duration  transfusions  \\\n",
              "dialysis_duration                 1.000000      0.182225   \n",
              "transfusions                      0.182225      1.000000   \n",
              "number_prior_transplant           0.405599      0.105972   \n",
              "HLA_A1                            0.007897     -0.009529   \n",
              "HLA_A2                            0.019726      0.005434   \n",
              "HLA_B1                            0.011107     -0.008153   \n",
              "HLA_B2                            0.002934     -0.019767   \n",
              "HLA_DR1                           0.011027      0.018558   \n",
              "HLA_DR2                           0.004087     -0.020258   \n",
              "duration                         -0.082288     -0.077561   \n",
              "\n",
              "                         number_prior_transplant    HLA_A1    HLA_A2  \\\n",
              "dialysis_duration                       0.405599  0.007897  0.019726   \n",
              "transfusions                            0.105972 -0.009529  0.005434   \n",
              "number_prior_transplant                 1.000000  0.003588  0.013464   \n",
              "HLA_A1                                  0.003588  1.000000  0.269556   \n",
              "HLA_A2                                  0.013464  0.269556  1.000000   \n",
              "HLA_B1                                 -0.007356  0.092791 -0.029356   \n",
              "HLA_B2                                 -0.018716 -0.043583  0.067601   \n",
              "HLA_DR1                                -0.014508  0.094063 -0.020876   \n",
              "HLA_DR2                                -0.015445 -0.049747  0.073555   \n",
              "duration                               -0.007076  0.012075  0.029945   \n",
              "\n",
              "                           HLA_B1    HLA_B2   HLA_DR1   HLA_DR2  duration  \n",
              "dialysis_duration        0.011107  0.002934  0.011027  0.004087 -0.082288  \n",
              "transfusions            -0.008153 -0.019767  0.018558 -0.020258 -0.077561  \n",
              "number_prior_transplant -0.007356 -0.018716 -0.014508 -0.015445 -0.007076  \n",
              "HLA_A1                   0.092791 -0.043583  0.094063 -0.049747  0.012075  \n",
              "HLA_A2                  -0.029356  0.067601 -0.020876  0.073555  0.029945  \n",
              "HLA_B1                   1.000000  0.216678  0.128109 -0.045026  0.012718  \n",
              "HLA_B2                   0.216678  1.000000  0.006761  0.111512  0.000028  \n",
              "HLA_DR1                  0.128109  0.006761  1.000000  0.254165  0.013535  \n",
              "HLA_DR2                 -0.045026  0.111512  0.254165  1.000000 -0.011243  \n",
              "duration                 0.012718  0.000028  0.013535 -0.011243  1.000000  "
            ],
            "text/html": [
              "\n",
              "  <div id=\"df-5ac5e8cb-dc7e-4b75-9ab2-bc19f2ddb853\">\n",
              "    <div class=\"colab-df-container\">\n",
              "      <div>\n",
              "<style scoped>\n",
              "    .dataframe tbody tr th:only-of-type {\n",
              "        vertical-align: middle;\n",
              "    }\n",
              "\n",
              "    .dataframe tbody tr th {\n",
              "        vertical-align: top;\n",
              "    }\n",
              "\n",
              "    .dataframe thead th {\n",
              "        text-align: right;\n",
              "    }\n",
              "</style>\n",
              "<table border=\"1\" class=\"dataframe\">\n",
              "  <thead>\n",
              "    <tr style=\"text-align: right;\">\n",
              "      <th></th>\n",
              "      <th>dialysis_duration</th>\n",
              "      <th>transfusions</th>\n",
              "      <th>number_prior_transplant</th>\n",
              "      <th>HLA_A1</th>\n",
              "      <th>HLA_A2</th>\n",
              "      <th>HLA_B1</th>\n",
              "      <th>HLA_B2</th>\n",
              "      <th>HLA_DR1</th>\n",
              "      <th>HLA_DR2</th>\n",
              "      <th>duration</th>\n",
              "    </tr>\n",
              "  </thead>\n",
              "  <tbody>\n",
              "    <tr>\n",
              "      <th>dialysis_duration</th>\n",
              "      <td>1.000000</td>\n",
              "      <td>0.182225</td>\n",
              "      <td>0.405599</td>\n",
              "      <td>0.007897</td>\n",
              "      <td>0.019726</td>\n",
              "      <td>0.011107</td>\n",
              "      <td>0.002934</td>\n",
              "      <td>0.011027</td>\n",
              "      <td>0.004087</td>\n",
              "      <td>-0.082288</td>\n",
              "    </tr>\n",
              "    <tr>\n",
              "      <th>transfusions</th>\n",
              "      <td>0.182225</td>\n",
              "      <td>1.000000</td>\n",
              "      <td>0.105972</td>\n",
              "      <td>-0.009529</td>\n",
              "      <td>0.005434</td>\n",
              "      <td>-0.008153</td>\n",
              "      <td>-0.019767</td>\n",
              "      <td>0.018558</td>\n",
              "      <td>-0.020258</td>\n",
              "      <td>-0.077561</td>\n",
              "    </tr>\n",
              "    <tr>\n",
              "      <th>number_prior_transplant</th>\n",
              "      <td>0.405599</td>\n",
              "      <td>0.105972</td>\n",
              "      <td>1.000000</td>\n",
              "      <td>0.003588</td>\n",
              "      <td>0.013464</td>\n",
              "      <td>-0.007356</td>\n",
              "      <td>-0.018716</td>\n",
              "      <td>-0.014508</td>\n",
              "      <td>-0.015445</td>\n",
              "      <td>-0.007076</td>\n",
              "    </tr>\n",
              "    <tr>\n",
              "      <th>HLA_A1</th>\n",
              "      <td>0.007897</td>\n",
              "      <td>-0.009529</td>\n",
              "      <td>0.003588</td>\n",
              "      <td>1.000000</td>\n",
              "      <td>0.269556</td>\n",
              "      <td>0.092791</td>\n",
              "      <td>-0.043583</td>\n",
              "      <td>0.094063</td>\n",
              "      <td>-0.049747</td>\n",
              "      <td>0.012075</td>\n",
              "    </tr>\n",
              "    <tr>\n",
              "      <th>HLA_A2</th>\n",
              "      <td>0.019726</td>\n",
              "      <td>0.005434</td>\n",
              "      <td>0.013464</td>\n",
              "      <td>0.269556</td>\n",
              "      <td>1.000000</td>\n",
              "      <td>-0.029356</td>\n",
              "      <td>0.067601</td>\n",
              "      <td>-0.020876</td>\n",
              "      <td>0.073555</td>\n",
              "      <td>0.029945</td>\n",
              "    </tr>\n",
              "    <tr>\n",
              "      <th>HLA_B1</th>\n",
              "      <td>0.011107</td>\n",
              "      <td>-0.008153</td>\n",
              "      <td>-0.007356</td>\n",
              "      <td>0.092791</td>\n",
              "      <td>-0.029356</td>\n",
              "      <td>1.000000</td>\n",
              "      <td>0.216678</td>\n",
              "      <td>0.128109</td>\n",
              "      <td>-0.045026</td>\n",
              "      <td>0.012718</td>\n",
              "    </tr>\n",
              "    <tr>\n",
              "      <th>HLA_B2</th>\n",
              "      <td>0.002934</td>\n",
              "      <td>-0.019767</td>\n",
              "      <td>-0.018716</td>\n",
              "      <td>-0.043583</td>\n",
              "      <td>0.067601</td>\n",
              "      <td>0.216678</td>\n",
              "      <td>1.000000</td>\n",
              "      <td>0.006761</td>\n",
              "      <td>0.111512</td>\n",
              "      <td>0.000028</td>\n",
              "    </tr>\n",
              "    <tr>\n",
              "      <th>HLA_DR1</th>\n",
              "      <td>0.011027</td>\n",
              "      <td>0.018558</td>\n",
              "      <td>-0.014508</td>\n",
              "      <td>0.094063</td>\n",
              "      <td>-0.020876</td>\n",
              "      <td>0.128109</td>\n",
              "      <td>0.006761</td>\n",
              "      <td>1.000000</td>\n",
              "      <td>0.254165</td>\n",
              "      <td>0.013535</td>\n",
              "    </tr>\n",
              "    <tr>\n",
              "      <th>HLA_DR2</th>\n",
              "      <td>0.004087</td>\n",
              "      <td>-0.020258</td>\n",
              "      <td>-0.015445</td>\n",
              "      <td>-0.049747</td>\n",
              "      <td>0.073555</td>\n",
              "      <td>-0.045026</td>\n",
              "      <td>0.111512</td>\n",
              "      <td>0.254165</td>\n",
              "      <td>1.000000</td>\n",
              "      <td>-0.011243</td>\n",
              "    </tr>\n",
              "    <tr>\n",
              "      <th>duration</th>\n",
              "      <td>-0.082288</td>\n",
              "      <td>-0.077561</td>\n",
              "      <td>-0.007076</td>\n",
              "      <td>0.012075</td>\n",
              "      <td>0.029945</td>\n",
              "      <td>0.012718</td>\n",
              "      <td>0.000028</td>\n",
              "      <td>0.013535</td>\n",
              "      <td>-0.011243</td>\n",
              "      <td>1.000000</td>\n",
              "    </tr>\n",
              "  </tbody>\n",
              "</table>\n",
              "</div>\n",
              "      <button class=\"colab-df-convert\" onclick=\"convertToInteractive('df-5ac5e8cb-dc7e-4b75-9ab2-bc19f2ddb853')\"\n",
              "              title=\"Convert this dataframe to an interactive table.\"\n",
              "              style=\"display:none;\">\n",
              "        \n",
              "  <svg xmlns=\"http://www.w3.org/2000/svg\" height=\"24px\"viewBox=\"0 0 24 24\"\n",
              "       width=\"24px\">\n",
              "    <path d=\"M0 0h24v24H0V0z\" fill=\"none\"/>\n",
              "    <path d=\"M18.56 5.44l.94 2.06.94-2.06 2.06-.94-2.06-.94-.94-2.06-.94 2.06-2.06.94zm-11 1L8.5 8.5l.94-2.06 2.06-.94-2.06-.94L8.5 2.5l-.94 2.06-2.06.94zm10 10l.94 2.06.94-2.06 2.06-.94-2.06-.94-.94-2.06-.94 2.06-2.06.94z\"/><path d=\"M17.41 7.96l-1.37-1.37c-.4-.4-.92-.59-1.43-.59-.52 0-1.04.2-1.43.59L10.3 9.45l-7.72 7.72c-.78.78-.78 2.05 0 2.83L4 21.41c.39.39.9.59 1.41.59.51 0 1.02-.2 1.41-.59l7.78-7.78 2.81-2.81c.8-.78.8-2.07 0-2.86zM5.41 20L4 18.59l7.72-7.72 1.47 1.35L5.41 20z\"/>\n",
              "  </svg>\n",
              "      </button>\n",
              "      \n",
              "  <style>\n",
              "    .colab-df-container {\n",
              "      display:flex;\n",
              "      flex-wrap:wrap;\n",
              "      gap: 12px;\n",
              "    }\n",
              "\n",
              "    .colab-df-convert {\n",
              "      background-color: #E8F0FE;\n",
              "      border: none;\n",
              "      border-radius: 50%;\n",
              "      cursor: pointer;\n",
              "      display: none;\n",
              "      fill: #1967D2;\n",
              "      height: 32px;\n",
              "      padding: 0 0 0 0;\n",
              "      width: 32px;\n",
              "    }\n",
              "\n",
              "    .colab-df-convert:hover {\n",
              "      background-color: #E2EBFA;\n",
              "      box-shadow: 0px 1px 2px rgba(60, 64, 67, 0.3), 0px 1px 3px 1px rgba(60, 64, 67, 0.15);\n",
              "      fill: #174EA6;\n",
              "    }\n",
              "\n",
              "    [theme=dark] .colab-df-convert {\n",
              "      background-color: #3B4455;\n",
              "      fill: #D2E3FC;\n",
              "    }\n",
              "\n",
              "    [theme=dark] .colab-df-convert:hover {\n",
              "      background-color: #434B5C;\n",
              "      box-shadow: 0px 1px 3px 1px rgba(0, 0, 0, 0.15);\n",
              "      filter: drop-shadow(0px 1px 2px rgba(0, 0, 0, 0.3));\n",
              "      fill: #FFFFFF;\n",
              "    }\n",
              "  </style>\n",
              "\n",
              "      <script>\n",
              "        const buttonEl =\n",
              "          document.querySelector('#df-5ac5e8cb-dc7e-4b75-9ab2-bc19f2ddb853 button.colab-df-convert');\n",
              "        buttonEl.style.display =\n",
              "          google.colab.kernel.accessAllowed ? 'block' : 'none';\n",
              "\n",
              "        async function convertToInteractive(key) {\n",
              "          const element = document.querySelector('#df-5ac5e8cb-dc7e-4b75-9ab2-bc19f2ddb853');\n",
              "          const dataTable =\n",
              "            await google.colab.kernel.invokeFunction('convertToInteractive',\n",
              "                                                     [key], {});\n",
              "          if (!dataTable) return;\n",
              "\n",
              "          const docLinkHtml = 'Like what you see? Visit the ' +\n",
              "            '<a target=\"_blank\" href=https://colab.research.google.com/notebooks/data_table.ipynb>data table notebook</a>'\n",
              "            + ' to learn more about interactive tables.';\n",
              "          element.innerHTML = '';\n",
              "          dataTable['output_type'] = 'display_data';\n",
              "          await google.colab.output.renderOutput(dataTable, element);\n",
              "          const docLink = document.createElement('div');\n",
              "          docLink.innerHTML = docLinkHtml;\n",
              "          element.appendChild(docLink);\n",
              "        }\n",
              "      </script>\n",
              "    </div>\n",
              "  </div>\n",
              "  "
            ]
          },
          "metadata": {},
          "execution_count": 62
        }
      ]
    },
    {
      "cell_type": "code",
      "source": [
        "# 상관관계 그래프 확인\n",
        "plt.figure(figsize=(8, 6))\n",
        "sns.heatmap(df_cleaned.corr(),\n",
        "            annot=True, \n",
        "            cmap='summer',\n",
        "            fmt='.2f',\n",
        "            cbar=False,\n",
        "            square=True,\n",
        "            annot_kws={'size':8})\n",
        "plt.show()"
      ],
      "metadata": {
        "colab": {
          "base_uri": "https://localhost:8080/",
          "height": 680
        },
        "id": "BcQVaOV7XItJ",
        "outputId": "3bcec2de-62b7-4a5b-d9fa-7e9788b27212"
      },
      "execution_count": 63,
      "outputs": [
        {
          "output_type": "display_data",
          "data": {
            "text/plain": [
              "<Figure size 800x600 with 1 Axes>"
            ],
            "image/png": "[encoded data removed]"
          },
          "metadata": {}
        }
      ]
    },
    {
      "cell_type": "markdown",
      "source": [
        "### **💡 카디널리티 확인**<br>\n"
      ],
      "metadata": {
        "id": "Nr0JVVBlYlHl"
      }
    },
    {
      "cell_type": "code",
      "source": [
        "df_cleaned.nunique()"
      ],
      "metadata": {
        "colab": {
          "base_uri": "https://localhost:8080/"
        },
        "id": "SHD71TAEYuCf",
        "outputId": "c8179e54-f1f0-4dc2-a5c5-b6dcf6eeae6c"
      },
      "execution_count": 64,
      "outputs": [
        {
          "output_type": "execute_result",
          "data": {
            "text/plain": [
              "age_cat                      3\n",
              "dialysis_duration          173\n",
              "gender                       2\n",
              "underlying_disease           5\n",
              "Blood_type                   4\n",
              "transfusions                 4\n",
              "gestation                    2\n",
              "prior_transplant             2\n",
              "number_prior_transplant      6\n",
              "cPRA_cat                     4\n",
              "HLA_A1                      21\n",
              "HLA_A2                      21\n",
              "HLA_B1                      35\n",
              "HLA_B2                      36\n",
              "HLA_DR1                     14\n",
              "HLA_DR2                     14\n",
              "DR_00                        2\n",
              "B_00                         2\n",
              "A_00                         2\n",
              "death                        2\n",
              "duration                   185\n",
              "dialysis_duration_cat        4\n",
              "dtype: int64"
            ]
          },
          "metadata": {},
          "execution_count": 64
        }
      ]
    },
    {
      "cell_type": "markdown",
      "source": [
        "### 3) 시각화\n",
        "- 가설과 관련된 시각화 결과 제시\n",
        "- **`투석기간이 짧은 경우 신장 이식 후의 생존율이 높아질 것이다.`**"
      ],
      "metadata": {
        "id": "jkiFfVKQftVn"
      }
    },
    {
      "cell_type": "markdown",
      "source": [
        "#### 투석기간(dialysis_duration)에 따른 사망 여부(death)"
      ],
      "metadata": {
        "id": "KuHBgaCs4p4N"
      }
    },
    {
      "cell_type": "code",
      "source": [
        "# 투석기간에 따른 사망 여부의 빈도수 확인\n",
        "pd.crosstab(df_cleaned['dialysis_duration_cat'], df_cleaned['death'], margins=True)"
      ],
      "metadata": {
        "colab": {
          "base_uri": "https://localhost:8080/",
          "height": 238
        },
        "id": "aVQbrPtJZHc5",
        "outputId": "958384b9-9828-46fa-cd39-3725d276fe58"
      },
      "execution_count": 65,
      "outputs": [
        {
          "output_type": "execute_result",
          "data": {
            "text/plain": [
              "death                     No   Yes    All\n",
              "dialysis_duration_cat                    \n",
              "below45                10245  2194  12439\n",
              "From46to90               720   167    887\n",
              "From91to135              216    47    263\n",
              "Over136                  122    21    143\n",
              "All                    11303  2429  13732"
            ],
            "text/html": [
              "\n",
              "  <div id=\"df-4712568a-7afd-497b-88b5-f05e7e950117\">\n",
              "    <div class=\"colab-df-container\">\n",
              "      <div>\n",
              "<style scoped>\n",
              "    .dataframe tbody tr th:only-of-type {\n",
              "        vertical-align: middle;\n",
              "    }\n",
              "\n",
              "    .dataframe tbody tr th {\n",
              "        vertical-align: top;\n",
              "    }\n",
              "\n",
              "    .dataframe thead th {\n",
              "        text-align: right;\n",
              "    }\n",
              "</style>\n",
              "<table border=\"1\" class=\"dataframe\">\n",
              "  <thead>\n",
              "    <tr style=\"text-align: right;\">\n",
              "      <th>death</th>\n",
              "      <th>No</th>\n",
              "      <th>Yes</th>\n",
              "      <th>All</th>\n",
              "    </tr>\n",
              "    <tr>\n",
              "      <th>dialysis_duration_cat</th>\n",
              "      <th></th>\n",
              "      <th></th>\n",
              "      <th></th>\n",
              "    </tr>\n",
              "  </thead>\n",
              "  <tbody>\n",
              "    <tr>\n",
              "      <th>below45</th>\n",
              "      <td>10245</td>\n",
              "      <td>2194</td>\n",
              "      <td>12439</td>\n",
              "    </tr>\n",
              "    <tr>\n",
              "      <th>From46to90</th>\n",
              "      <td>720</td>\n",
              "      <td>167</td>\n",
              "      <td>887</td>\n",
              "    </tr>\n",
              "    <tr>\n",
              "      <th>From91to135</th>\n",
              "      <td>216</td>\n",
              "      <td>47</td>\n",
              "      <td>263</td>\n",
              "    </tr>\n",
              "    <tr>\n",
              "      <th>Over136</th>\n",
              "      <td>122</td>\n",
              "      <td>21</td>\n",
              "      <td>143</td>\n",
              "    </tr>\n",
              "    <tr>\n",
              "      <th>All</th>\n",
              "      <td>11303</td>\n",
              "      <td>2429</td>\n",
              "      <td>13732</td>\n",
              "    </tr>\n",
              "  </tbody>\n",
              "</table>\n",
              "</div>\n",
              "      <button class=\"colab-df-convert\" onclick=\"convertToInteractive('df-4712568a-7afd-497b-88b5-f05e7e950117')\"\n",
              "              title=\"Convert this dataframe to an interactive table.\"\n",
              "              style=\"display:none;\">\n",
              "        \n",
              "  <svg xmlns=\"http://www.w3.org/2000/svg\" height=\"24px\"viewBox=\"0 0 24 24\"\n",
              "       width=\"24px\">\n",
              "    <path d=\"M0 0h24v24H0V0z\" fill=\"none\"/>\n",
              "    <path d=\"M18.56 5.44l.94 2.06.94-2.06 2.06-.94-2.06-.94-.94-2.06-.94 2.06-2.06.94zm-11 1L8.5 8.5l.94-2.06 2.06-.94-2.06-.94L8.5 2.5l-.94 2.06-2.06.94zm10 10l.94 2.06.94-2.06 2.06-.94-2.06-.94-.94-2.06-.94 2.06-2.06.94z\"/><path d=\"M17.41 7.96l-1.37-1.37c-.4-.4-.92-.59-1.43-.59-.52 0-1.04.2-1.43.59L10.3 9.45l-7.72 7.72c-.78.78-.78 2.05 0 2.83L4 21.41c.39.39.9.59 1.41.59.51 0 1.02-.2 1.41-.59l7.78-7.78 2.81-2.81c.8-.78.8-2.07 0-2.86zM5.41 20L4 18.59l7.72-7.72 1.47 1.35L5.41 20z\"/>\n",
              "  </svg>\n",
              "      </button>\n",
              "      \n",
              "  <style>\n",
              "    .colab-df-container {\n",
              "      display:flex;\n",
              "      flex-wrap:wrap;\n",
              "      gap: 12px;\n",
              "    }\n",
              "\n",
              "    .colab-df-convert {\n",
              "      background-color: #E8F0FE;\n",
              "      border: none;\n",
              "      border-radius: 50%;\n",
              "      cursor: pointer;\n",
              "      display: none;\n",
              "      fill: #1967D2;\n",
              "      height: 32px;\n",
              "      padding: 0 0 0 0;\n",
              "      width: 32px;\n",
              "    }\n",
              "\n",
              "    .colab-df-convert:hover {\n",
              "      background-color: #E2EBFA;\n",
              "      box-shadow: 0px 1px 2px rgba(60, 64, 67, 0.3), 0px 1px 3px 1px rgba(60, 64, 67, 0.15);\n",
              "      fill: #174EA6;\n",
              "    }\n",
              "\n",
              "    [theme=dark] .colab-df-convert {\n",
              "      background-color: #3B4455;\n",
              "      fill: #D2E3FC;\n",
              "    }\n",
              "\n",
              "    [theme=dark] .colab-df-convert:hover {\n",
              "      background-color: #434B5C;\n",
              "      box-shadow: 0px 1px 3px 1px rgba(0, 0, 0, 0.15);\n",
              "      filter: drop-shadow(0px 1px 2px rgba(0, 0, 0, 0.3));\n",
              "      fill: #FFFFFF;\n",
              "    }\n",
              "  </style>\n",
              "\n",
              "      <script>\n",
              "        const buttonEl =\n",
              "          document.querySelector('#df-4712568a-7afd-497b-88b5-f05e7e950117 button.colab-df-convert');\n",
              "        buttonEl.style.display =\n",
              "          google.colab.kernel.accessAllowed ? 'block' : 'none';\n",
              "\n",
              "        async function convertToInteractive(key) {\n",
              "          const element = document.querySelector('#df-4712568a-7afd-497b-88b5-f05e7e950117');\n",
              "          const dataTable =\n",
              "            await google.colab.kernel.invokeFunction('convertToInteractive',\n",
              "                                                     [key], {});\n",
              "          if (!dataTable) return;\n",
              "\n",
              "          const docLinkHtml = 'Like what you see? Visit the ' +\n",
              "            '<a target=\"_blank\" href=https://colab.research.google.com/notebooks/data_table.ipynb>data table notebook</a>'\n",
              "            + ' to learn more about interactive tables.';\n",
              "          element.innerHTML = '';\n",
              "          dataTable['output_type'] = 'display_data';\n",
              "          await google.colab.output.renderOutput(dataTable, element);\n",
              "          const docLink = document.createElement('div');\n",
              "          docLink.innerHTML = docLinkHtml;\n",
              "          element.appendChild(docLink);\n",
              "        }\n",
              "      </script>\n",
              "    </div>\n",
              "  </div>\n",
              "  "
            ]
          },
          "metadata": {},
          "execution_count": 65
        }
      ]
    },
    {
      "cell_type": "code",
      "source": [
        "# 그래프 확인\n",
        "ct = pd.crosstab(df_cleaned['dialysis_duration_cat'],df_cleaned['death'])\n",
        "ct.plot(kind=\"barh\")\n",
        "plt.title(\"Crosstab of 'dialysis_duration_cat' with 'death'\");"
      ],
      "metadata": {
        "colab": {
          "base_uri": "https://localhost:8080/",
          "height": 452
        },
        "id": "bWLnfniHP-TL",
        "outputId": "0cf5dabe-9699-435e-fc51-b7d4fe883f89"
      },
      "execution_count": 66,
      "outputs": [
        {
          "output_type": "display_data",
          "data": {
            "text/plain": [
              "<Figure size 640x480 with 1 Axes>"
            ],
            "image/png": "[encoded data removed]"
          },
          "metadata": {}
        }
      ]
    },
    {
      "cell_type": "markdown",
      "source": [
        "#### 기저질환(underlying_disease)에 따른 사망여부(death)"
      ],
      "metadata": {
        "id": "rTiXI0Gc4w2O"
      }
    },
    {
      "cell_type": "code",
      "source": [
        "# 기저질환에 따른 사망 여부 - 그래프 확인\n",
        "ct = pd.crosstab(df_cleaned['underlying_disease'],df_cleaned['death'])\n",
        "ct.plot(kind=\"barh\")\n",
        "plt.title(\"Crosstab of 'underlying_disease' with 'death'\");"
      ],
      "metadata": {
        "colab": {
          "base_uri": "https://localhost:8080/",
          "height": 452
        },
        "id": "fOgREuqMajUW",
        "outputId": "aae1555a-67b0-4bda-f6ec-5c5c42647cfa"
      },
      "execution_count": 67,
      "outputs": [
        {
          "output_type": "display_data",
          "data": {
            "text/plain": [
              "<Figure size 640x480 with 1 Axes>"
            ],
            "image/png": "[encoded data removed]"
          },
          "metadata": {}
        }
      ]
    },
    {
      "cell_type": "markdown",
      "source": [
        "#### 나이(age_cat)에 따른 사망여부(death)"
      ],
      "metadata": {
        "id": "U5vEo_sR42kH"
      }
    },
    {
      "cell_type": "code",
      "source": [
        "# 나이에 따른 사망 여부 - 그래프 확인\n",
        "ct = pd.crosstab(df_cleaned['age_cat'],df_cleaned['death'])\n",
        "ct.plot(kind=\"barh\")\n",
        "plt.title(\"Crosstab of 'age_cat' with 'death'\");"
      ],
      "metadata": {
        "colab": {
          "base_uri": "https://localhost:8080/",
          "height": 452
        },
        "id": "owgFaUhIa4x8",
        "outputId": "e802696b-378f-43d3-aa80-9180610c7e7c"
      },
      "execution_count": 68,
      "outputs": [
        {
          "output_type": "display_data",
          "data": {
            "text/plain": [
              "<Figure size 640x480 with 1 Axes>"
            ],
            "image/png": "[encoded data removed]"
          },
          "metadata": {}
        }
      ]
    },
    {
      "cell_type": "markdown",
      "source": [
        "#### 과거 장기이식 여부(prior_transplant)에 따른 사망 여부(death)"
      ],
      "metadata": {
        "id": "J-XP1tln5O5e"
      }
    },
    {
      "cell_type": "code",
      "source": [
        "# 과거 장기이식 여부에 따른 사망 여부 - 그래프 확인\n",
        "ct = pd.crosstab(df_cleaned['prior_transplant'],df_cleaned['death'])\n",
        "ct.plot(kind=\"barh\")\n",
        "plt.title(\"Crosstab of 'prior_transplant' with 'death'\");"
      ],
      "metadata": {
        "colab": {
          "base_uri": "https://localhost:8080/",
          "height": 452
        },
        "id": "OOTIEpQibTC3",
        "outputId": "8083caab-6276-4851-e476-0740ea1a90c6"
      },
      "execution_count": 69,
      "outputs": [
        {
          "output_type": "display_data",
          "data": {
            "text/plain": [
              "<Figure size 640x480 with 1 Axes>"
            ],
            "image/png": "[encoded data removed]"
          },
          "metadata": {}
        }
      ]
    },
    {
      "cell_type": "markdown",
      "source": [
        "#### 임신여부(gestation)에 따른 사망 여부(death)"
      ],
      "metadata": {
        "id": "HfbqFvnj5XOU"
      }
    },
    {
      "cell_type": "code",
      "source": [
        "# 임신여부에 따른 사망 여부 - 그래프 확인\n",
        "ct = pd.crosstab(df_cleaned['gestation'],df_cleaned['death'])\n",
        "ct.plot(kind=\"barh\")\n",
        "plt.title(\"Crosstab of 'gestation' with 'death'\");"
      ],
      "metadata": {
        "colab": {
          "base_uri": "https://localhost:8080/",
          "height": 452
        },
        "id": "_6pSI3scbcEs",
        "outputId": "f05c30d2-65a3-476a-8de1-a42a13ae1251"
      },
      "execution_count": 70,
      "outputs": [
        {
          "output_type": "display_data",
          "data": {
            "text/plain": [
              "<Figure size 640x480 with 1 Axes>"
            ],
            "image/png": "[encoded data removed]"
          },
          "metadata": {}
        }
      ]
    },
    {
      "cell_type": "markdown",
      "source": [
        "#### 수혈 횟수(transfusions)에 따른 사망여부(death)"
      ],
      "metadata": {
        "id": "Nz2RLR345c7s"
      }
    },
    {
      "cell_type": "code",
      "source": [
        "# 수혈 횟수 특성 빈도수 확인\n",
        "df_cleaned['transfusions'].value_counts().to_frame().style.background_gradient(cmap='summer')"
      ],
      "metadata": {
        "colab": {
          "base_uri": "https://localhost:8080/",
          "height": 175
        },
        "id": "wX36zZb8brdS",
        "outputId": "765f5ff2-48c0-423d-9c2b-b1adcac403da"
      },
      "execution_count": 71,
      "outputs": [
        {
          "output_type": "execute_result",
          "data": {
            "text/plain": [
              "<pandas.io.formats.style.Styler at 0x7efbd267d0d0>"
            ],
            "text/html": [
              "<style type=\"text/css\">\n",
              "#T_7fd12_row0_col0 {\n",
              "  background-color: #ffff66;\n",
              "  color: #000000;\n",
              "}\n",
              "#T_7fd12_row1_col0 {\n",
              "  background-color: #75ba66;\n",
              "  color: #f1f1f1;\n",
              "}\n",
              "#T_7fd12_row2_col0 {\n",
              "  background-color: #068266;\n",
              "  color: #f1f1f1;\n",
              "}\n",
              "#T_7fd12_row3_col0 {\n",
              "  background-color: #008066;\n",
              "  color: #f1f1f1;\n",
              "}\n",
              "</style>\n",
              "<table id=\"T_7fd12\" class=\"dataframe\">\n",
              "  <thead>\n",
              "    <tr>\n",
              "      <th class=\"blank level0\" >&nbsp;</th>\n",
              "      <th id=\"T_7fd12_level0_col0\" class=\"col_heading level0 col0\" >transfusions</th>\n",
              "    </tr>\n",
              "  </thead>\n",
              "  <tbody>\n",
              "    <tr>\n",
              "      <th id=\"T_7fd12_level0_row0\" class=\"row_heading level0 row0\" >0</th>\n",
              "      <td id=\"T_7fd12_row0_col0\" class=\"data row0 col0\" >8895</td>\n",
              "    </tr>\n",
              "    <tr>\n",
              "      <th id=\"T_7fd12_level0_row1\" class=\"row_heading level0 row1\" >1</th>\n",
              "      <td id=\"T_7fd12_row1_col0\" class=\"data row1 col0\" >4198</td>\n",
              "    </tr>\n",
              "    <tr>\n",
              "      <th id=\"T_7fd12_level0_row2\" class=\"row_heading level0 row2\" >2</th>\n",
              "      <td id=\"T_7fd12_row2_col0\" class=\"data row2 col0\" >437</td>\n",
              "    </tr>\n",
              "    <tr>\n",
              "      <th id=\"T_7fd12_level0_row3\" class=\"row_heading level0 row3\" >3</th>\n",
              "      <td id=\"T_7fd12_row3_col0\" class=\"data row3 col0\" >202</td>\n",
              "    </tr>\n",
              "  </tbody>\n",
              "</table>\n"
            ]
          },
          "metadata": {},
          "execution_count": 71
        }
      ]
    },
    {
      "cell_type": "code",
      "source": [
        "# 수혈 횟수에 따른 사망 여부 - 그래프 확인\n",
        "ct = pd.crosstab(df_cleaned['transfusions'],df_cleaned['death'])\n",
        "ct.plot(kind=\"barh\")\n",
        "plt.title(\"Crosstab of 'transfusions' with 'death'\");"
      ],
      "metadata": {
        "colab": {
          "base_uri": "https://localhost:8080/",
          "height": 452
        },
        "id": "kUrUVMSJbiNp",
        "outputId": "f1cb60d8-fad0-47b0-b854-fd14e677dfb6"
      },
      "execution_count": 72,
      "outputs": [
        {
          "output_type": "display_data",
          "data": {
            "text/plain": [
              "<Figure size 640x480 with 1 Axes>"
            ],
            "image/png": "[encoded data removed]"
          },
          "metadata": {}
        }
      ]
    },
    {
      "cell_type": "markdown",
      "source": [
        "> **🔎 전처리 후의 체크 질문**\n",
        "1. Data Leakage가 있었나요? 없었다면 어떻게 방지했나요?\n",
        "  - 사용할 수 있는 특성 이상의 특성으로 포함하고 있는지 확인 (상관계수가 너무 높은 피쳐 drop)\n",
        "  -  스케일링 및 인코딩 과정 유의 (pipeline 활용)\n",
        "2. 특성과 타겟의 관계 및 가설을 충분히 설명할 수 있는 시각화 결과를 제시했나요?\n",
        "3. 전처리 과정에 대한 근거와 설명이 있나요?"
      ],
      "metadata": {
        "id": "J1II6fWOcmM6"
      }
    },
    {
      "cell_type": "markdown",
      "source": [
        "## **2. Modeling**"
      ],
      "metadata": {
        "id": "Q26YZgUAfw1m"
      }
    },
    {
      "cell_type": "markdown",
      "source": [
        "### (1) 데이터 준비<br>\n",
        "  - 특성과 타겟 분리\n",
        "  - 가변수화(인코딩)\n",
        "  - 학습/검증/테스트 데이터셋 분리\n",
        "  - 스케일링\n",
        "  - 기준모델 생성"
      ],
      "metadata": {
        "id": "1DOS9uT_Zm6i"
      }
    },
    {
      "cell_type": "code",
      "source": [
        "df_cleaned.head().T"
      ],
      "metadata": {
        "colab": {
          "base_uri": "https://localhost:8080/",
          "height": 739
        },
        "id": "gNPNKgXnkI73",
        "outputId": "30550a6b-a09e-4950-c57f-c65b5c5b41d2"
      },
      "execution_count": 73,
      "outputs": [
        {
          "output_type": "execute_result",
          "data": {
            "text/plain": [
              "                                    0             1             2  \\\n",
              "age_cat                        Over60        Over60    From18to60   \n",
              "dialysis_duration                  14            12             1   \n",
              "gender                              M             M             M   \n",
              "underlying_disease           Diabetes        others        others   \n",
              "Blood_type                          B            AB             O   \n",
              "transfusions                        1             0             0   \n",
              "gestation                          No            No            No   \n",
              "prior_transplant                   No            No            No   \n",
              "number_prior_transplant             0             0             0   \n",
              "cPRA_cat                         Zero          Zero          Zero   \n",
              "HLA_A1                              2             2             1   \n",
              "HLA_A2                              3            68             2   \n",
              "HLA_B1                             14            39            40   \n",
              "HLA_B2                             51            40            57   \n",
              "HLA_DR1                             1             4             4   \n",
              "HLA_DR2                            13             0             4   \n",
              "DR_00                    heterozygote    homozygote  heterozygote   \n",
              "B_00                     heterozygote  heterozygote  heterozygote   \n",
              "A_00                     heterozygote  heterozygote  heterozygote   \n",
              "death                              No           Yes            No   \n",
              "duration                            5             9            45   \n",
              "dialysis_duration_cat         below45       below45       below45   \n",
              "\n",
              "                                    3             4  \n",
              "age_cat                        Over60    From18to60  \n",
              "dialysis_duration                   7            12  \n",
              "gender                              M             F  \n",
              "underlying_disease             others           GNS  \n",
              "Blood_type                          A             A  \n",
              "transfusions                        0             0  \n",
              "gestation                          No            No  \n",
              "prior_transplant                   No            No  \n",
              "number_prior_transplant             0             0  \n",
              "cPRA_cat                         Zero          Zero  \n",
              "HLA_A1                              2             2  \n",
              "HLA_A2                             29            23  \n",
              "HLA_B1                             44             8  \n",
              "HLA_B2                              0            44  \n",
              "HLA_DR1                             7             8  \n",
              "HLA_DR2                            11            15  \n",
              "DR_00                    heterozygote  heterozygote  \n",
              "B_00                       homozygote  heterozygote  \n",
              "A_00                     heterozygote  heterozygote  \n",
              "death                             Yes            No  \n",
              "duration                           43            15  \n",
              "dialysis_duration_cat         below45       below45  "
            ],
            "text/html": [
              "\n",
              "  <div id=\"df-139892df-83f3-4aa4-a42e-22b2157fee60\">\n",
              "    <div class=\"colab-df-container\">\n",
              "      <div>\n",
              "<style scoped>\n",
              "    .dataframe tbody tr th:only-of-type {\n",
              "        vertical-align: middle;\n",
              "    }\n",
              "\n",
              "    .dataframe tbody tr th {\n",
              "        vertical-align: top;\n",
              "    }\n",
              "\n",
              "    .dataframe thead th {\n",
              "        text-align: right;\n",
              "    }\n",
              "</style>\n",
              "<table border=\"1\" class=\"dataframe\">\n",
              "  <thead>\n",
              "    <tr style=\"text-align: right;\">\n",
              "      <th></th>\n",
              "      <th>0</th>\n",
              "      <th>1</th>\n",
              "      <th>2</th>\n",
              "      <th>3</th>\n",
              "      <th>4</th>\n",
              "    </tr>\n",
              "  </thead>\n",
              "  <tbody>\n",
              "    <tr>\n",
              "      <th>age_cat</th>\n",
              "      <td>Over60</td>\n",
              "      <td>Over60</td>\n",
              "      <td>From18to60</td>\n",
              "      <td>Over60</td>\n",
              "      <td>From18to60</td>\n",
              "    </tr>\n",
              "    <tr>\n",
              "      <th>dialysis_duration</th>\n",
              "      <td>14</td>\n",
              "      <td>12</td>\n",
              "      <td>1</td>\n",
              "      <td>7</td>\n",
              "      <td>12</td>\n",
              "    </tr>\n",
              "    <tr>\n",
              "      <th>gender</th>\n",
              "      <td>M</td>\n",
              "      <td>M</td>\n",
              "      <td>M</td>\n",
              "      <td>M</td>\n",
              "      <td>F</td>\n",
              "    </tr>\n",
              "    <tr>\n",
              "      <th>underlying_disease</th>\n",
              "      <td>Diabetes</td>\n",
              "      <td>others</td>\n",
              "      <td>others</td>\n",
              "      <td>others</td>\n",
              "      <td>GNS</td>\n",
              "    </tr>\n",
              "    <tr>\n",
              "      <th>Blood_type</th>\n",
              "      <td>B</td>\n",
              "      <td>AB</td>\n",
              "      <td>O</td>\n",
              "      <td>A</td>\n",
              "      <td>A</td>\n",
              "    </tr>\n",
              "    <tr>\n",
              "      <th>transfusions</th>\n",
              "      <td>1</td>\n",
              "      <td>0</td>\n",
              "      <td>0</td>\n",
              "      <td>0</td>\n",
              "      <td>0</td>\n",
              "    </tr>\n",
              "    <tr>\n",
              "      <th>gestation</th>\n",
              "      <td>No</td>\n",
              "      <td>No</td>\n",
              "      <td>No</td>\n",
              "      <td>No</td>\n",
              "      <td>No</td>\n",
              "    </tr>\n",
              "    <tr>\n",
              "      <th>prior_transplant</th>\n",
              "      <td>No</td>\n",
              "      <td>No</td>\n",
              "      <td>No</td>\n",
              "      <td>No</td>\n",
              "      <td>No</td>\n",
              "    </tr>\n",
              "    <tr>\n",
              "      <th>number_prior_transplant</th>\n",
              "      <td>0</td>\n",
              "      <td>0</td>\n",
              "      <td>0</td>\n",
              "      <td>0</td>\n",
              "      <td>0</td>\n",
              "    </tr>\n",
              "    <tr>\n",
              "      <th>cPRA_cat</th>\n",
              "      <td>Zero</td>\n",
              "      <td>Zero</td>\n",
              "      <td>Zero</td>\n",
              "      <td>Zero</td>\n",
              "      <td>Zero</td>\n",
              "    </tr>\n",
              "    <tr>\n",
              "      <th>HLA_A1</th>\n",
              "      <td>2</td>\n",
              "      <td>2</td>\n",
              "      <td>1</td>\n",
              "      <td>2</td>\n",
              "      <td>2</td>\n",
              "    </tr>\n",
              "    <tr>\n",
              "      <th>HLA_A2</th>\n",
              "      <td>3</td>\n",
              "      <td>68</td>\n",
              "      <td>2</td>\n",
              "      <td>29</td>\n",
              "      <td>23</td>\n",
              "    </tr>\n",
              "    <tr>\n",
              "      <th>HLA_B1</th>\n",
              "      <td>14</td>\n",
              "      <td>39</td>\n",
              "      <td>40</td>\n",
              "      <td>44</td>\n",
              "      <td>8</td>\n",
              "    </tr>\n",
              "    <tr>\n",
              "      <th>HLA_B2</th>\n",
              "      <td>51</td>\n",
              "      <td>40</td>\n",
              "      <td>57</td>\n",
              "      <td>0</td>\n",
              "      <td>44</td>\n",
              "    </tr>\n",
              "    <tr>\n",
              "      <th>HLA_DR1</th>\n",
              "      <td>1</td>\n",
              "      <td>4</td>\n",
              "      <td>4</td>\n",
              "      <td>7</td>\n",
              "      <td>8</td>\n",
              "    </tr>\n",
              "    <tr>\n",
              "      <th>HLA_DR2</th>\n",
              "      <td>13</td>\n",
              "      <td>0</td>\n",
              "      <td>4</td>\n",
              "      <td>11</td>\n",
              "      <td>15</td>\n",
              "    </tr>\n",
              "    <tr>\n",
              "      <th>DR_00</th>\n",
              "      <td>heterozygote</td>\n",
              "      <td>homozygote</td>\n",
              "      <td>heterozygote</td>\n",
              "      <td>heterozygote</td>\n",
              "      <td>heterozygote</td>\n",
              "    </tr>\n",
              "    <tr>\n",
              "      <th>B_00</th>\n",
              "      <td>heterozygote</td>\n",
              "      <td>heterozygote</td>\n",
              "      <td>heterozygote</td>\n",
              "      <td>homozygote</td>\n",
              "      <td>heterozygote</td>\n",
              "    </tr>\n",
              "    <tr>\n",
              "      <th>A_00</th>\n",
              "      <td>heterozygote</td>\n",
              "      <td>heterozygote</td>\n",
              "      <td>heterozygote</td>\n",
              "      <td>heterozygote</td>\n",
              "      <td>heterozygote</td>\n",
              "    </tr>\n",
              "    <tr>\n",
              "      <th>death</th>\n",
              "      <td>No</td>\n",
              "      <td>Yes</td>\n",
              "      <td>No</td>\n",
              "      <td>Yes</td>\n",
              "      <td>No</td>\n",
              "    </tr>\n",
              "    <tr>\n",
              "      <th>duration</th>\n",
              "      <td>5</td>\n",
              "      <td>9</td>\n",
              "      <td>45</td>\n",
              "      <td>43</td>\n",
              "      <td>15</td>\n",
              "    </tr>\n",
              "    <tr>\n",
              "      <th>dialysis_duration_cat</th>\n",
              "      <td>below45</td>\n",
              "      <td>below45</td>\n",
              "      <td>below45</td>\n",
              "      <td>below45</td>\n",
              "      <td>below45</td>\n",
              "    </tr>\n",
              "  </tbody>\n",
              "</table>\n",
              "</div>\n",
              "      <button class=\"colab-df-convert\" onclick=\"convertToInteractive('df-139892df-83f3-4aa4-a42e-22b2157fee60')\"\n",
              "              title=\"Convert this dataframe to an interactive table.\"\n",
              "              style=\"display:none;\">\n",
              "        \n",
              "  <svg xmlns=\"http://www.w3.org/2000/svg\" height=\"24px\"viewBox=\"0 0 24 24\"\n",
              "       width=\"24px\">\n",
              "    <path d=\"M0 0h24v24H0V0z\" fill=\"none\"/>\n",
              "    <path d=\"M18.56 5.44l.94 2.06.94-2.06 2.06-.94-2.06-.94-.94-2.06-.94 2.06-2.06.94zm-11 1L8.5 8.5l.94-2.06 2.06-.94-2.06-.94L8.5 2.5l-.94 2.06-2.06.94zm10 10l.94 2.06.94-2.06 2.06-.94-2.06-.94-.94-2.06-.94 2.06-2.06.94z\"/><path d=\"M17.41 7.96l-1.37-1.37c-.4-.4-.92-.59-1.43-.59-.52 0-1.04.2-1.43.59L10.3 9.45l-7.72 7.72c-.78.78-.78 2.05 0 2.83L4 21.41c.39.39.9.59 1.41.59.51 0 1.02-.2 1.41-.59l7.78-7.78 2.81-2.81c.8-.78.8-2.07 0-2.86zM5.41 20L4 18.59l7.72-7.72 1.47 1.35L5.41 20z\"/>\n",
              "  </svg>\n",
              "      </button>\n",
              "      \n",
              "  <style>\n",
              "    .colab-df-container {\n",
              "      display:flex;\n",
              "      flex-wrap:wrap;\n",
              "      gap: 12px;\n",
              "    }\n",
              "\n",
              "    .colab-df-convert {\n",
              "      background-color: #E8F0FE;\n",
              "      border: none;\n",
              "      border-radius: 50%;\n",
              "      cursor: pointer;\n",
              "      display: none;\n",
              "      fill: #1967D2;\n",
              "      height: 32px;\n",
              "      padding: 0 0 0 0;\n",
              "      width: 32px;\n",
              "    }\n",
              "\n",
              "    .colab-df-convert:hover {\n",
              "      background-color: #E2EBFA;\n",
              "      box-shadow: 0px 1px 2px rgba(60, 64, 67, 0.3), 0px 1px 3px 1px rgba(60, 64, 67, 0.15);\n",
              "      fill: #174EA6;\n",
              "    }\n",
              "\n",
              "    [theme=dark] .colab-df-convert {\n",
              "      background-color: #3B4455;\n",
              "      fill: #D2E3FC;\n",
              "    }\n",
              "\n",
              "    [theme=dark] .colab-df-convert:hover {\n",
              "      background-color: #434B5C;\n",
              "      box-shadow: 0px 1px 3px 1px rgba(0, 0, 0, 0.15);\n",
              "      filter: drop-shadow(0px 1px 2px rgba(0, 0, 0, 0.3));\n",
              "      fill: #FFFFFF;\n",
              "    }\n",
              "  </style>\n",
              "\n",
              "      <script>\n",
              "        const buttonEl =\n",
              "          document.querySelector('#df-139892df-83f3-4aa4-a42e-22b2157fee60 button.colab-df-convert');\n",
              "        buttonEl.style.display =\n",
              "          google.colab.kernel.accessAllowed ? 'block' : 'none';\n",
              "\n",
              "        async function convertToInteractive(key) {\n",
              "          const element = document.querySelector('#df-139892df-83f3-4aa4-a42e-22b2157fee60');\n",
              "          const dataTable =\n",
              "            await google.colab.kernel.invokeFunction('convertToInteractive',\n",
              "                                                     [key], {});\n",
              "          if (!dataTable) return;\n",
              "\n",
              "          const docLinkHtml = 'Like what you see? Visit the ' +\n",
              "            '<a target=\"_blank\" href=https://colab.research.google.com/notebooks/data_table.ipynb>data table notebook</a>'\n",
              "            + ' to learn more about interactive tables.';\n",
              "          element.innerHTML = '';\n",
              "          dataTable['output_type'] = 'display_data';\n",
              "          await google.colab.output.renderOutput(dataTable, element);\n",
              "          const docLink = document.createElement('div');\n",
              "          docLink.innerHTML = docLinkHtml;\n",
              "          element.appendChild(docLink);\n",
              "        }\n",
              "      </script>\n",
              "    </div>\n",
              "  </div>\n",
              "  "
            ]
          },
          "metadata": {},
          "execution_count": 73
        }
      ]
    },
    {
      "cell_type": "code",
      "source": [
        "print(df_cleaned['death'].value_counts(normalize=True))\n",
        "print(df_cleaned['death'].value_counts())\n",
        "\n",
        "df_cleaned['death'].value_counts().plot(kind='barh');"
      ],
      "metadata": {
        "colab": {
          "base_uri": "https://localhost:8080/",
          "height": 540
        },
        "id": "FnZBtcl3d6md",
        "outputId": "1add8da7-4d88-43c5-e73e-b77c4352c8c9"
      },
      "execution_count": 74,
      "outputs": [
        {
          "output_type": "stream",
          "name": "stdout",
          "text": [
            "No     0.823114\n",
            "Yes    0.176886\n",
            "Name: death, dtype: float64\n",
            "No     11303\n",
            "Yes     2429\n",
            "Name: death, dtype: int64\n"
          ]
        },
        {
          "output_type": "display_data",
          "data": {
            "text/plain": [
              "<Figure size 640x480 with 1 Axes>"
            ],
            "image/png": "[encoded data removed]"
          },
          "metadata": {}
        }
      ]
    },
    {
      "cell_type": "markdown",
      "source": [
        "#### 데이터 분리"
      ],
      "metadata": {
        "id": "pw47aaHAhp-h"
      }
    },
    {
      "cell_type": "code",
      "source": [
        "# 함수 선언\n",
        "from sklearn.linear_model import LogisticRegression\n",
        "from sklearn.ensemble import RandomForestClassifier\n",
        "from xgboost import XGBClassifier\n",
        "\n",
        "from sklearn.pipeline import make_pipeline\n",
        "from sklearn.preprocessing import StandardScaler\n",
        "from category_encoders import OneHotEncoder,OrdinalEncoder\n",
        "\n",
        "from sklearn.model_selection import cross_val_score, GridSearchCV, RandomizedSearchCV\n",
        "from sklearn.metrics import confusion_matrix, classification_report"
      ],
      "metadata": {
        "id": "xhGoy704eNPP"
      },
      "execution_count": 75,
      "outputs": []
    },
    {
      "cell_type": "code",
      "source": [
        "# 함수 선언\n",
        "from sklearn.model_selection import train_test_split\n",
        "\n",
        "# 타겟값 문자형 -> 수치형 변환\n",
        "df_cleaned['death'] = df_cleaned['death'].replace({'No':0, 'Yes':1})\n",
        "\n",
        "# 특성과 타겟 분리\n",
        "target = 'death'\n",
        "x = df_cleaned.drop(target, axis=1)\n",
        "y = df_cleaned.loc[:, target]\n",
        "\n",
        "# 학습/검증/테스트 데이터셋 분리\n",
        "x_train, x_test, y_train, y_test = train_test_split(x, y, test_size=0.2, random_state=42, stratify=y)\n",
        "x_train, x_val, y_train, y_val = train_test_split(x_train, y_train, test_size=0.2, random_state=42, stratify=y_train)\n",
        "\n",
        "# 확인\n",
        "print('x_train shape:', x_train.shape)\n",
        "print('x_val shape:', x_val.shape)\n",
        "print('x_test shape:', x_test.shape)"
      ],
      "metadata": {
        "colab": {
          "base_uri": "https://localhost:8080/"
        },
        "id": "bv7F2YgbcJ3G",
        "outputId": "af437113-fd30-4a09-f0f4-09b2265c0181"
      },
      "execution_count": 76,
      "outputs": [
        {
          "output_type": "stream",
          "name": "stdout",
          "text": [
            "x_train shape: (8788, 21)\n",
            "x_val shape: (2197, 21)\n",
            "x_test shape: (2747, 21)\n"
          ]
        }
      ]
    },
    {
      "cell_type": "markdown",
      "source": [
        "#### 기준 모델 "
      ],
      "metadata": {
        "id": "Hr-UY01dgs1s"
      }
    },
    {
      "cell_type": "code",
      "source": [
        "# 기준 모델 생성(최빈 클래스로 예측 수행)\n",
        "base_major = y_train.mode()[0]\n",
        "y_pred_base = [base_major]*len(y_train)\n",
        "\n",
        "# 정확도 확인\n",
        "from sklearn.metrics import accuracy_score\n",
        "print('base_model accuracy:', accuracy_score(y_train, y_pred_base).round(2))"
      ],
      "metadata": {
        "colab": {
          "base_uri": "https://localhost:8080/"
        },
        "id": "l71RoCq1fhmo",
        "outputId": "3a224c1d-a48d-4984-dd45-d71386b599cd"
      },
      "execution_count": 77,
      "outputs": [
        {
          "output_type": "stream",
          "name": "stdout",
          "text": [
            "base_model accuracy: 0.82\n"
          ]
        }
      ]
    },
    {
      "cell_type": "code",
      "source": [
        "# 검증 세트 정확도 확인\n",
        "y_pred_base_val = [base_major]*len(y_val)\n",
        "print('base_model_val accuracy:', accuracy_score(y_val, y_pred_base_val).round(2))"
      ],
      "metadata": {
        "colab": {
          "base_uri": "https://localhost:8080/"
        },
        "id": "BCP9U9Hng16s",
        "outputId": "ef7ae976-89e7-4bc3-8741-99107e21848c"
      },
      "execution_count": 78,
      "outputs": [
        {
          "output_type": "stream",
          "name": "stdout",
          "text": [
            "base_model_val accuracy: 0.82\n"
          ]
        }
      ]
    },
    {
      "cell_type": "code",
      "source": [
        "y_true0 = y_val.value_counts()[0]\n",
        "y_true1 = y_val.value_counts()[1]\n",
        "fn = len(y_pred_base_val) - y_true0\n",
        "base = pd.DataFrame(index = ['True 0', 'True1'], data = {'Predicted 0':[y_true0, fn], 'Predicted 1':[0,0]})\n",
        "print(base,'\\n')\n",
        "\n",
        "# fig, ax = plt.subplots()\n",
        "sns.heatmap(base, cmap=plt.cm.Blues, annot=True,fmt=\"d\")\n",
        "plt.title(f'Confusion matrix of Baseline, n = {len(y_val)}', fontsize=15)\n",
        "plt.show()"
      ],
      "metadata": {
        "colab": {
          "base_uri": "https://localhost:8080/",
          "height": 527
        },
        "id": "uBLNHmfxTH3m",
        "outputId": "8b75fa4f-c828-420e-e605-832f202b43f7"
      },
      "execution_count": 79,
      "outputs": [
        {
          "output_type": "stream",
          "name": "stdout",
          "text": [
            "        Predicted 0  Predicted 1\n",
            "True 0         1808            0\n",
            "True1           389            0 \n",
            "\n"
          ]
        },
        {
          "output_type": "display_data",
          "data": {
            "text/plain": [
              "<Figure size 640x480 with 2 Axes>"
            ],
            "image/png": "[encoded data removed]"
          },
          "metadata": {}
        }
      ]
    },
    {
      "cell_type": "markdown",
      "source": [
        "### (2) 다양한 모델 생성<br>\n",
        "- Logistic Regression\n",
        "- RandomForestClassifier\n",
        "- XGBoost"
      ],
      "metadata": {
        "id": "YEgYUOvlabdf"
      }
    },
    {
      "cell_type": "code",
      "source": [
        "# LogisticRegression 모델 선언 및 학습\n",
        "lr_pipe = make_pipeline(OneHotEncoder(),\n",
        "                        StandardScaler(),\n",
        "                        LogisticRegression(class_weight='balanced'))\n",
        "lr_pipe.fit(x_train, y_train)\n",
        "\n",
        "# 정확도 확인\n",
        "print('학습 정확도:', lr_pipe.score(x_train, y_train))\n",
        "print('검증 정확도:', lr_pipe.score(x_val, y_val),'\\n')\n",
        "\n",
        "# 검증 데이터 성능 확인\n",
        "y_val_lr = lr_pipe.predict(x_val)\n",
        "print(classification_report(y_val, y_val_lr))"
      ],
      "metadata": {
        "colab": {
          "base_uri": "https://localhost:8080/"
        },
        "id": "iGHR8Is0ifVy",
        "outputId": "9d824689-b3b9-497f-d2a4-37b88be6997d"
      },
      "execution_count": 80,
      "outputs": [
        {
          "output_type": "stream",
          "name": "stdout",
          "text": [
            "학습 정확도: 0.6376877560309513\n",
            "검증 정확도: 0.6263086026399636 \n",
            "\n",
            "              precision    recall  f1-score   support\n",
            "\n",
            "           0       0.87      0.64      0.74      1808\n",
            "           1       0.25      0.56      0.35       389\n",
            "\n",
            "    accuracy                           0.63      2197\n",
            "   macro avg       0.56      0.60      0.54      2197\n",
            "weighted avg       0.76      0.63      0.67      2197\n",
            "\n"
          ]
        }
      ]
    },
    {
      "cell_type": "code",
      "source": [
        "# RandomForestClassifier 모델 선언\n",
        "rf_pipe = make_pipeline(OrdinalEncoder(),\n",
        "                        StandardScaler(),\n",
        "                        RandomForestClassifier(class_weight='balanced',random_state=42))\n",
        "rf_pipe.fit(x_train, y_train)\n",
        "\n",
        "# 정확도 확인\n",
        "print('학습 정확도:', rf_pipe.score(x_train, y_train))\n",
        "print('검증 정확도:', rf_pipe.score(x_val, y_val),'\\n')\n",
        "\n",
        "# 성능 확인\n",
        "y_val_rf = rf_pipe.predict(x_val)\n",
        "print(classification_report(y_val, y_val_rf))"
      ],
      "metadata": {
        "colab": {
          "base_uri": "https://localhost:8080/"
        },
        "id": "sl4YbHGpjU8P",
        "outputId": "b8cf2cd6-aa45-4e5b-d36c-56652fa4c75a"
      },
      "execution_count": 81,
      "outputs": [
        {
          "output_type": "stream",
          "name": "stdout",
          "text": [
            "학습 정확도: 1.0\n",
            "검증 정확도: 0.8211197086936732 \n",
            "\n",
            "              precision    recall  f1-score   support\n",
            "\n",
            "           0       0.82      1.00      0.90      1808\n",
            "           1       0.25      0.01      0.01       389\n",
            "\n",
            "    accuracy                           0.82      2197\n",
            "   macro avg       0.54      0.50      0.46      2197\n",
            "weighted avg       0.72      0.82      0.74      2197\n",
            "\n"
          ]
        }
      ]
    },
    {
      "cell_type": "code",
      "source": [
        "from sklearn.metrics import plot_confusion_matrix\n",
        "import matplotlib.pyplot as plt\n",
        "\n",
        "fig, ax = plt.subplots()\n",
        "pcm = plot_confusion_matrix(rf_pipe, x_val, y_val,\n",
        "                            cmap=plt.cm.Blues,\n",
        "                            ax=ax)\n",
        "plt.title(f'Confusion matrix of Logistic Regression, n = {len(y_val)}', fontsize=15)\n",
        "plt.show()"
      ],
      "metadata": {
        "colab": {
          "base_uri": "https://localhost:8080/",
          "height": 474
        },
        "id": "yyZ2emuNVi1O",
        "outputId": "b3d2a24d-aea3-4976-9f6a-d91f3fd48cd1"
      },
      "execution_count": 82,
      "outputs": [
        {
          "output_type": "display_data",
          "data": {
            "text/plain": [
              "<Figure size 640x480 with 2 Axes>"
            ],
            "image/png": "[encoded data removed]"
          },
          "metadata": {}
        }
      ]
    },
    {
      "cell_type": "code",
      "source": [
        "# XGBoost 모델 선언\n",
        "xgb_pipe = make_pipeline(OrdinalEncoder(),\n",
        "                         StandardScaler(),\n",
        "                         XGBClassifier(random_state=42))\n",
        "xgb_pipe.fit(x_train, y_train)\n",
        "\n",
        "# 정확도 확인\n",
        "print('학습 정확도:', xgb_pipe.score(x_train, y_train))\n",
        "print('검증 정확도:', xgb_pipe.score(x_val, y_val),'\\n')\n",
        "\n",
        "# 성능 확인\n",
        "y_val_xgb = xgb_pipe.predict(x_val)\n",
        "print(classification_report(y_val, y_val_xgb))"
      ],
      "metadata": {
        "colab": {
          "base_uri": "https://localhost:8080/"
        },
        "id": "O2sJAX_WjOO5",
        "outputId": "9b673b92-0d11-4b57-9bad-3c165c4ad0bb"
      },
      "execution_count": 83,
      "outputs": [
        {
          "output_type": "stream",
          "name": "stdout",
          "text": [
            "학습 정확도: 0.9307009558488848\n",
            "검증 정확도: 0.8051888939462903 \n",
            "\n",
            "              precision    recall  f1-score   support\n",
            "\n",
            "           0       0.83      0.96      0.89      1808\n",
            "           1       0.31      0.08      0.13       389\n",
            "\n",
            "    accuracy                           0.81      2197\n",
            "   macro avg       0.57      0.52      0.51      2197\n",
            "weighted avg       0.74      0.81      0.76      2197\n",
            "\n"
          ]
        }
      ]
    },
    {
      "cell_type": "markdown",
      "source": [
        "### (3) 성능 튜닝<br>\n",
        "- 성능이 가장 좋았던 RandomForestClassifier 모델 성능을 튜닝한다. "
      ],
      "metadata": {
        "id": "AeOvM3dOnykX"
      }
    },
    {
      "cell_type": "markdown",
      "source": [
        "#### GridSearchCV"
      ],
      "metadata": {
        "id": "GkC8u_tRqCbX"
      }
    },
    {
      "cell_type": "code",
      "source": [
        "# 모델 선언\n",
        "rfc_pipe = make_pipeline(\n",
        "    OrdinalEncoder(),\n",
        "    StandardScaler(),\n",
        "    RandomForestClassifier(\n",
        "    random_state=42,\n",
        "    n_jobs=-1, \n",
        "    class_weight='balanced',\n",
        "  ),\n",
        ")\n",
        "\n",
        "# 하이퍼파라미터 지정\n",
        "params = {'randomforestclassifier__n_estimators':[100, 200],\n",
        "          'randomforestclassifier__max_depth':range(5, 16),}\n",
        "          # 'randomforestclassifier__min_samples_leaf':[8, 12, 18],\n",
        "          # 'randomforestclassifier__min_samples_split':[8, 16, 20],\n",
        "          # 'randomforestclassifier__max_features':['auto','sqrt']}\n",
        "\n",
        "# 모델 튜닝\n",
        "model_pipe = GridSearchCV(rfc_pipe,\n",
        "                          param_grid=params,                         \n",
        "                          cv=3,\n",
        "                          verbose=3,\n",
        "                          scoring='accuracy')\n",
        "\n",
        "# 학습\n",
        "model_pipe.fit(x_train, y_train)"
      ],
      "metadata": {
        "colab": {
          "base_uri": "https://localhost:8080/",
          "height": 1000
        },
        "id": "r4aJdAMrNm14",
        "outputId": "5e7eeb8f-2057-4f6b-9157-86379c1336c0"
      },
      "execution_count": 86,
      "outputs": [
        {
          "output_type": "stream",
          "name": "stdout",
          "text": [
            "Fitting 3 folds for each of 22 candidates, totalling 66 fits\n",
            "[CV 1/3] END randomforestclassifier__max_depth=5, randomforestclassifier__n_estimators=100;, score=0.683 total time=   2.4s\n",
            "[CV 2/3] END randomforestclassifier__max_depth=5, randomforestclassifier__n_estimators=100;, score=0.700 total time=   0.5s\n",
            "[CV 3/3] END randomforestclassifier__max_depth=5, randomforestclassifier__n_estimators=100;, score=0.653 total time=   0.5s\n",
            "[CV 1/3] END randomforestclassifier__max_depth=5, randomforestclassifier__n_estimators=200;, score=0.683 total time=   0.8s\n",
            "[CV 2/3] END randomforestclassifier__max_depth=5, randomforestclassifier__n_estimators=200;, score=0.706 total time=   0.8s\n",
            "[CV 3/3] END randomforestclassifier__max_depth=5, randomforestclassifier__n_estimators=200;, score=0.661 total time=   0.8s\n",
            "[CV 1/3] END randomforestclassifier__max_depth=6, randomforestclassifier__n_estimators=100;, score=0.691 total time=   0.6s\n",
            "[CV 2/3] END randomforestclassifier__max_depth=6, randomforestclassifier__n_estimators=100;, score=0.713 total time=   0.9s\n",
            "[CV 3/3] END randomforestclassifier__max_depth=6, randomforestclassifier__n_estimators=100;, score=0.691 total time=   1.0s\n",
            "[CV 1/3] END randomforestclassifier__max_depth=6, randomforestclassifier__n_estimators=200;, score=0.690 total time=   1.4s\n",
            "[CV 2/3] END randomforestclassifier__max_depth=6, randomforestclassifier__n_estimators=200;, score=0.715 total time=   2.6s\n",
            "[CV 3/3] END randomforestclassifier__max_depth=6, randomforestclassifier__n_estimators=200;, score=0.684 total time=   1.8s\n",
            "[CV 1/3] END randomforestclassifier__max_depth=7, randomforestclassifier__n_estimators=100;, score=0.712 total time=   0.6s\n",
            "[CV 2/3] END randomforestclassifier__max_depth=7, randomforestclassifier__n_estimators=100;, score=0.732 total time=   0.6s\n",
            "[CV 3/3] END randomforestclassifier__max_depth=7, randomforestclassifier__n_estimators=100;, score=0.693 total time=   0.6s\n",
            "[CV 1/3] END randomforestclassifier__max_depth=7, randomforestclassifier__n_estimators=200;, score=0.713 total time=   1.0s\n",
            "[CV 2/3] END randomforestclassifier__max_depth=7, randomforestclassifier__n_estimators=200;, score=0.735 total time=   0.9s\n",
            "[CV 3/3] END randomforestclassifier__max_depth=7, randomforestclassifier__n_estimators=200;, score=0.685 total time=   0.9s\n",
            "[CV 1/3] END randomforestclassifier__max_depth=8, randomforestclassifier__n_estimators=100;, score=0.729 total time=   0.6s\n",
            "[CV 2/3] END randomforestclassifier__max_depth=8, randomforestclassifier__n_estimators=100;, score=0.753 total time=   0.6s\n",
            "[CV 3/3] END randomforestclassifier__max_depth=8, randomforestclassifier__n_estimators=100;, score=0.724 total time=   0.6s\n",
            "[CV 1/3] END randomforestclassifier__max_depth=8, randomforestclassifier__n_estimators=200;, score=0.724 total time=   1.0s\n",
            "[CV 2/3] END randomforestclassifier__max_depth=8, randomforestclassifier__n_estimators=200;, score=0.753 total time=   1.0s\n",
            "[CV 3/3] END randomforestclassifier__max_depth=8, randomforestclassifier__n_estimators=200;, score=0.725 total time=   1.6s\n",
            "[CV 1/3] END randomforestclassifier__max_depth=9, randomforestclassifier__n_estimators=100;, score=0.743 total time=   1.1s\n",
            "[CV 2/3] END randomforestclassifier__max_depth=9, randomforestclassifier__n_estimators=100;, score=0.766 total time=   1.1s\n",
            "[CV 3/3] END randomforestclassifier__max_depth=9, randomforestclassifier__n_estimators=100;, score=0.737 total time=   1.2s\n",
            "[CV 1/3] END randomforestclassifier__max_depth=9, randomforestclassifier__n_estimators=200;, score=0.744 total time=   1.6s\n",
            "[CV 2/3] END randomforestclassifier__max_depth=9, randomforestclassifier__n_estimators=200;, score=0.765 total time=   1.0s\n",
            "[CV 3/3] END randomforestclassifier__max_depth=9, randomforestclassifier__n_estimators=200;, score=0.741 total time=   1.1s\n",
            "[CV 1/3] END randomforestclassifier__max_depth=10, randomforestclassifier__n_estimators=100;, score=0.756 total time=   0.6s\n",
            "[CV 2/3] END randomforestclassifier__max_depth=10, randomforestclassifier__n_estimators=100;, score=0.777 total time=   0.6s\n",
            "[CV 3/3] END randomforestclassifier__max_depth=10, randomforestclassifier__n_estimators=100;, score=0.753 total time=   0.6s\n",
            "[CV 1/3] END randomforestclassifier__max_depth=10, randomforestclassifier__n_estimators=200;, score=0.757 total time=   1.1s\n",
            "[CV 2/3] END randomforestclassifier__max_depth=10, randomforestclassifier__n_estimators=200;, score=0.779 total time=   1.1s\n",
            "[CV 3/3] END randomforestclassifier__max_depth=10, randomforestclassifier__n_estimators=200;, score=0.756 total time=   1.1s\n",
            "[CV 1/3] END randomforestclassifier__max_depth=11, randomforestclassifier__n_estimators=100;, score=0.775 total time=   0.7s\n",
            "[CV 2/3] END randomforestclassifier__max_depth=11, randomforestclassifier__n_estimators=100;, score=0.790 total time=   0.7s\n",
            "[CV 3/3] END randomforestclassifier__max_depth=11, randomforestclassifier__n_estimators=100;, score=0.764 total time=   0.7s\n",
            "[CV 1/3] END randomforestclassifier__max_depth=11, randomforestclassifier__n_estimators=200;, score=0.774 total time=   1.8s\n",
            "[CV 2/3] END randomforestclassifier__max_depth=11, randomforestclassifier__n_estimators=200;, score=0.792 total time=   2.4s\n",
            "[CV 3/3] END randomforestclassifier__max_depth=11, randomforestclassifier__n_estimators=200;, score=0.772 total time=   2.9s\n",
            "[CV 1/3] END randomforestclassifier__max_depth=12, randomforestclassifier__n_estimators=100;, score=0.784 total time=   1.5s\n",
            "[CV 2/3] END randomforestclassifier__max_depth=12, randomforestclassifier__n_estimators=100;, score=0.797 total time=   0.8s\n",
            "[CV 3/3] END randomforestclassifier__max_depth=12, randomforestclassifier__n_estimators=100;, score=0.779 total time=   0.7s\n",
            "[CV 1/3] END randomforestclassifier__max_depth=12, randomforestclassifier__n_estimators=200;, score=0.787 total time=   1.2s\n",
            "[CV 2/3] END randomforestclassifier__max_depth=12, randomforestclassifier__n_estimators=200;, score=0.795 total time=   1.2s\n",
            "[CV 3/3] END randomforestclassifier__max_depth=12, randomforestclassifier__n_estimators=200;, score=0.788 total time=   1.2s\n",
            "[CV 1/3] END randomforestclassifier__max_depth=13, randomforestclassifier__n_estimators=100;, score=0.796 total time=   0.7s\n",
            "[CV 2/3] END randomforestclassifier__max_depth=13, randomforestclassifier__n_estimators=100;, score=0.803 total time=   0.7s\n",
            "[CV 3/3] END randomforestclassifier__max_depth=13, randomforestclassifier__n_estimators=100;, score=0.793 total time=   0.7s\n",
            "[CV 1/3] END randomforestclassifier__max_depth=13, randomforestclassifier__n_estimators=200;, score=0.799 total time=   1.3s\n",
            "[CV 2/3] END randomforestclassifier__max_depth=13, randomforestclassifier__n_estimators=200;, score=0.804 total time=   1.6s\n",
            "[CV 3/3] END randomforestclassifier__max_depth=13, randomforestclassifier__n_estimators=200;, score=0.800 total time=   2.3s\n",
            "[CV 1/3] END randomforestclassifier__max_depth=14, randomforestclassifier__n_estimators=100;, score=0.802 total time=   1.3s\n",
            "[CV 2/3] END randomforestclassifier__max_depth=14, randomforestclassifier__n_estimators=100;, score=0.809 total time=   1.4s\n",
            "[CV 3/3] END randomforestclassifier__max_depth=14, randomforestclassifier__n_estimators=100;, score=0.797 total time=   0.9s\n",
            "[CV 1/3] END randomforestclassifier__max_depth=14, randomforestclassifier__n_estimators=200;, score=0.804 total time=   1.3s\n",
            "[CV 2/3] END randomforestclassifier__max_depth=14, randomforestclassifier__n_estimators=200;, score=0.809 total time=   1.3s\n",
            "[CV 3/3] END randomforestclassifier__max_depth=14, randomforestclassifier__n_estimators=200;, score=0.797 total time=   1.3s\n",
            "[CV 1/3] END randomforestclassifier__max_depth=15, randomforestclassifier__n_estimators=100;, score=0.811 total time=   0.8s\n",
            "[CV 2/3] END randomforestclassifier__max_depth=15, randomforestclassifier__n_estimators=100;, score=0.815 total time=   0.8s\n",
            "[CV 3/3] END randomforestclassifier__max_depth=15, randomforestclassifier__n_estimators=100;, score=0.806 total time=   0.8s\n",
            "[CV 1/3] END randomforestclassifier__max_depth=15, randomforestclassifier__n_estimators=200;, score=0.812 total time=   1.4s\n",
            "[CV 2/3] END randomforestclassifier__max_depth=15, randomforestclassifier__n_estimators=200;, score=0.814 total time=   1.4s\n",
            "[CV 3/3] END randomforestclassifier__max_depth=15, randomforestclassifier__n_estimators=200;, score=0.806 total time=   2.0s\n"
          ]
        },
        {
          "output_type": "execute_result",
          "data": {
            "text/plain": [
              "GridSearchCV(cv=3,\n",
              "             estimator=Pipeline(steps=[('ordinalencoder', OrdinalEncoder()),\n",
              "                                       ('standardscaler', StandardScaler()),\n",
              "                                       ('randomforestclassifier',\n",
              "                                        RandomForestClassifier(class_weight='balanced',\n",
              "                                                               n_jobs=-1,\n",
              "                                                               random_state=42))]),\n",
              "             param_grid={'randomforestclassifier__max_depth': range(5, 16),\n",
              "                         'randomforestclassifier__n_estimators': [100, 200]},\n",
              "             scoring='accuracy', verbose=3)"
            ],
            "text/html": [
              "<style>#sk-container-id-1 {color: black;background-color: white;}#sk-container-id-1 pre{padding: 0;}#sk-container-id-1 div.sk-toggleable {background-color: white;}#sk-container-id-1 label.sk-toggleable__label {cursor: pointer;display: block;width: 100%;margin-bottom: 0;padding: 0.3em;box-sizing: border-box;text-align: center;}#sk-container-id-1 label.sk-toggleable__label-arrow:before {content: \"▸\";float: left;margin-right: 0.25em;color: #696969;}#sk-container-id-1 label.sk-toggleable__label-arrow:hover:before {color: black;}#sk-container-id-1 div.sk-estimator:hover label.sk-toggleable__label-arrow:before {color: black;}#sk-container-id-1 div.sk-toggleable__content {max-height: 0;max-width: 0;overflow: hidden;text-align: left;background-color: #f0f8ff;}#sk-container-id-1 div.sk-toggleable__content pre {margin: 0.2em;color: black;border-radius: 0.25em;background-color: #f0f8ff;}#sk-container-id-1 input.sk-toggleable__control:checked~div.sk-toggleable__content {max-height: 200px;max-width: 100%;overflow: auto;}#sk-container-id-1 input.sk-toggleable__control:checked~label.sk-toggleable__label-arrow:before {content: \"▾\";}#sk-container-id-1 div.sk-estimator input.sk-toggleable__control:checked~label.sk-toggleable__label {background-color: #d4ebff;}#sk-container-id-1 div.sk-label input.sk-toggleable__control:checked~label.sk-toggleable__label {background-color: #d4ebff;}#sk-container-id-1 input.sk-hidden--visually {border: 0;clip: rect(1px 1px 1px 1px);clip: rect(1px, 1px, 1px, 1px);height: 1px;margin: -1px;overflow: hidden;padding: 0;position: absolute;width: 1px;}#sk-container-id-1 div.sk-estimator {font-family: monospace;background-color: #f0f8ff;border: 1px dotted black;border-radius: 0.25em;box-sizing: border-box;margin-bottom: 0.5em;}#sk-container-id-1 div.sk-estimator:hover {background-color: #d4ebff;}#sk-container-id-1 div.sk-parallel-item::after {content: \"\";width: 100%;border-bottom: 1px solid gray;flex-grow: 1;}#sk-container-id-1 div.sk-label:hover label.sk-toggleable__label {background-color: #d4ebff;}#sk-container-id-1 div.sk-serial::before {content: \"\";position: absolute;border-left: 1px solid gray;box-sizing: border-box;top: 0;bottom: 0;left: 50%;z-index: 0;}#sk-container-id-1 div.sk-serial {display: flex;flex-direction: column;align-items: center;background-color: white;padding-right: 0.2em;padding-left: 0.2em;position: relative;}#sk-container-id-1 div.sk-item {position: relative;z-index: 1;}#sk-container-id-1 div.sk-parallel {display: flex;align-items: stretch;justify-content: center;background-color: white;position: relative;}#sk-container-id-1 div.sk-item::before, #sk-container-id-1 div.sk-parallel-item::before {content: \"\";position: absolute;border-left: 1px solid gray;box-sizing: border-box;top: 0;bottom: 0;left: 50%;z-index: -1;}#sk-container-id-1 div.sk-parallel-item {display: flex;flex-direction: column;z-index: 1;position: relative;background-color: white;}#sk-container-id-1 div.sk-parallel-item:first-child::after {align-self: flex-end;width: 50%;}#sk-container-id-1 div.sk-parallel-item:last-child::after {align-self: flex-start;width: 50%;}#sk-container-id-1 div.sk-parallel-item:only-child::after {width: 0;}#sk-container-id-1 div.sk-dashed-wrapped {border: 1px dashed gray;margin: 0 0.4em 0.5em 0.4em;box-sizing: border-box;padding-bottom: 0.4em;background-color: white;}#sk-container-id-1 div.sk-label label {font-family: monospace;font-weight: bold;display: inline-block;line-height: 1.2em;}#sk-container-id-1 div.sk-label-container {text-align: center;}#sk-container-id-1 div.sk-container {/* jupyter's `normalize.less` sets `[hidden] { display: none; }` but bootstrap.min.css set `[hidden] { display: none !important; }` so we also need the `!important` here to be able to override the default hidden behavior on the sphinx rendered scikit-learn.org. See: https://github.com/scikit-learn/scikit-learn/issues/21755 */display: inline-block !important;position: relative;}#sk-container-id-1 div.sk-text-repr-fallback {display: none;}</style><div id=\"sk-container-id-1\" class=\"sk-top-container\"><div class=\"sk-text-repr-fallback\"><pre>GridSearchCV(cv=3,\n",
              "             estimator=Pipeline(steps=[(&#x27;ordinalencoder&#x27;, OrdinalEncoder()),\n",
              "                                       (&#x27;standardscaler&#x27;, StandardScaler()),\n",
              "                                       (&#x27;randomforestclassifier&#x27;,\n",
              "                                        RandomForestClassifier(class_weight=&#x27;balanced&#x27;,\n",
              "                                                               n_jobs=-1,\n",
              "                                                               random_state=42))]),\n",
              "             param_grid={&#x27;randomforestclassifier__max_depth&#x27;: range(5, 16),\n",
              "                         &#x27;randomforestclassifier__n_estimators&#x27;: [100, 200]},\n",
              "             scoring=&#x27;accuracy&#x27;, verbose=3)</pre><b>In a Jupyter environment, please rerun this cell to show the HTML representation or trust the notebook. <br />On GitHub, the HTML representation is unable to render, please try loading this page with nbviewer.org.</b></div><div class=\"sk-container\" hidden><div class=\"sk-item sk-dashed-wrapped\"><div class=\"sk-label-container\"><div class=\"sk-label sk-toggleable\"><input class=\"sk-toggleable__control sk-hidden--visually\" id=\"sk-estimator-id-1\" type=\"checkbox\" ><label for=\"sk-estimator-id-1\" class=\"sk-toggleable__label sk-toggleable__label-arrow\">GridSearchCV</label><div class=\"sk-toggleable__content\"><pre>GridSearchCV(cv=3,\n",
              "             estimator=Pipeline(steps=[(&#x27;ordinalencoder&#x27;, OrdinalEncoder()),\n",
              "                                       (&#x27;standardscaler&#x27;, StandardScaler()),\n",
              "                                       (&#x27;randomforestclassifier&#x27;,\n",
              "                                        RandomForestClassifier(class_weight=&#x27;balanced&#x27;,\n",
              "                                                               n_jobs=-1,\n",
              "                                                               random_state=42))]),\n",
              "             param_grid={&#x27;randomforestclassifier__max_depth&#x27;: range(5, 16),\n",
              "                         &#x27;randomforestclassifier__n_estimators&#x27;: [100, 200]},\n",
              "             scoring=&#x27;accuracy&#x27;, verbose=3)</pre></div></div></div><div class=\"sk-parallel\"><div class=\"sk-parallel-item\"><div class=\"sk-item\"><div class=\"sk-label-container\"><div class=\"sk-label sk-toggleable\"><input class=\"sk-toggleable__control sk-hidden--visually\" id=\"sk-estimator-id-2\" type=\"checkbox\" ><label for=\"sk-estimator-id-2\" class=\"sk-toggleable__label sk-toggleable__label-arrow\">estimator: Pipeline</label><div class=\"sk-toggleable__content\"><pre>Pipeline(steps=[(&#x27;ordinalencoder&#x27;, OrdinalEncoder()),\n",
              "                (&#x27;standardscaler&#x27;, StandardScaler()),\n",
              "                (&#x27;randomforestclassifier&#x27;,\n",
              "                 RandomForestClassifier(class_weight=&#x27;balanced&#x27;, n_jobs=-1,\n",
              "                                        random_state=42))])</pre></div></div></div><div class=\"sk-serial\"><div class=\"sk-item\"><div class=\"sk-serial\"><div class=\"sk-item\"><div class=\"sk-estimator sk-toggleable\"><input class=\"sk-toggleable__control sk-hidden--visually\" id=\"sk-estimator-id-3\" type=\"checkbox\" ><label for=\"sk-estimator-id-3\" class=\"sk-toggleable__label sk-toggleable__label-arrow\">OrdinalEncoder</label><div class=\"sk-toggleable__content\"><pre>OrdinalEncoder()</pre></div></div></div><div class=\"sk-item\"><div class=\"sk-estimator sk-toggleable\"><input class=\"sk-toggleable__control sk-hidden--visually\" id=\"sk-estimator-id-4\" type=\"checkbox\" ><label for=\"sk-estimator-id-4\" class=\"sk-toggleable__label sk-toggleable__label-arrow\">StandardScaler</label><div class=\"sk-toggleable__content\"><pre>StandardScaler()</pre></div></div></div><div class=\"sk-item\"><div class=\"sk-estimator sk-toggleable\"><input class=\"sk-toggleable__control sk-hidden--visually\" id=\"sk-estimator-id-5\" type=\"checkbox\" ><label for=\"sk-estimator-id-5\" class=\"sk-toggleable__label sk-toggleable__label-arrow\">RandomForestClassifier</label><div class=\"sk-toggleable__content\"><pre>RandomForestClassifier(class_weight=&#x27;balanced&#x27;, n_jobs=-1, random_state=42)</pre></div></div></div></div></div></div></div></div></div></div></div></div>"
            ]
          },
          "metadata": {},
          "execution_count": 86
        }
      ]
    },
    {
      "cell_type": "code",
      "source": [
        "# 최적 파라미터, 예측 최고 성능 확인\n",
        "print('최적 파라미터:',model_pipe.best_params_)\n",
        "print('최고 예측 정확도:',model_pipe.best_score_)"
      ],
      "metadata": {
        "colab": {
          "base_uri": "https://localhost:8080/"
        },
        "id": "SnIQy36XLWnB",
        "outputId": "0ea76a86-5726-4f8e-cf11-bfd61b94c05a"
      },
      "execution_count": 87,
      "outputs": [
        {
          "output_type": "stream",
          "name": "stdout",
          "text": [
            "최적 파라미터: {'randomforestclassifier__max_depth': 15, 'randomforestclassifier__n_estimators': 200}\n",
            "최고 예측 정확도: 0.8107645835785179\n"
          ]
        }
      ]
    },
    {
      "cell_type": "code",
      "source": [
        "# 정확도 확인\n",
        "print('검증 정확도:', model_pipe.score(x_val, y_val))"
      ],
      "metadata": {
        "colab": {
          "base_uri": "https://localhost:8080/"
        },
        "id": "oj9C4FviW6Lg",
        "outputId": "ec1c6da8-08de-42b6-8b53-f337e81b56ab"
      },
      "execution_count": 89,
      "outputs": [
        {
          "output_type": "stream",
          "name": "stdout",
          "text": [
            "검증 정확도: 0.8083750568957669\n"
          ]
        }
      ]
    },
    {
      "cell_type": "code",
      "source": [
        "# 튜닝된 모델의 검증 데이터 classification score 확인\n",
        "y_val_pred = model_pipe.predict(x_val)\n",
        "print(classification_report(y_val, y_val_pred))"
      ],
      "metadata": {
        "colab": {
          "base_uri": "https://localhost:8080/"
        },
        "id": "A1YL_nsePyGG",
        "outputId": "ff8d09f3-9524-4714-85ab-1e5edf98d895"
      },
      "execution_count": 90,
      "outputs": [
        {
          "output_type": "stream",
          "name": "stdout",
          "text": [
            "              precision    recall  f1-score   support\n",
            "\n",
            "           0       0.83      0.96      0.89      1808\n",
            "           1       0.34      0.09      0.14       389\n",
            "\n",
            "    accuracy                           0.81      2197\n",
            "   macro avg       0.59      0.53      0.52      2197\n",
            "weighted avg       0.74      0.81      0.76      2197\n",
            "\n"
          ]
        }
      ]
    },
    {
      "cell_type": "code",
      "source": [
        "# 튜닝된 모델의 검증 데이터 confusion matrix 확인\n",
        "fig, ax = plt.subplots()\n",
        "pcm = plot_confusion_matrix(model_pipe, x_val, y_val,\n",
        "                            cmap=plt.cm.Blues,\n",
        "                            ax=ax)\n",
        "plt.title(f'Confusion matrix of RandomForestClassifier, n = {len(y_val)}', fontsize=15)\n",
        "plt.show()"
      ],
      "metadata": {
        "colab": {
          "base_uri": "https://localhost:8080/",
          "height": 474
        },
        "id": "Mdqzep9zUFZ-",
        "outputId": "405ae68a-ebd0-49fb-ffb6-51f9ea846b89"
      },
      "execution_count": 91,
      "outputs": [
        {
          "output_type": "display_data",
          "data": {
            "text/plain": [
              "<Figure size 640x480 with 2 Axes>"
            ],
            "image/png": "[encoded data removed]"
          },
          "metadata": {}
        }
      ]
    },
    {
      "cell_type": "markdown",
      "source": [
        "## **3. Model Evaluation**<br>\n",
        "- 최적으로 튜닝된 모델에 대해 예측과 평가를 실행한다. "
      ],
      "metadata": {
        "id": "vDPRDRHaf4YB"
      }
    },
    {
      "cell_type": "code",
      "source": [
        "# 테스트 데이터셋 예측\n",
        "y_pred = model_pipe.predict(x_test)"
      ],
      "metadata": {
        "id": "dG3ITVHgMQl2"
      },
      "execution_count": null,
      "outputs": []
    },
    {
      "cell_type": "code",
      "source": [
        "# confusion matrix\n",
        "fig, ax = plt.subplots()\n",
        "pcm = plot_confusion_matrix(model_pipe, x_test, y_test,\n",
        "                            cmap=plt.cm.Blues,\n",
        "                            ax=ax)\n",
        "plt.title(f'Confusion matrix of Logistic Regression, n = {len(y_test)}', fontsize=15)\n",
        "plt.show()"
      ],
      "metadata": {
        "id": "HkJEBlunMep8"
      },
      "execution_count": null,
      "outputs": []
    },
    {
      "cell_type": "code",
      "source": [
        "# classification report\n",
        "print(classification_report(y_test, y_pred))"
      ],
      "metadata": {
        "id": "nk8BAMHxMhB2"
      },
      "execution_count": null,
      "outputs": []
    },
    {
      "cell_type": "markdown",
      "source": [
        "## **4. Model Intrepretation**"
      ],
      "metadata": {
        "id": "ChxvERV0f9po"
      }
    },
    {
      "cell_type": "markdown",
      "source": [
        "### (1) 변수 중요도 비교<br>\n",
        "- 모델 간 변수 중요도를 비교한다. "
      ],
      "metadata": {
        "id": "1cu525kBatb7"
      }
    },
    {
      "cell_type": "code",
      "source": [
        "# 변수 중요도 시각화\n",
        "tmp = pd.DataFrame()\n",
        "tmp['feature'] = list(x)\n",
        "tmp['importance'] = model_pipe.best_estimator_[1].feature_importances_\n",
        "tmp.sort_values(by='importance', inplace=True)\n",
        "\n",
        "plt.figure(figsize=(5, 8))\n",
        "plt.barh(y=tmp['feature'], width=tmp['importance'] )\n",
        "plt.show()"
      ],
      "metadata": {
        "id": "19nYdaAAOqDx"
      },
      "execution_count": null,
      "outputs": []
    },
    {
      "cell_type": "code",
      "source": [
        "%matplotlib inline\n",
        "import matplotlib.pyplot as plt\n",
        "\n",
        "model_rf = model_pipe.named_steps['randomforestclassifier']\n",
        "importances = pd.Series(model_rf.feature_importances_, x_train.columns)\n",
        "plt.figure(figsize=(10, 20))\n",
        "importances.sort_values().plot.barh();"
      ],
      "metadata": {
        "id": "yljXoNGLXeLV"
      },
      "execution_count": null,
      "outputs": []
    },
    {
      "cell_type": "markdown",
      "source": [
        "### (2) PDP<br>\n",
        "- 중요한 특성의 값에 따라 예측값이 어떻게 변하는지 분석한다. "
      ],
      "metadata": {
        "id": "cOZnnZySa8XA"
      }
    },
    {
      "cell_type": "markdown",
      "source": [
        "### (3) ICE plot<br>\n",
        "- 특정의 특성 값에 따른 예측 영향도를 파악하기 위해 함수를 만들고 그래프를 그린다. "
      ],
      "metadata": {
        "id": "a9DcTI_QbJ_f"
      }
    },
    {
      "cell_type": "markdown",
      "source": [
        "### (4) Class Imbalance 문제 해결<br>\n"
      ],
      "metadata": {
        "id": "srLfXo42bc-w"
      }
    },
    {
      "cell_type": "markdown",
      "source": [
        "> **🔎 모델링 및 모델 해석 후의 체크 질문**\n",
        "1. 모델을 학습한 후에 베이스라인보다 잘 나왔나요? 그렇지 않다면 그 이유는 무엇일까요?\n",
        "2. 모델 성능 개선을 위해 어떤 방법을 적용했나요? 그 방법을 선택한 이유는 무엇인가요?\n",
        "3. 최종 모델과 일반화 성능에 관해 설명하세요.\n",
        "4. 모델이 예측을 수행하기 위해서 어떤 특성을 활용했나요?"
      ],
      "metadata": {
        "id": "3WaUYmpYc9o6"
      }
    },
    {
      "cell_type": "markdown",
      "source": [
        "## **5. Business Insight**"
      ],
      "metadata": {
        "id": "pCowTs__gIga"
      }
    },
    {
      "cell_type": "markdown",
      "source": [
        "### (1) 모델의 confusion matrix"
      ],
      "metadata": {
        "id": "-4zxmC42boxW"
      }
    },
    {
      "cell_type": "markdown",
      "source": [
        "### (2) 비즈니스 가치 matrix"
      ],
      "metadata": {
        "id": "ChE5lONXb7ci"
      }
    }
  ]
}